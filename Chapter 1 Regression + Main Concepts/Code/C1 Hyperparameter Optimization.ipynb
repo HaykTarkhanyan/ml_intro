{
 "cells": [
  {
   "cell_type": "markdown",
   "metadata": {},
   "source": [
    "# Hyperparameter tuning"
   ]
  },
  {
   "cell_type": "markdown",
   "metadata": {},
   "source": [
    "## Train Val Test split"
   ]
  },
  {
   "cell_type": "markdown",
   "metadata": {},
   "source": [
    "Role of Each Split\n",
    "1. **Training Set:** Used to fit or train your model parameters (weights, decision tree splits, etc.).\n",
    "2. **Validation Set:** Used to tune hyperparameters or compare different models. It provides feedback on how different settings affect performance before touching the test set.\n",
    "3. **Test Set:** Used **once** at the end to get an unbiased estimate of the final chosen model’s performance.\n",
    "\n",
    "The same way we need a dataset separate from the training set to tune hyperparameters, we need a separate dataset to evaluate the model’s final performance. This is the test set. "
   ]
  },
  {
   "cell_type": "markdown",
   "metadata": {},
   "source": [
    "### Data Prep"
   ]
  },
  {
   "cell_type": "code",
   "execution_count": 1,
   "metadata": {},
   "outputs": [],
   "source": [
    "import os\n",
    "import pandas as pd \n",
    "import plotly.express as px\n",
    "\n",
    "from sklearn.model_selection import train_test_split\n",
    "from sklearn.linear_model import Ridge\n",
    "from sklearn.metrics import mean_squared_error"
   ]
  },
  {
   "cell_type": "code",
   "execution_count": 3,
   "metadata": {},
   "outputs": [],
   "source": [
    "if \"House_Rent_Dataset.csv\" in os.listdir():\n",
    "    path = \"House_Rent_Dataset.csv\"\n",
    "else:\n",
    "    import kagglehub\n",
    "    path = kagglehub.dataset_download(\"iamsouravbanerjee/house-rent-prediction-dataset\")\n",
    "    path = os.path.join(path, \"House_Rent_Dataset.csv\")\n",
    "    \n",
    "df = pd.read_csv(path)"
   ]
  },
  {
   "cell_type": "code",
   "execution_count": 4,
   "metadata": {},
   "outputs": [
    {
     "name": "stdout",
     "output_type": "stream",
     "text": [
      "Sizes: Train=3322, Val=712, Test=712\n"
     ]
    }
   ],
   "source": [
    "target = \"Rent\"\n",
    "\n",
    "# Split into train val, test\n",
    "train_size = 0.7\n",
    "\n",
    "X = df.drop(columns=[target])\n",
    "y = df[target]\n",
    "\n",
    "X_train, X_test, y_train, y_test = train_test_split(X, y, \n",
    "                                                    train_size=train_size, random_state=5090)\n",
    "X_test, X_val, y_test, y_val = train_test_split(X_test, y_test, \n",
    "                                                  test_size=0.5, random_state=5090)\n",
    "\n",
    "print(f\"Sizes: Train={len(X_train)}, Val={len(X_val)}, Test={len(X_test)}\")"
   ]
  },
  {
   "cell_type": "markdown",
   "metadata": {},
   "source": [
    "Note: It would have been better to do cross-validation here"
   ]
  },
  {
   "cell_type": "code",
   "execution_count": 6,
   "metadata": {},
   "outputs": [],
   "source": [
    "COLS_TO_DROP = [\"Posted On\", \"Floor\", \"Area Locality\"]\n",
    "\n",
    "def basic_preprocessing(df):\n",
    "    df = df.drop(columns=COLS_TO_DROP)\n",
    "    df.rename(columns={\"Furnishing Status\": \"Furnish\"}, inplace=True)\n",
    "    return df"
   ]
  },
  {
   "cell_type": "code",
   "execution_count": 7,
   "metadata": {},
   "outputs": [
    {
     "data": {
      "text/html": [
       "<div>\n",
       "<style scoped>\n",
       "    .dataframe tbody tr th:only-of-type {\n",
       "        vertical-align: middle;\n",
       "    }\n",
       "\n",
       "    .dataframe tbody tr th {\n",
       "        vertical-align: top;\n",
       "    }\n",
       "\n",
       "    .dataframe thead th {\n",
       "        text-align: right;\n",
       "    }\n",
       "</style>\n",
       "<table border=\"1\" class=\"dataframe\">\n",
       "  <thead>\n",
       "    <tr style=\"text-align: right;\">\n",
       "      <th></th>\n",
       "      <th>BHK</th>\n",
       "      <th>Size</th>\n",
       "      <th>Area Type</th>\n",
       "      <th>City</th>\n",
       "      <th>Furnish</th>\n",
       "      <th>Tenant Preferred</th>\n",
       "      <th>Bathroom</th>\n",
       "      <th>Point of Contact</th>\n",
       "    </tr>\n",
       "  </thead>\n",
       "  <tbody>\n",
       "    <tr>\n",
       "      <th>284</th>\n",
       "      <td>2</td>\n",
       "      <td>900</td>\n",
       "      <td>Super Area</td>\n",
       "      <td>Kolkata</td>\n",
       "      <td>Unfurnished</td>\n",
       "      <td>Bachelors/Family</td>\n",
       "      <td>1</td>\n",
       "      <td>Contact Owner</td>\n",
       "    </tr>\n",
       "    <tr>\n",
       "      <th>257</th>\n",
       "      <td>2</td>\n",
       "      <td>450</td>\n",
       "      <td>Carpet Area</td>\n",
       "      <td>Kolkata</td>\n",
       "      <td>Unfurnished</td>\n",
       "      <td>Bachelors</td>\n",
       "      <td>1</td>\n",
       "      <td>Contact Owner</td>\n",
       "    </tr>\n",
       "    <tr>\n",
       "      <th>872</th>\n",
       "      <td>2</td>\n",
       "      <td>400</td>\n",
       "      <td>Carpet Area</td>\n",
       "      <td>Mumbai</td>\n",
       "      <td>Furnished</td>\n",
       "      <td>Bachelors/Family</td>\n",
       "      <td>1</td>\n",
       "      <td>Contact Owner</td>\n",
       "    </tr>\n",
       "    <tr>\n",
       "      <th>3749</th>\n",
       "      <td>3</td>\n",
       "      <td>1610</td>\n",
       "      <td>Super Area</td>\n",
       "      <td>Chennai</td>\n",
       "      <td>Semi-Furnished</td>\n",
       "      <td>Family</td>\n",
       "      <td>3</td>\n",
       "      <td>Contact Agent</td>\n",
       "    </tr>\n",
       "    <tr>\n",
       "      <th>2732</th>\n",
       "      <td>2</td>\n",
       "      <td>1000</td>\n",
       "      <td>Super Area</td>\n",
       "      <td>Delhi</td>\n",
       "      <td>Semi-Furnished</td>\n",
       "      <td>Family</td>\n",
       "      <td>1</td>\n",
       "      <td>Contact Owner</td>\n",
       "    </tr>\n",
       "    <tr>\n",
       "      <th>...</th>\n",
       "      <td>...</td>\n",
       "      <td>...</td>\n",
       "      <td>...</td>\n",
       "      <td>...</td>\n",
       "      <td>...</td>\n",
       "      <td>...</td>\n",
       "      <td>...</td>\n",
       "      <td>...</td>\n",
       "    </tr>\n",
       "    <tr>\n",
       "      <th>2357</th>\n",
       "      <td>2</td>\n",
       "      <td>850</td>\n",
       "      <td>Super Area</td>\n",
       "      <td>Bangalore</td>\n",
       "      <td>Semi-Furnished</td>\n",
       "      <td>Bachelors/Family</td>\n",
       "      <td>2</td>\n",
       "      <td>Contact Owner</td>\n",
       "    </tr>\n",
       "    <tr>\n",
       "      <th>3842</th>\n",
       "      <td>2</td>\n",
       "      <td>1000</td>\n",
       "      <td>Carpet Area</td>\n",
       "      <td>Chennai</td>\n",
       "      <td>Unfurnished</td>\n",
       "      <td>Bachelors</td>\n",
       "      <td>2</td>\n",
       "      <td>Contact Owner</td>\n",
       "    </tr>\n",
       "    <tr>\n",
       "      <th>1799</th>\n",
       "      <td>1</td>\n",
       "      <td>500</td>\n",
       "      <td>Super Area</td>\n",
       "      <td>Bangalore</td>\n",
       "      <td>Unfurnished</td>\n",
       "      <td>Bachelors/Family</td>\n",
       "      <td>1</td>\n",
       "      <td>Contact Owner</td>\n",
       "    </tr>\n",
       "    <tr>\n",
       "      <th>3931</th>\n",
       "      <td>2</td>\n",
       "      <td>1800</td>\n",
       "      <td>Super Area</td>\n",
       "      <td>Hyderabad</td>\n",
       "      <td>Furnished</td>\n",
       "      <td>Bachelors/Family</td>\n",
       "      <td>2</td>\n",
       "      <td>Contact Owner</td>\n",
       "    </tr>\n",
       "    <tr>\n",
       "      <th>1137</th>\n",
       "      <td>1</td>\n",
       "      <td>380</td>\n",
       "      <td>Carpet Area</td>\n",
       "      <td>Mumbai</td>\n",
       "      <td>Unfurnished</td>\n",
       "      <td>Bachelors/Family</td>\n",
       "      <td>2</td>\n",
       "      <td>Contact Agent</td>\n",
       "    </tr>\n",
       "  </tbody>\n",
       "</table>\n",
       "<p>712 rows × 8 columns</p>\n",
       "</div>"
      ],
      "text/plain": [
       "      BHK  Size    Area Type       City         Furnish  Tenant Preferred  \\\n",
       "284     2   900   Super Area    Kolkata     Unfurnished  Bachelors/Family   \n",
       "257     2   450  Carpet Area    Kolkata     Unfurnished         Bachelors   \n",
       "872     2   400  Carpet Area     Mumbai       Furnished  Bachelors/Family   \n",
       "3749    3  1610   Super Area    Chennai  Semi-Furnished            Family   \n",
       "2732    2  1000   Super Area      Delhi  Semi-Furnished            Family   \n",
       "...   ...   ...          ...        ...             ...               ...   \n",
       "2357    2   850   Super Area  Bangalore  Semi-Furnished  Bachelors/Family   \n",
       "3842    2  1000  Carpet Area    Chennai     Unfurnished         Bachelors   \n",
       "1799    1   500   Super Area  Bangalore     Unfurnished  Bachelors/Family   \n",
       "3931    2  1800   Super Area  Hyderabad       Furnished  Bachelors/Family   \n",
       "1137    1   380  Carpet Area     Mumbai     Unfurnished  Bachelors/Family   \n",
       "\n",
       "      Bathroom Point of Contact  \n",
       "284          1    Contact Owner  \n",
       "257          1    Contact Owner  \n",
       "872          1    Contact Owner  \n",
       "3749         3    Contact Agent  \n",
       "2732         1    Contact Owner  \n",
       "...        ...              ...  \n",
       "2357         2    Contact Owner  \n",
       "3842         2    Contact Owner  \n",
       "1799         1    Contact Owner  \n",
       "3931         2    Contact Owner  \n",
       "1137         2    Contact Agent  \n",
       "\n",
       "[712 rows x 8 columns]"
      ]
     },
     "execution_count": 7,
     "metadata": {},
     "output_type": "execute_result"
    }
   ],
   "source": [
    "X_train = basic_preprocessing(X_train)\n",
    "X_val = basic_preprocessing(X_val)\n",
    "X_test = basic_preprocessing(X_test)\n",
    "\n",
    "X_val"
   ]
  },
  {
   "cell_type": "code",
   "execution_count": 8,
   "metadata": {},
   "outputs": [],
   "source": [
    "COLS_OHE = [\"City\"]\n",
    "COLS_ORDINAL = [\"Furnish\"]\n",
    "COLS_STANDARD_SCALE = [\"BHK\", \"Bathroom\", \"Size\"]"
   ]
  },
  {
   "cell_type": "code",
   "execution_count": 9,
   "metadata": {},
   "outputs": [],
   "source": [
    "from sklearn.preprocessing import OneHotEncoder, OrdinalEncoder, StandardScaler, \\\n",
    "    PolynomialFeatures\n",
    "\n",
    "ohe = OneHotEncoder(sparse_output=False, handle_unknown=\"ignore\", drop=\"first\")\n",
    "ordinal = OrdinalEncoder(categories=[[\"Unfurnished\", \"Semi-Furnished\", \"Furnished\"]])\n",
    "standard = StandardScaler()\n",
    "poly = PolynomialFeatures(degree=3)"
   ]
  },
  {
   "cell_type": "markdown",
   "metadata": {},
   "source": [
    "FIT ONLY ON TRAIN, OTHERWISE DATA LEAKAGE\n"
   ]
  },
  {
   "cell_type": "code",
   "execution_count": 10,
   "metadata": {},
   "outputs": [
    {
     "data": {
      "text/html": [
       "<style>#sk-container-id-1 {\n",
       "  /* Definition of color scheme common for light and dark mode */\n",
       "  --sklearn-color-text: black;\n",
       "  --sklearn-color-line: gray;\n",
       "  /* Definition of color scheme for unfitted estimators */\n",
       "  --sklearn-color-unfitted-level-0: #fff5e6;\n",
       "  --sklearn-color-unfitted-level-1: #f6e4d2;\n",
       "  --sklearn-color-unfitted-level-2: #ffe0b3;\n",
       "  --sklearn-color-unfitted-level-3: chocolate;\n",
       "  /* Definition of color scheme for fitted estimators */\n",
       "  --sklearn-color-fitted-level-0: #f0f8ff;\n",
       "  --sklearn-color-fitted-level-1: #d4ebff;\n",
       "  --sklearn-color-fitted-level-2: #b3dbfd;\n",
       "  --sklearn-color-fitted-level-3: cornflowerblue;\n",
       "\n",
       "  /* Specific color for light theme */\n",
       "  --sklearn-color-text-on-default-background: var(--sg-text-color, var(--theme-code-foreground, var(--jp-content-font-color1, black)));\n",
       "  --sklearn-color-background: var(--sg-background-color, var(--theme-background, var(--jp-layout-color0, white)));\n",
       "  --sklearn-color-border-box: var(--sg-text-color, var(--theme-code-foreground, var(--jp-content-font-color1, black)));\n",
       "  --sklearn-color-icon: #696969;\n",
       "\n",
       "  @media (prefers-color-scheme: dark) {\n",
       "    /* Redefinition of color scheme for dark theme */\n",
       "    --sklearn-color-text-on-default-background: var(--sg-text-color, var(--theme-code-foreground, var(--jp-content-font-color1, white)));\n",
       "    --sklearn-color-background: var(--sg-background-color, var(--theme-background, var(--jp-layout-color0, #111)));\n",
       "    --sklearn-color-border-box: var(--sg-text-color, var(--theme-code-foreground, var(--jp-content-font-color1, white)));\n",
       "    --sklearn-color-icon: #878787;\n",
       "  }\n",
       "}\n",
       "\n",
       "#sk-container-id-1 {\n",
       "  color: var(--sklearn-color-text);\n",
       "}\n",
       "\n",
       "#sk-container-id-1 pre {\n",
       "  padding: 0;\n",
       "}\n",
       "\n",
       "#sk-container-id-1 input.sk-hidden--visually {\n",
       "  border: 0;\n",
       "  clip: rect(1px 1px 1px 1px);\n",
       "  clip: rect(1px, 1px, 1px, 1px);\n",
       "  height: 1px;\n",
       "  margin: -1px;\n",
       "  overflow: hidden;\n",
       "  padding: 0;\n",
       "  position: absolute;\n",
       "  width: 1px;\n",
       "}\n",
       "\n",
       "#sk-container-id-1 div.sk-dashed-wrapped {\n",
       "  border: 1px dashed var(--sklearn-color-line);\n",
       "  margin: 0 0.4em 0.5em 0.4em;\n",
       "  box-sizing: border-box;\n",
       "  padding-bottom: 0.4em;\n",
       "  background-color: var(--sklearn-color-background);\n",
       "}\n",
       "\n",
       "#sk-container-id-1 div.sk-container {\n",
       "  /* jupyter's `normalize.less` sets `[hidden] { display: none; }`\n",
       "     but bootstrap.min.css set `[hidden] { display: none !important; }`\n",
       "     so we also need the `!important` here to be able to override the\n",
       "     default hidden behavior on the sphinx rendered scikit-learn.org.\n",
       "     See: https://github.com/scikit-learn/scikit-learn/issues/21755 */\n",
       "  display: inline-block !important;\n",
       "  position: relative;\n",
       "}\n",
       "\n",
       "#sk-container-id-1 div.sk-text-repr-fallback {\n",
       "  display: none;\n",
       "}\n",
       "\n",
       "div.sk-parallel-item,\n",
       "div.sk-serial,\n",
       "div.sk-item {\n",
       "  /* draw centered vertical line to link estimators */\n",
       "  background-image: linear-gradient(var(--sklearn-color-text-on-default-background), var(--sklearn-color-text-on-default-background));\n",
       "  background-size: 2px 100%;\n",
       "  background-repeat: no-repeat;\n",
       "  background-position: center center;\n",
       "}\n",
       "\n",
       "/* Parallel-specific style estimator block */\n",
       "\n",
       "#sk-container-id-1 div.sk-parallel-item::after {\n",
       "  content: \"\";\n",
       "  width: 100%;\n",
       "  border-bottom: 2px solid var(--sklearn-color-text-on-default-background);\n",
       "  flex-grow: 1;\n",
       "}\n",
       "\n",
       "#sk-container-id-1 div.sk-parallel {\n",
       "  display: flex;\n",
       "  align-items: stretch;\n",
       "  justify-content: center;\n",
       "  background-color: var(--sklearn-color-background);\n",
       "  position: relative;\n",
       "}\n",
       "\n",
       "#sk-container-id-1 div.sk-parallel-item {\n",
       "  display: flex;\n",
       "  flex-direction: column;\n",
       "}\n",
       "\n",
       "#sk-container-id-1 div.sk-parallel-item:first-child::after {\n",
       "  align-self: flex-end;\n",
       "  width: 50%;\n",
       "}\n",
       "\n",
       "#sk-container-id-1 div.sk-parallel-item:last-child::after {\n",
       "  align-self: flex-start;\n",
       "  width: 50%;\n",
       "}\n",
       "\n",
       "#sk-container-id-1 div.sk-parallel-item:only-child::after {\n",
       "  width: 0;\n",
       "}\n",
       "\n",
       "/* Serial-specific style estimator block */\n",
       "\n",
       "#sk-container-id-1 div.sk-serial {\n",
       "  display: flex;\n",
       "  flex-direction: column;\n",
       "  align-items: center;\n",
       "  background-color: var(--sklearn-color-background);\n",
       "  padding-right: 1em;\n",
       "  padding-left: 1em;\n",
       "}\n",
       "\n",
       "\n",
       "/* Toggleable style: style used for estimator/Pipeline/ColumnTransformer box that is\n",
       "clickable and can be expanded/collapsed.\n",
       "- Pipeline and ColumnTransformer use this feature and define the default style\n",
       "- Estimators will overwrite some part of the style using the `sk-estimator` class\n",
       "*/\n",
       "\n",
       "/* Pipeline and ColumnTransformer style (default) */\n",
       "\n",
       "#sk-container-id-1 div.sk-toggleable {\n",
       "  /* Default theme specific background. It is overwritten whether we have a\n",
       "  specific estimator or a Pipeline/ColumnTransformer */\n",
       "  background-color: var(--sklearn-color-background);\n",
       "}\n",
       "\n",
       "/* Toggleable label */\n",
       "#sk-container-id-1 label.sk-toggleable__label {\n",
       "  cursor: pointer;\n",
       "  display: block;\n",
       "  width: 100%;\n",
       "  margin-bottom: 0;\n",
       "  padding: 0.5em;\n",
       "  box-sizing: border-box;\n",
       "  text-align: center;\n",
       "}\n",
       "\n",
       "#sk-container-id-1 label.sk-toggleable__label-arrow:before {\n",
       "  /* Arrow on the left of the label */\n",
       "  content: \"▸\";\n",
       "  float: left;\n",
       "  margin-right: 0.25em;\n",
       "  color: var(--sklearn-color-icon);\n",
       "}\n",
       "\n",
       "#sk-container-id-1 label.sk-toggleable__label-arrow:hover:before {\n",
       "  color: var(--sklearn-color-text);\n",
       "}\n",
       "\n",
       "/* Toggleable content - dropdown */\n",
       "\n",
       "#sk-container-id-1 div.sk-toggleable__content {\n",
       "  max-height: 0;\n",
       "  max-width: 0;\n",
       "  overflow: hidden;\n",
       "  text-align: left;\n",
       "  /* unfitted */\n",
       "  background-color: var(--sklearn-color-unfitted-level-0);\n",
       "}\n",
       "\n",
       "#sk-container-id-1 div.sk-toggleable__content.fitted {\n",
       "  /* fitted */\n",
       "  background-color: var(--sklearn-color-fitted-level-0);\n",
       "}\n",
       "\n",
       "#sk-container-id-1 div.sk-toggleable__content pre {\n",
       "  margin: 0.2em;\n",
       "  border-radius: 0.25em;\n",
       "  color: var(--sklearn-color-text);\n",
       "  /* unfitted */\n",
       "  background-color: var(--sklearn-color-unfitted-level-0);\n",
       "}\n",
       "\n",
       "#sk-container-id-1 div.sk-toggleable__content.fitted pre {\n",
       "  /* unfitted */\n",
       "  background-color: var(--sklearn-color-fitted-level-0);\n",
       "}\n",
       "\n",
       "#sk-container-id-1 input.sk-toggleable__control:checked~div.sk-toggleable__content {\n",
       "  /* Expand drop-down */\n",
       "  max-height: 200px;\n",
       "  max-width: 100%;\n",
       "  overflow: auto;\n",
       "}\n",
       "\n",
       "#sk-container-id-1 input.sk-toggleable__control:checked~label.sk-toggleable__label-arrow:before {\n",
       "  content: \"▾\";\n",
       "}\n",
       "\n",
       "/* Pipeline/ColumnTransformer-specific style */\n",
       "\n",
       "#sk-container-id-1 div.sk-label input.sk-toggleable__control:checked~label.sk-toggleable__label {\n",
       "  color: var(--sklearn-color-text);\n",
       "  background-color: var(--sklearn-color-unfitted-level-2);\n",
       "}\n",
       "\n",
       "#sk-container-id-1 div.sk-label.fitted input.sk-toggleable__control:checked~label.sk-toggleable__label {\n",
       "  background-color: var(--sklearn-color-fitted-level-2);\n",
       "}\n",
       "\n",
       "/* Estimator-specific style */\n",
       "\n",
       "/* Colorize estimator box */\n",
       "#sk-container-id-1 div.sk-estimator input.sk-toggleable__control:checked~label.sk-toggleable__label {\n",
       "  /* unfitted */\n",
       "  background-color: var(--sklearn-color-unfitted-level-2);\n",
       "}\n",
       "\n",
       "#sk-container-id-1 div.sk-estimator.fitted input.sk-toggleable__control:checked~label.sk-toggleable__label {\n",
       "  /* fitted */\n",
       "  background-color: var(--sklearn-color-fitted-level-2);\n",
       "}\n",
       "\n",
       "#sk-container-id-1 div.sk-label label.sk-toggleable__label,\n",
       "#sk-container-id-1 div.sk-label label {\n",
       "  /* The background is the default theme color */\n",
       "  color: var(--sklearn-color-text-on-default-background);\n",
       "}\n",
       "\n",
       "/* On hover, darken the color of the background */\n",
       "#sk-container-id-1 div.sk-label:hover label.sk-toggleable__label {\n",
       "  color: var(--sklearn-color-text);\n",
       "  background-color: var(--sklearn-color-unfitted-level-2);\n",
       "}\n",
       "\n",
       "/* Label box, darken color on hover, fitted */\n",
       "#sk-container-id-1 div.sk-label.fitted:hover label.sk-toggleable__label.fitted {\n",
       "  color: var(--sklearn-color-text);\n",
       "  background-color: var(--sklearn-color-fitted-level-2);\n",
       "}\n",
       "\n",
       "/* Estimator label */\n",
       "\n",
       "#sk-container-id-1 div.sk-label label {\n",
       "  font-family: monospace;\n",
       "  font-weight: bold;\n",
       "  display: inline-block;\n",
       "  line-height: 1.2em;\n",
       "}\n",
       "\n",
       "#sk-container-id-1 div.sk-label-container {\n",
       "  text-align: center;\n",
       "}\n",
       "\n",
       "/* Estimator-specific */\n",
       "#sk-container-id-1 div.sk-estimator {\n",
       "  font-family: monospace;\n",
       "  border: 1px dotted var(--sklearn-color-border-box);\n",
       "  border-radius: 0.25em;\n",
       "  box-sizing: border-box;\n",
       "  margin-bottom: 0.5em;\n",
       "  /* unfitted */\n",
       "  background-color: var(--sklearn-color-unfitted-level-0);\n",
       "}\n",
       "\n",
       "#sk-container-id-1 div.sk-estimator.fitted {\n",
       "  /* fitted */\n",
       "  background-color: var(--sklearn-color-fitted-level-0);\n",
       "}\n",
       "\n",
       "/* on hover */\n",
       "#sk-container-id-1 div.sk-estimator:hover {\n",
       "  /* unfitted */\n",
       "  background-color: var(--sklearn-color-unfitted-level-2);\n",
       "}\n",
       "\n",
       "#sk-container-id-1 div.sk-estimator.fitted:hover {\n",
       "  /* fitted */\n",
       "  background-color: var(--sklearn-color-fitted-level-2);\n",
       "}\n",
       "\n",
       "/* Specification for estimator info (e.g. \"i\" and \"?\") */\n",
       "\n",
       "/* Common style for \"i\" and \"?\" */\n",
       "\n",
       ".sk-estimator-doc-link,\n",
       "a:link.sk-estimator-doc-link,\n",
       "a:visited.sk-estimator-doc-link {\n",
       "  float: right;\n",
       "  font-size: smaller;\n",
       "  line-height: 1em;\n",
       "  font-family: monospace;\n",
       "  background-color: var(--sklearn-color-background);\n",
       "  border-radius: 1em;\n",
       "  height: 1em;\n",
       "  width: 1em;\n",
       "  text-decoration: none !important;\n",
       "  margin-left: 1ex;\n",
       "  /* unfitted */\n",
       "  border: var(--sklearn-color-unfitted-level-1) 1pt solid;\n",
       "  color: var(--sklearn-color-unfitted-level-1);\n",
       "}\n",
       "\n",
       ".sk-estimator-doc-link.fitted,\n",
       "a:link.sk-estimator-doc-link.fitted,\n",
       "a:visited.sk-estimator-doc-link.fitted {\n",
       "  /* fitted */\n",
       "  border: var(--sklearn-color-fitted-level-1) 1pt solid;\n",
       "  color: var(--sklearn-color-fitted-level-1);\n",
       "}\n",
       "\n",
       "/* On hover */\n",
       "div.sk-estimator:hover .sk-estimator-doc-link:hover,\n",
       ".sk-estimator-doc-link:hover,\n",
       "div.sk-label-container:hover .sk-estimator-doc-link:hover,\n",
       ".sk-estimator-doc-link:hover {\n",
       "  /* unfitted */\n",
       "  background-color: var(--sklearn-color-unfitted-level-3);\n",
       "  color: var(--sklearn-color-background);\n",
       "  text-decoration: none;\n",
       "}\n",
       "\n",
       "div.sk-estimator.fitted:hover .sk-estimator-doc-link.fitted:hover,\n",
       ".sk-estimator-doc-link.fitted:hover,\n",
       "div.sk-label-container:hover .sk-estimator-doc-link.fitted:hover,\n",
       ".sk-estimator-doc-link.fitted:hover {\n",
       "  /* fitted */\n",
       "  background-color: var(--sklearn-color-fitted-level-3);\n",
       "  color: var(--sklearn-color-background);\n",
       "  text-decoration: none;\n",
       "}\n",
       "\n",
       "/* Span, style for the box shown on hovering the info icon */\n",
       ".sk-estimator-doc-link span {\n",
       "  display: none;\n",
       "  z-index: 9999;\n",
       "  position: relative;\n",
       "  font-weight: normal;\n",
       "  right: .2ex;\n",
       "  padding: .5ex;\n",
       "  margin: .5ex;\n",
       "  width: min-content;\n",
       "  min-width: 20ex;\n",
       "  max-width: 50ex;\n",
       "  color: var(--sklearn-color-text);\n",
       "  box-shadow: 2pt 2pt 4pt #999;\n",
       "  /* unfitted */\n",
       "  background: var(--sklearn-color-unfitted-level-0);\n",
       "  border: .5pt solid var(--sklearn-color-unfitted-level-3);\n",
       "}\n",
       "\n",
       ".sk-estimator-doc-link.fitted span {\n",
       "  /* fitted */\n",
       "  background: var(--sklearn-color-fitted-level-0);\n",
       "  border: var(--sklearn-color-fitted-level-3);\n",
       "}\n",
       "\n",
       ".sk-estimator-doc-link:hover span {\n",
       "  display: block;\n",
       "}\n",
       "\n",
       "/* \"?\"-specific style due to the `<a>` HTML tag */\n",
       "\n",
       "#sk-container-id-1 a.estimator_doc_link {\n",
       "  float: right;\n",
       "  font-size: 1rem;\n",
       "  line-height: 1em;\n",
       "  font-family: monospace;\n",
       "  background-color: var(--sklearn-color-background);\n",
       "  border-radius: 1rem;\n",
       "  height: 1rem;\n",
       "  width: 1rem;\n",
       "  text-decoration: none;\n",
       "  /* unfitted */\n",
       "  color: var(--sklearn-color-unfitted-level-1);\n",
       "  border: var(--sklearn-color-unfitted-level-1) 1pt solid;\n",
       "}\n",
       "\n",
       "#sk-container-id-1 a.estimator_doc_link.fitted {\n",
       "  /* fitted */\n",
       "  border: var(--sklearn-color-fitted-level-1) 1pt solid;\n",
       "  color: var(--sklearn-color-fitted-level-1);\n",
       "}\n",
       "\n",
       "/* On hover */\n",
       "#sk-container-id-1 a.estimator_doc_link:hover {\n",
       "  /* unfitted */\n",
       "  background-color: var(--sklearn-color-unfitted-level-3);\n",
       "  color: var(--sklearn-color-background);\n",
       "  text-decoration: none;\n",
       "}\n",
       "\n",
       "#sk-container-id-1 a.estimator_doc_link.fitted:hover {\n",
       "  /* fitted */\n",
       "  background-color: var(--sklearn-color-fitted-level-3);\n",
       "}\n",
       "</style><div id=\"sk-container-id-1\" class=\"sk-top-container\"><div class=\"sk-text-repr-fallback\"><pre>StandardScaler()</pre><b>In a Jupyter environment, please rerun this cell to show the HTML representation or trust the notebook. <br />On GitHub, the HTML representation is unable to render, please try loading this page with nbviewer.org.</b></div><div class=\"sk-container\" hidden><div class=\"sk-item\"><div class=\"sk-estimator fitted sk-toggleable\"><input class=\"sk-toggleable__control sk-hidden--visually\" id=\"sk-estimator-id-1\" type=\"checkbox\" checked><label for=\"sk-estimator-id-1\" class=\"sk-toggleable__label fitted sk-toggleable__label-arrow fitted\">&nbsp;&nbsp;StandardScaler<a class=\"sk-estimator-doc-link fitted\" rel=\"noreferrer\" target=\"_blank\" href=\"https://scikit-learn.org/1.5/modules/generated/sklearn.preprocessing.StandardScaler.html\">?<span>Documentation for StandardScaler</span></a><span class=\"sk-estimator-doc-link fitted\">i<span>Fitted</span></span></label><div class=\"sk-toggleable__content fitted\"><pre>StandardScaler()</pre></div> </div></div></div></div>"
      ],
      "text/plain": [
       "StandardScaler()"
      ]
     },
     "execution_count": 10,
     "metadata": {},
     "output_type": "execute_result"
    }
   ],
   "source": [
    "ohe.fit(X_train[COLS_OHE])\n",
    "ordinal.fit(X_train[COLS_ORDINAL])\n",
    "poly.fit(X_train[COLS_STANDARD_SCALE])\n",
    "\n",
    "X_train_poly = poly.transform(X_train[COLS_STANDARD_SCALE])\n",
    "\n",
    "standard.fit(X_train_poly)"
   ]
  },
  {
   "cell_type": "code",
   "execution_count": 11,
   "metadata": {},
   "outputs": [],
   "source": [
    "def preprocess_data(X, ohe, ordinal, standard):\n",
    "    X_ohe = ohe.transform(X[COLS_OHE])\n",
    "    X_ordinal = ordinal.transform(X[COLS_ORDINAL])\n",
    "    x_poly = poly.transform(X[COLS_STANDARD_SCALE])\n",
    "    X_poly_standard = standard.transform(x_poly)\n",
    "\n",
    "    X_poly_standard = pd.DataFrame(X_poly_standard, columns=poly.get_feature_names_out())\n",
    "\n",
    "    X_ohe = pd.DataFrame(X_ohe, columns=ohe.get_feature_names_out(COLS_OHE))\n",
    "    X_ordinal = pd.DataFrame(X_ordinal, columns=COLS_ORDINAL)\n",
    "    X_poly_standard = pd.DataFrame(X_poly_standard, columns=poly.get_feature_names_out(COLS_STANDARD_SCALE))\n",
    "    \n",
    "    X = pd.concat([X_poly_standard, X_ohe, X_ordinal], axis=1)\n",
    "    return X"
   ]
  },
  {
   "cell_type": "code",
   "execution_count": 12,
   "metadata": {},
   "outputs": [
    {
     "data": {
      "text/html": [
       "<div>\n",
       "<style scoped>\n",
       "    .dataframe tbody tr th:only-of-type {\n",
       "        vertical-align: middle;\n",
       "    }\n",
       "\n",
       "    .dataframe tbody tr th {\n",
       "        vertical-align: top;\n",
       "    }\n",
       "\n",
       "    .dataframe thead th {\n",
       "        text-align: right;\n",
       "    }\n",
       "</style>\n",
       "<table border=\"1\" class=\"dataframe\">\n",
       "  <thead>\n",
       "    <tr style=\"text-align: right;\">\n",
       "      <th></th>\n",
       "      <th>1</th>\n",
       "      <th>BHK</th>\n",
       "      <th>Bathroom</th>\n",
       "      <th>Size</th>\n",
       "      <th>BHK^2</th>\n",
       "      <th>BHK Bathroom</th>\n",
       "      <th>BHK Size</th>\n",
       "      <th>Bathroom^2</th>\n",
       "      <th>Bathroom Size</th>\n",
       "      <th>Size^2</th>\n",
       "      <th>...</th>\n",
       "      <th>Bathroom^3</th>\n",
       "      <th>Bathroom^2 Size</th>\n",
       "      <th>Bathroom Size^2</th>\n",
       "      <th>Size^3</th>\n",
       "      <th>City_Chennai</th>\n",
       "      <th>City_Delhi</th>\n",
       "      <th>City_Hyderabad</th>\n",
       "      <th>City_Kolkata</th>\n",
       "      <th>City_Mumbai</th>\n",
       "      <th>Furnish</th>\n",
       "    </tr>\n",
       "  </thead>\n",
       "  <tbody>\n",
       "    <tr>\n",
       "      <th>0</th>\n",
       "      <td>0.0</td>\n",
       "      <td>1.110492</td>\n",
       "      <td>1.189251</td>\n",
       "      <td>0.829344</td>\n",
       "      <td>0.999475</td>\n",
       "      <td>1.114653</td>\n",
       "      <td>0.806053</td>\n",
       "      <td>0.928818</td>\n",
       "      <td>0.707418</td>\n",
       "      <td>0.344902</td>\n",
       "      <td>...</td>\n",
       "      <td>0.506051</td>\n",
       "      <td>0.356248</td>\n",
       "      <td>0.175618</td>\n",
       "      <td>0.041691</td>\n",
       "      <td>0.0</td>\n",
       "      <td>0.0</td>\n",
       "      <td>1.0</td>\n",
       "      <td>0.0</td>\n",
       "      <td>0.0</td>\n",
       "      <td>0.0</td>\n",
       "    </tr>\n",
       "    <tr>\n",
       "      <th>1</th>\n",
       "      <td>0.0</td>\n",
       "      <td>-0.097846</td>\n",
       "      <td>-1.091749</td>\n",
       "      <td>-0.563145</td>\n",
       "      <td>-0.254682</td>\n",
       "      <td>-0.677640</td>\n",
       "      <td>-0.450178</td>\n",
       "      <td>-0.759804</td>\n",
       "      <td>-0.549198</td>\n",
       "      <td>-0.376971</td>\n",
       "      <td>...</td>\n",
       "      <td>-0.427136</td>\n",
       "      <td>-0.317066</td>\n",
       "      <td>-0.237390</td>\n",
       "      <td>-0.183322</td>\n",
       "      <td>0.0</td>\n",
       "      <td>0.0</td>\n",
       "      <td>0.0</td>\n",
       "      <td>0.0</td>\n",
       "      <td>0.0</td>\n",
       "      <td>1.0</td>\n",
       "    </tr>\n",
       "    <tr>\n",
       "      <th>2</th>\n",
       "      <td>0.0</td>\n",
       "      <td>-0.097846</td>\n",
       "      <td>0.048751</td>\n",
       "      <td>-0.408424</td>\n",
       "      <td>-0.254682</td>\n",
       "      <td>-0.165556</td>\n",
       "      <td>-0.374043</td>\n",
       "      <td>-0.126570</td>\n",
       "      <td>-0.291431</td>\n",
       "      <td>-0.327319</td>\n",
       "      <td>...</td>\n",
       "      <td>-0.175894</td>\n",
       "      <td>-0.202237</td>\n",
       "      <td>-0.197317</td>\n",
       "      <td>-0.174276</td>\n",
       "      <td>0.0</td>\n",
       "      <td>0.0</td>\n",
       "      <td>0.0</td>\n",
       "      <td>0.0</td>\n",
       "      <td>0.0</td>\n",
       "      <td>0.0</td>\n",
       "    </tr>\n",
       "    <tr>\n",
       "      <th>3</th>\n",
       "      <td>0.0</td>\n",
       "      <td>-0.097846</td>\n",
       "      <td>0.048751</td>\n",
       "      <td>0.133100</td>\n",
       "      <td>-0.254682</td>\n",
       "      <td>-0.165556</td>\n",
       "      <td>-0.107570</td>\n",
       "      <td>-0.126570</td>\n",
       "      <td>-0.065884</td>\n",
       "      <td>-0.093378</td>\n",
       "      <td>...</td>\n",
       "      <td>-0.175894</td>\n",
       "      <td>-0.129164</td>\n",
       "      <td>-0.118141</td>\n",
       "      <td>-0.116251</td>\n",
       "      <td>0.0</td>\n",
       "      <td>0.0</td>\n",
       "      <td>1.0</td>\n",
       "      <td>0.0</td>\n",
       "      <td>0.0</td>\n",
       "      <td>0.0</td>\n",
       "    </tr>\n",
       "    <tr>\n",
       "      <th>4</th>\n",
       "      <td>0.0</td>\n",
       "      <td>-0.097846</td>\n",
       "      <td>-1.091749</td>\n",
       "      <td>-0.021621</td>\n",
       "      <td>-0.254682</td>\n",
       "      <td>-0.677640</td>\n",
       "      <td>-0.183705</td>\n",
       "      <td>-0.759804</td>\n",
       "      <td>-0.436425</td>\n",
       "      <td>-0.169767</td>\n",
       "      <td>...</td>\n",
       "      <td>-0.427136</td>\n",
       "      <td>-0.298798</td>\n",
       "      <td>-0.202326</td>\n",
       "      <td>-0.137638</td>\n",
       "      <td>0.0</td>\n",
       "      <td>0.0</td>\n",
       "      <td>0.0</td>\n",
       "      <td>1.0</td>\n",
       "      <td>0.0</td>\n",
       "      <td>0.0</td>\n",
       "    </tr>\n",
       "    <tr>\n",
       "      <th>...</th>\n",
       "      <td>...</td>\n",
       "      <td>...</td>\n",
       "      <td>...</td>\n",
       "      <td>...</td>\n",
       "      <td>...</td>\n",
       "      <td>...</td>\n",
       "      <td>...</td>\n",
       "      <td>...</td>\n",
       "      <td>...</td>\n",
       "      <td>...</td>\n",
       "      <td>...</td>\n",
       "      <td>...</td>\n",
       "      <td>...</td>\n",
       "      <td>...</td>\n",
       "      <td>...</td>\n",
       "      <td>...</td>\n",
       "      <td>...</td>\n",
       "      <td>...</td>\n",
       "      <td>...</td>\n",
       "      <td>...</td>\n",
       "      <td>...</td>\n",
       "    </tr>\n",
       "    <tr>\n",
       "      <th>3317</th>\n",
       "      <td>0.0</td>\n",
       "      <td>-0.097846</td>\n",
       "      <td>0.048751</td>\n",
       "      <td>0.055739</td>\n",
       "      <td>-0.254682</td>\n",
       "      <td>-0.165556</td>\n",
       "      <td>-0.145637</td>\n",
       "      <td>-0.126570</td>\n",
       "      <td>-0.098105</td>\n",
       "      <td>-0.132528</td>\n",
       "      <td>...</td>\n",
       "      <td>-0.175894</td>\n",
       "      <td>-0.139603</td>\n",
       "      <td>-0.131391</td>\n",
       "      <td>-0.127479</td>\n",
       "      <td>0.0</td>\n",
       "      <td>0.0</td>\n",
       "      <td>1.0</td>\n",
       "      <td>0.0</td>\n",
       "      <td>0.0</td>\n",
       "      <td>1.0</td>\n",
       "    </tr>\n",
       "    <tr>\n",
       "      <th>3318</th>\n",
       "      <td>0.0</td>\n",
       "      <td>-1.306183</td>\n",
       "      <td>-1.091749</td>\n",
       "      <td>-0.795227</td>\n",
       "      <td>-1.007177</td>\n",
       "      <td>-0.933682</td>\n",
       "      <td>-0.735686</td>\n",
       "      <td>-0.759804</td>\n",
       "      <td>-0.597530</td>\n",
       "      <td>-0.437127</td>\n",
       "      <td>...</td>\n",
       "      <td>-0.427136</td>\n",
       "      <td>-0.324895</td>\n",
       "      <td>-0.247570</td>\n",
       "      <td>-0.192217</td>\n",
       "      <td>0.0</td>\n",
       "      <td>1.0</td>\n",
       "      <td>0.0</td>\n",
       "      <td>0.0</td>\n",
       "      <td>0.0</td>\n",
       "      <td>0.0</td>\n",
       "    </tr>\n",
       "    <tr>\n",
       "      <th>3319</th>\n",
       "      <td>0.0</td>\n",
       "      <td>-0.097846</td>\n",
       "      <td>0.048751</td>\n",
       "      <td>0.055739</td>\n",
       "      <td>-0.254682</td>\n",
       "      <td>-0.165556</td>\n",
       "      <td>-0.145637</td>\n",
       "      <td>-0.126570</td>\n",
       "      <td>-0.098105</td>\n",
       "      <td>-0.132528</td>\n",
       "      <td>...</td>\n",
       "      <td>-0.175894</td>\n",
       "      <td>-0.139603</td>\n",
       "      <td>-0.131391</td>\n",
       "      <td>-0.127479</td>\n",
       "      <td>0.0</td>\n",
       "      <td>1.0</td>\n",
       "      <td>0.0</td>\n",
       "      <td>0.0</td>\n",
       "      <td>0.0</td>\n",
       "      <td>1.0</td>\n",
       "    </tr>\n",
       "    <tr>\n",
       "      <th>3320</th>\n",
       "      <td>0.0</td>\n",
       "      <td>-1.306183</td>\n",
       "      <td>0.048751</td>\n",
       "      <td>-0.717866</td>\n",
       "      <td>-1.007177</td>\n",
       "      <td>-0.677640</td>\n",
       "      <td>-0.716652</td>\n",
       "      <td>-0.126570</td>\n",
       "      <td>-0.420314</td>\n",
       "      <td>-0.418985</td>\n",
       "      <td>...</td>\n",
       "      <td>-0.175894</td>\n",
       "      <td>-0.243993</td>\n",
       "      <td>-0.228341</td>\n",
       "      <td>-0.189804</td>\n",
       "      <td>0.0</td>\n",
       "      <td>0.0</td>\n",
       "      <td>0.0</td>\n",
       "      <td>0.0</td>\n",
       "      <td>1.0</td>\n",
       "      <td>2.0</td>\n",
       "    </tr>\n",
       "    <tr>\n",
       "      <th>3321</th>\n",
       "      <td>0.0</td>\n",
       "      <td>1.110492</td>\n",
       "      <td>1.189251</td>\n",
       "      <td>1.602950</td>\n",
       "      <td>0.999475</td>\n",
       "      <td>1.114653</td>\n",
       "      <td>1.377068</td>\n",
       "      <td>0.928818</td>\n",
       "      <td>1.190732</td>\n",
       "      <td>1.013303</td>\n",
       "      <td>...</td>\n",
       "      <td>0.506051</td>\n",
       "      <td>0.591125</td>\n",
       "      <td>0.514943</td>\n",
       "      <td>0.371127</td>\n",
       "      <td>1.0</td>\n",
       "      <td>0.0</td>\n",
       "      <td>0.0</td>\n",
       "      <td>0.0</td>\n",
       "      <td>0.0</td>\n",
       "      <td>1.0</td>\n",
       "    </tr>\n",
       "  </tbody>\n",
       "</table>\n",
       "<p>3322 rows × 26 columns</p>\n",
       "</div>"
      ],
      "text/plain": [
       "        1       BHK  Bathroom      Size     BHK^2  BHK Bathroom  BHK Size  \\\n",
       "0     0.0  1.110492  1.189251  0.829344  0.999475      1.114653  0.806053   \n",
       "1     0.0 -0.097846 -1.091749 -0.563145 -0.254682     -0.677640 -0.450178   \n",
       "2     0.0 -0.097846  0.048751 -0.408424 -0.254682     -0.165556 -0.374043   \n",
       "3     0.0 -0.097846  0.048751  0.133100 -0.254682     -0.165556 -0.107570   \n",
       "4     0.0 -0.097846 -1.091749 -0.021621 -0.254682     -0.677640 -0.183705   \n",
       "...   ...       ...       ...       ...       ...           ...       ...   \n",
       "3317  0.0 -0.097846  0.048751  0.055739 -0.254682     -0.165556 -0.145637   \n",
       "3318  0.0 -1.306183 -1.091749 -0.795227 -1.007177     -0.933682 -0.735686   \n",
       "3319  0.0 -0.097846  0.048751  0.055739 -0.254682     -0.165556 -0.145637   \n",
       "3320  0.0 -1.306183  0.048751 -0.717866 -1.007177     -0.677640 -0.716652   \n",
       "3321  0.0  1.110492  1.189251  1.602950  0.999475      1.114653  1.377068   \n",
       "\n",
       "      Bathroom^2  Bathroom Size    Size^2  ...  Bathroom^3  Bathroom^2 Size  \\\n",
       "0       0.928818       0.707418  0.344902  ...    0.506051         0.356248   \n",
       "1      -0.759804      -0.549198 -0.376971  ...   -0.427136        -0.317066   \n",
       "2      -0.126570      -0.291431 -0.327319  ...   -0.175894        -0.202237   \n",
       "3      -0.126570      -0.065884 -0.093378  ...   -0.175894        -0.129164   \n",
       "4      -0.759804      -0.436425 -0.169767  ...   -0.427136        -0.298798   \n",
       "...          ...            ...       ...  ...         ...              ...   \n",
       "3317   -0.126570      -0.098105 -0.132528  ...   -0.175894        -0.139603   \n",
       "3318   -0.759804      -0.597530 -0.437127  ...   -0.427136        -0.324895   \n",
       "3319   -0.126570      -0.098105 -0.132528  ...   -0.175894        -0.139603   \n",
       "3320   -0.126570      -0.420314 -0.418985  ...   -0.175894        -0.243993   \n",
       "3321    0.928818       1.190732  1.013303  ...    0.506051         0.591125   \n",
       "\n",
       "      Bathroom Size^2    Size^3  City_Chennai  City_Delhi  City_Hyderabad  \\\n",
       "0            0.175618  0.041691           0.0         0.0             1.0   \n",
       "1           -0.237390 -0.183322           0.0         0.0             0.0   \n",
       "2           -0.197317 -0.174276           0.0         0.0             0.0   \n",
       "3           -0.118141 -0.116251           0.0         0.0             1.0   \n",
       "4           -0.202326 -0.137638           0.0         0.0             0.0   \n",
       "...               ...       ...           ...         ...             ...   \n",
       "3317        -0.131391 -0.127479           0.0         0.0             1.0   \n",
       "3318        -0.247570 -0.192217           0.0         1.0             0.0   \n",
       "3319        -0.131391 -0.127479           0.0         1.0             0.0   \n",
       "3320        -0.228341 -0.189804           0.0         0.0             0.0   \n",
       "3321         0.514943  0.371127           1.0         0.0             0.0   \n",
       "\n",
       "      City_Kolkata  City_Mumbai  Furnish  \n",
       "0              0.0          0.0      0.0  \n",
       "1              0.0          0.0      1.0  \n",
       "2              0.0          0.0      0.0  \n",
       "3              0.0          0.0      0.0  \n",
       "4              1.0          0.0      0.0  \n",
       "...            ...          ...      ...  \n",
       "3317           0.0          0.0      1.0  \n",
       "3318           0.0          0.0      0.0  \n",
       "3319           0.0          0.0      1.0  \n",
       "3320           0.0          1.0      2.0  \n",
       "3321           0.0          0.0      1.0  \n",
       "\n",
       "[3322 rows x 26 columns]"
      ]
     },
     "execution_count": 12,
     "metadata": {},
     "output_type": "execute_result"
    }
   ],
   "source": [
    "X_train = preprocess_data(X_train, ohe, ordinal, standard)\n",
    "X_val = preprocess_data(X_val, ohe, ordinal, standard)\n",
    "X_test = preprocess_data(X_test, ohe, ordinal, standard)\n",
    "\n",
    "X_train"
   ]
  },
  {
   "cell_type": "markdown",
   "metadata": {},
   "source": [
    "## Hyperparameter Tuning with Random Search and Grid Search\n"
   ]
  },
  {
   "cell_type": "code",
   "execution_count": 14,
   "metadata": {},
   "outputs": [],
   "source": [
    "import numpy as np\n",
    "from sklearn.model_selection import RandomizedSearchCV, GridSearchCV\n",
    "from sklearn.linear_model import Lasso\n",
    "\n",
    "# ConvergenceWarning\n",
    "# ignore the warning\n",
    "# from warnings import simplefilter\n",
    "# simplefilter(\"ignore\")\n"
   ]
  },
  {
   "cell_type": "markdown",
   "metadata": {},
   "source": [
    "Notes:\n",
    "- confusing terminology, the regularization parameter is called alpha in sklearn\n",
    "- lambda (alpha) is usually searched on a log scale\n"
   ]
  },
  {
   "cell_type": "code",
   "execution_count": 16,
   "metadata": {},
   "outputs": [
    {
     "name": "stdout",
     "output_type": "stream",
     "text": [
      "[  10.           12.74274986   16.23776739   20.69138081   26.36650899\n",
      "   33.59818286   42.81332399   54.55594781   69.51927962   88.58667904\n",
      "  112.88378917  143.84498883  183.29807108  233.57214691  297.63514416\n",
      "  379.26901907  483.29302386  615.84821107  784.75997035 1000.        ]\n"
     ]
    }
   ],
   "source": [
    "alphas = np.logspace(1, 3, 20)\n",
    "print(alphas)"
   ]
  },
  {
   "cell_type": "code",
   "execution_count": 84,
   "metadata": {},
   "outputs": [
    {
     "data": {
      "text/plain": [
       "0.1"
      ]
     },
     "execution_count": 84,
     "metadata": {},
     "output_type": "execute_result"
    }
   ],
   "source": [
    "10 ** -1"
   ]
  },
  {
   "cell_type": "markdown",
   "metadata": {},
   "source": [
    "### Grid Search"
   ]
  },
  {
   "cell_type": "code",
   "execution_count": 17,
   "metadata": {},
   "outputs": [
    {
     "data": {
      "text/plain": [
       "{'alpha': [0.001, 0.01, 0.1, 1, 10, 100, 1000], 'max_iter': [10, 100, 50000]}"
      ]
     },
     "execution_count": 17,
     "metadata": {},
     "output_type": "execute_result"
    }
   ],
   "source": [
    "# extend the grid \n",
    "param_grid = {\n",
    "    \"alpha\": [10 ** i for i in range(-3, 4)],\n",
    "    'max_iter': [10, 100, 50_000]\n",
    "}\n",
    "\n",
    "# get Decartian product of all the hyperparameters\n",
    "param_grid"
   ]
  },
  {
   "cell_type": "code",
   "execution_count": 18,
   "metadata": {},
   "outputs": [
    {
     "name": "stdout",
     "output_type": "stream",
     "text": [
      "{'lambda': 0.001, 'max_iter': 10, 'r2_train': 0.286300900903835, 'r2_val': 0.5469368390683846}\n",
      "{'lambda': 0.001, 'max_iter': 100, 'r2_train': 0.2957594907787815, 'r2_val': 0.5626080457488305}\n",
      "{'lambda': 0.001, 'max_iter': 50000, 'r2_train': 0.30240718968076064, 'r2_val': 0.5734121131426642}\n",
      "{'lambda': 0.01, 'max_iter': 10, 'r2_train': 0.28630087985195296, 'r2_val': 0.5469369298770144}\n",
      "{'lambda': 0.01, 'max_iter': 100, 'r2_train': 0.2957593913671396, 'r2_val': 0.5626080842528678}\n",
      "{'lambda': 0.01, 'max_iter': 50000, 'r2_train': 0.3024071886295646, 'r2_val': 0.5734129905395922}\n",
      "{'lambda': 0.1, 'max_iter': 10, 'r2_train': 0.28630066925527053, 'r2_val': 0.546937837867848}\n",
      "{'lambda': 0.1, 'max_iter': 100, 'r2_train': 0.29575839666805526, 'r2_val': 0.5626084686353577}\n",
      "{'lambda': 0.1, 'max_iter': 50000, 'r2_train': 0.3024070457697213, 'r2_val': 0.5734215832461952}\n",
      "{'lambda': 1, 'max_iter': 10, 'r2_train': 0.2862985555024221, 'r2_val': 0.546946908229855}\n",
      "{'lambda': 1, 'max_iter': 100, 'r2_train': 0.29574839141060527, 'r2_val': 0.5626122466719441}\n",
      "{'lambda': 1, 'max_iter': 50000, 'r2_train': 0.3023958904596029, 'r2_val': 0.5734382202362194}\n",
      "{'lambda': 10, 'max_iter': 10, 'r2_train': 0.2862759984679407, 'r2_val': 0.5470263966801132}\n",
      "{'lambda': 10, 'max_iter': 100, 'r2_train': 0.2956438812251351, 'r2_val': 0.5626463119101777}\n",
      "{'lambda': 10, 'max_iter': 50000, 'r2_train': 0.3019441918919157, 'r2_val': 0.5716460477070587}\n",
      "{'lambda': 100, 'max_iter': 10, 'r2_train': 0.2859912802103456, 'r2_val': 0.5478256953197767}\n",
      "{'lambda': 100, 'max_iter': 100, 'r2_train': 0.29462512075138036, 'r2_val': 0.5636114381784972}\n",
      "{'lambda': 100, 'max_iter': 50000, 'r2_train': 0.29711504164066593, 'r2_val': 0.5664434496196209}\n",
      "{'lambda': 1000, 'max_iter': 10, 'r2_train': 0.2822369767509024, 'r2_val': 0.5519400187789713}\n",
      "{'lambda': 1000, 'max_iter': 100, 'r2_train': 0.2826332175940921, 'r2_val': 0.555507368159095}\n",
      "{'lambda': 1000, 'max_iter': 50000, 'r2_train': 0.28265746301940353, 'r2_val': 0.5563976587973434}\n"
     ]
    }
   ],
   "source": [
    "\n",
    "res_list = []\n",
    "for lamb in param_grid['alpha']:\n",
    "    for max_iter in param_grid['max_iter']:\n",
    "        model = Lasso(alpha=lamb, max_iter=max_iter)\n",
    "        model.fit(X_train, y_train)\n",
    "        \n",
    "        y_pred_train = model.predict(X_train)\n",
    "        y_pred_val = model.predict(X_val)\n",
    "        \n",
    "        # r2\n",
    "        r2_train = model.score(X_train, y_train)\n",
    "        r2_val = model.score(X_val, y_val)\n",
    "        \n",
    "        res = {\n",
    "            \"lambda\": lamb,\n",
    "            \"max_iter\": max_iter,\n",
    "            \"r2_train\": r2_train,\n",
    "            \"r2_val\": r2_val\n",
    "        }\n",
    "        \n",
    "        print(res)\n",
    "        res_list.append(res)\n",
    "        \n"
   ]
  },
  {
   "cell_type": "code",
   "execution_count": 19,
   "metadata": {},
   "outputs": [
    {
     "data": {
      "text/html": [
       "<div>\n",
       "<style scoped>\n",
       "    .dataframe tbody tr th:only-of-type {\n",
       "        vertical-align: middle;\n",
       "    }\n",
       "\n",
       "    .dataframe tbody tr th {\n",
       "        vertical-align: top;\n",
       "    }\n",
       "\n",
       "    .dataframe thead th {\n",
       "        text-align: right;\n",
       "    }\n",
       "</style>\n",
       "<table border=\"1\" class=\"dataframe\">\n",
       "  <thead>\n",
       "    <tr style=\"text-align: right;\">\n",
       "      <th></th>\n",
       "      <th>lambda</th>\n",
       "      <th>max_iter</th>\n",
       "      <th>r2_train</th>\n",
       "      <th>r2_val</th>\n",
       "    </tr>\n",
       "  </thead>\n",
       "  <tbody>\n",
       "    <tr>\n",
       "      <th>0</th>\n",
       "      <td>0.001</td>\n",
       "      <td>10</td>\n",
       "      <td>0.286301</td>\n",
       "      <td>0.546937</td>\n",
       "    </tr>\n",
       "    <tr>\n",
       "      <th>1</th>\n",
       "      <td>0.001</td>\n",
       "      <td>100</td>\n",
       "      <td>0.295759</td>\n",
       "      <td>0.562608</td>\n",
       "    </tr>\n",
       "    <tr>\n",
       "      <th>2</th>\n",
       "      <td>0.001</td>\n",
       "      <td>50000</td>\n",
       "      <td>0.302407</td>\n",
       "      <td>0.573412</td>\n",
       "    </tr>\n",
       "    <tr>\n",
       "      <th>3</th>\n",
       "      <td>0.010</td>\n",
       "      <td>10</td>\n",
       "      <td>0.286301</td>\n",
       "      <td>0.546937</td>\n",
       "    </tr>\n",
       "    <tr>\n",
       "      <th>4</th>\n",
       "      <td>0.010</td>\n",
       "      <td>100</td>\n",
       "      <td>0.295759</td>\n",
       "      <td>0.562608</td>\n",
       "    </tr>\n",
       "    <tr>\n",
       "      <th>5</th>\n",
       "      <td>0.010</td>\n",
       "      <td>50000</td>\n",
       "      <td>0.302407</td>\n",
       "      <td>0.573413</td>\n",
       "    </tr>\n",
       "    <tr>\n",
       "      <th>6</th>\n",
       "      <td>0.100</td>\n",
       "      <td>10</td>\n",
       "      <td>0.286301</td>\n",
       "      <td>0.546938</td>\n",
       "    </tr>\n",
       "    <tr>\n",
       "      <th>7</th>\n",
       "      <td>0.100</td>\n",
       "      <td>100</td>\n",
       "      <td>0.295758</td>\n",
       "      <td>0.562608</td>\n",
       "    </tr>\n",
       "    <tr>\n",
       "      <th>8</th>\n",
       "      <td>0.100</td>\n",
       "      <td>50000</td>\n",
       "      <td>0.302407</td>\n",
       "      <td>0.573422</td>\n",
       "    </tr>\n",
       "    <tr>\n",
       "      <th>9</th>\n",
       "      <td>1.000</td>\n",
       "      <td>10</td>\n",
       "      <td>0.286299</td>\n",
       "      <td>0.546947</td>\n",
       "    </tr>\n",
       "    <tr>\n",
       "      <th>10</th>\n",
       "      <td>1.000</td>\n",
       "      <td>100</td>\n",
       "      <td>0.295748</td>\n",
       "      <td>0.562612</td>\n",
       "    </tr>\n",
       "    <tr>\n",
       "      <th>11</th>\n",
       "      <td>1.000</td>\n",
       "      <td>50000</td>\n",
       "      <td>0.302396</td>\n",
       "      <td>0.573438</td>\n",
       "    </tr>\n",
       "    <tr>\n",
       "      <th>12</th>\n",
       "      <td>10.000</td>\n",
       "      <td>10</td>\n",
       "      <td>0.286276</td>\n",
       "      <td>0.547026</td>\n",
       "    </tr>\n",
       "    <tr>\n",
       "      <th>13</th>\n",
       "      <td>10.000</td>\n",
       "      <td>100</td>\n",
       "      <td>0.295644</td>\n",
       "      <td>0.562646</td>\n",
       "    </tr>\n",
       "    <tr>\n",
       "      <th>14</th>\n",
       "      <td>10.000</td>\n",
       "      <td>50000</td>\n",
       "      <td>0.301944</td>\n",
       "      <td>0.571646</td>\n",
       "    </tr>\n",
       "    <tr>\n",
       "      <th>15</th>\n",
       "      <td>100.000</td>\n",
       "      <td>10</td>\n",
       "      <td>0.285991</td>\n",
       "      <td>0.547826</td>\n",
       "    </tr>\n",
       "    <tr>\n",
       "      <th>16</th>\n",
       "      <td>100.000</td>\n",
       "      <td>100</td>\n",
       "      <td>0.294625</td>\n",
       "      <td>0.563611</td>\n",
       "    </tr>\n",
       "    <tr>\n",
       "      <th>17</th>\n",
       "      <td>100.000</td>\n",
       "      <td>50000</td>\n",
       "      <td>0.297115</td>\n",
       "      <td>0.566443</td>\n",
       "    </tr>\n",
       "    <tr>\n",
       "      <th>18</th>\n",
       "      <td>1000.000</td>\n",
       "      <td>10</td>\n",
       "      <td>0.282237</td>\n",
       "      <td>0.551940</td>\n",
       "    </tr>\n",
       "    <tr>\n",
       "      <th>19</th>\n",
       "      <td>1000.000</td>\n",
       "      <td>100</td>\n",
       "      <td>0.282633</td>\n",
       "      <td>0.555507</td>\n",
       "    </tr>\n",
       "    <tr>\n",
       "      <th>20</th>\n",
       "      <td>1000.000</td>\n",
       "      <td>50000</td>\n",
       "      <td>0.282657</td>\n",
       "      <td>0.556398</td>\n",
       "    </tr>\n",
       "  </tbody>\n",
       "</table>\n",
       "</div>"
      ],
      "text/plain": [
       "      lambda  max_iter  r2_train    r2_val\n",
       "0      0.001        10  0.286301  0.546937\n",
       "1      0.001       100  0.295759  0.562608\n",
       "2      0.001     50000  0.302407  0.573412\n",
       "3      0.010        10  0.286301  0.546937\n",
       "4      0.010       100  0.295759  0.562608\n",
       "5      0.010     50000  0.302407  0.573413\n",
       "6      0.100        10  0.286301  0.546938\n",
       "7      0.100       100  0.295758  0.562608\n",
       "8      0.100     50000  0.302407  0.573422\n",
       "9      1.000        10  0.286299  0.546947\n",
       "10     1.000       100  0.295748  0.562612\n",
       "11     1.000     50000  0.302396  0.573438\n",
       "12    10.000        10  0.286276  0.547026\n",
       "13    10.000       100  0.295644  0.562646\n",
       "14    10.000     50000  0.301944  0.571646\n",
       "15   100.000        10  0.285991  0.547826\n",
       "16   100.000       100  0.294625  0.563611\n",
       "17   100.000     50000  0.297115  0.566443\n",
       "18  1000.000        10  0.282237  0.551940\n",
       "19  1000.000       100  0.282633  0.555507\n",
       "20  1000.000     50000  0.282657  0.556398"
      ]
     },
     "execution_count": 19,
     "metadata": {},
     "output_type": "execute_result"
    }
   ],
   "source": [
    "res_df = pd.DataFrame(res_list)\n",
    "res_df"
   ]
  },
  {
   "cell_type": "code",
   "execution_count": 20,
   "metadata": {},
   "outputs": [
    {
     "data": {
      "application/vnd.plotly.v1+json": {
       "config": {
        "plotlyServerURL": "https://plot.ly"
       },
       "data": [
        {
         "hovertemplate": "lambda=%{x}<br>max_iter=%{y}<br>r2_val=%{marker.color}<extra></extra>",
         "legendgroup": "",
         "marker": {
          "color": [
           0.5469368390683846,
           0.5626080457488305,
           0.5734121131426642,
           0.5469369298770144,
           0.5626080842528678,
           0.5734129905395922,
           0.546937837867848,
           0.5626084686353577,
           0.5734215832461952,
           0.546946908229855,
           0.5626122466719441,
           0.5734382202362194,
           0.5470263966801132,
           0.5626463119101777,
           0.5716460477070587,
           0.5478256953197767,
           0.5636114381784972,
           0.5664434496196209,
           0.5519400187789713,
           0.555507368159095,
           0.5563976587973434
          ],
          "coloraxis": "coloraxis",
          "symbol": "circle"
         },
         "mode": "markers",
         "name": "",
         "orientation": "v",
         "showlegend": false,
         "type": "scatter",
         "x": [
          0.001,
          0.001,
          0.001,
          0.01,
          0.01,
          0.01,
          0.1,
          0.1,
          0.1,
          1,
          1,
          1,
          10,
          10,
          10,
          100,
          100,
          100,
          1000,
          1000,
          1000
         ],
         "xaxis": "x",
         "y": [
          10,
          100,
          50000,
          10,
          100,
          50000,
          10,
          100,
          50000,
          10,
          100,
          50000,
          10,
          100,
          50000,
          10,
          100,
          50000,
          10,
          100,
          50000
         ],
         "yaxis": "y"
        }
       ],
       "layout": {
        "coloraxis": {
         "colorbar": {
          "title": {
           "text": "r2_val"
          }
         },
         "colorscale": [
          [
           0,
           "#0d0887"
          ],
          [
           0.1111111111111111,
           "#46039f"
          ],
          [
           0.2222222222222222,
           "#7201a8"
          ],
          [
           0.3333333333333333,
           "#9c179e"
          ],
          [
           0.4444444444444444,
           "#bd3786"
          ],
          [
           0.5555555555555556,
           "#d8576b"
          ],
          [
           0.6666666666666666,
           "#ed7953"
          ],
          [
           0.7777777777777778,
           "#fb9f3a"
          ],
          [
           0.8888888888888888,
           "#fdca26"
          ],
          [
           1,
           "#f0f921"
          ]
         ]
        },
        "legend": {
         "tracegroupgap": 0
        },
        "template": {
         "data": {
          "bar": [
           {
            "error_x": {
             "color": "#2a3f5f"
            },
            "error_y": {
             "color": "#2a3f5f"
            },
            "marker": {
             "line": {
              "color": "#E5ECF6",
              "width": 0.5
             },
             "pattern": {
              "fillmode": "overlay",
              "size": 10,
              "solidity": 0.2
             }
            },
            "type": "bar"
           }
          ],
          "barpolar": [
           {
            "marker": {
             "line": {
              "color": "#E5ECF6",
              "width": 0.5
             },
             "pattern": {
              "fillmode": "overlay",
              "size": 10,
              "solidity": 0.2
             }
            },
            "type": "barpolar"
           }
          ],
          "carpet": [
           {
            "aaxis": {
             "endlinecolor": "#2a3f5f",
             "gridcolor": "white",
             "linecolor": "white",
             "minorgridcolor": "white",
             "startlinecolor": "#2a3f5f"
            },
            "baxis": {
             "endlinecolor": "#2a3f5f",
             "gridcolor": "white",
             "linecolor": "white",
             "minorgridcolor": "white",
             "startlinecolor": "#2a3f5f"
            },
            "type": "carpet"
           }
          ],
          "choropleth": [
           {
            "colorbar": {
             "outlinewidth": 0,
             "ticks": ""
            },
            "type": "choropleth"
           }
          ],
          "contour": [
           {
            "colorbar": {
             "outlinewidth": 0,
             "ticks": ""
            },
            "colorscale": [
             [
              0,
              "#0d0887"
             ],
             [
              0.1111111111111111,
              "#46039f"
             ],
             [
              0.2222222222222222,
              "#7201a8"
             ],
             [
              0.3333333333333333,
              "#9c179e"
             ],
             [
              0.4444444444444444,
              "#bd3786"
             ],
             [
              0.5555555555555556,
              "#d8576b"
             ],
             [
              0.6666666666666666,
              "#ed7953"
             ],
             [
              0.7777777777777778,
              "#fb9f3a"
             ],
             [
              0.8888888888888888,
              "#fdca26"
             ],
             [
              1,
              "#f0f921"
             ]
            ],
            "type": "contour"
           }
          ],
          "contourcarpet": [
           {
            "colorbar": {
             "outlinewidth": 0,
             "ticks": ""
            },
            "type": "contourcarpet"
           }
          ],
          "heatmap": [
           {
            "colorbar": {
             "outlinewidth": 0,
             "ticks": ""
            },
            "colorscale": [
             [
              0,
              "#0d0887"
             ],
             [
              0.1111111111111111,
              "#46039f"
             ],
             [
              0.2222222222222222,
              "#7201a8"
             ],
             [
              0.3333333333333333,
              "#9c179e"
             ],
             [
              0.4444444444444444,
              "#bd3786"
             ],
             [
              0.5555555555555556,
              "#d8576b"
             ],
             [
              0.6666666666666666,
              "#ed7953"
             ],
             [
              0.7777777777777778,
              "#fb9f3a"
             ],
             [
              0.8888888888888888,
              "#fdca26"
             ],
             [
              1,
              "#f0f921"
             ]
            ],
            "type": "heatmap"
           }
          ],
          "heatmapgl": [
           {
            "colorbar": {
             "outlinewidth": 0,
             "ticks": ""
            },
            "colorscale": [
             [
              0,
              "#0d0887"
             ],
             [
              0.1111111111111111,
              "#46039f"
             ],
             [
              0.2222222222222222,
              "#7201a8"
             ],
             [
              0.3333333333333333,
              "#9c179e"
             ],
             [
              0.4444444444444444,
              "#bd3786"
             ],
             [
              0.5555555555555556,
              "#d8576b"
             ],
             [
              0.6666666666666666,
              "#ed7953"
             ],
             [
              0.7777777777777778,
              "#fb9f3a"
             ],
             [
              0.8888888888888888,
              "#fdca26"
             ],
             [
              1,
              "#f0f921"
             ]
            ],
            "type": "heatmapgl"
           }
          ],
          "histogram": [
           {
            "marker": {
             "pattern": {
              "fillmode": "overlay",
              "size": 10,
              "solidity": 0.2
             }
            },
            "type": "histogram"
           }
          ],
          "histogram2d": [
           {
            "colorbar": {
             "outlinewidth": 0,
             "ticks": ""
            },
            "colorscale": [
             [
              0,
              "#0d0887"
             ],
             [
              0.1111111111111111,
              "#46039f"
             ],
             [
              0.2222222222222222,
              "#7201a8"
             ],
             [
              0.3333333333333333,
              "#9c179e"
             ],
             [
              0.4444444444444444,
              "#bd3786"
             ],
             [
              0.5555555555555556,
              "#d8576b"
             ],
             [
              0.6666666666666666,
              "#ed7953"
             ],
             [
              0.7777777777777778,
              "#fb9f3a"
             ],
             [
              0.8888888888888888,
              "#fdca26"
             ],
             [
              1,
              "#f0f921"
             ]
            ],
            "type": "histogram2d"
           }
          ],
          "histogram2dcontour": [
           {
            "colorbar": {
             "outlinewidth": 0,
             "ticks": ""
            },
            "colorscale": [
             [
              0,
              "#0d0887"
             ],
             [
              0.1111111111111111,
              "#46039f"
             ],
             [
              0.2222222222222222,
              "#7201a8"
             ],
             [
              0.3333333333333333,
              "#9c179e"
             ],
             [
              0.4444444444444444,
              "#bd3786"
             ],
             [
              0.5555555555555556,
              "#d8576b"
             ],
             [
              0.6666666666666666,
              "#ed7953"
             ],
             [
              0.7777777777777778,
              "#fb9f3a"
             ],
             [
              0.8888888888888888,
              "#fdca26"
             ],
             [
              1,
              "#f0f921"
             ]
            ],
            "type": "histogram2dcontour"
           }
          ],
          "mesh3d": [
           {
            "colorbar": {
             "outlinewidth": 0,
             "ticks": ""
            },
            "type": "mesh3d"
           }
          ],
          "parcoords": [
           {
            "line": {
             "colorbar": {
              "outlinewidth": 0,
              "ticks": ""
             }
            },
            "type": "parcoords"
           }
          ],
          "pie": [
           {
            "automargin": true,
            "type": "pie"
           }
          ],
          "scatter": [
           {
            "fillpattern": {
             "fillmode": "overlay",
             "size": 10,
             "solidity": 0.2
            },
            "type": "scatter"
           }
          ],
          "scatter3d": [
           {
            "line": {
             "colorbar": {
              "outlinewidth": 0,
              "ticks": ""
             }
            },
            "marker": {
             "colorbar": {
              "outlinewidth": 0,
              "ticks": ""
             }
            },
            "type": "scatter3d"
           }
          ],
          "scattercarpet": [
           {
            "marker": {
             "colorbar": {
              "outlinewidth": 0,
              "ticks": ""
             }
            },
            "type": "scattercarpet"
           }
          ],
          "scattergeo": [
           {
            "marker": {
             "colorbar": {
              "outlinewidth": 0,
              "ticks": ""
             }
            },
            "type": "scattergeo"
           }
          ],
          "scattergl": [
           {
            "marker": {
             "colorbar": {
              "outlinewidth": 0,
              "ticks": ""
             }
            },
            "type": "scattergl"
           }
          ],
          "scattermapbox": [
           {
            "marker": {
             "colorbar": {
              "outlinewidth": 0,
              "ticks": ""
             }
            },
            "type": "scattermapbox"
           }
          ],
          "scatterpolar": [
           {
            "marker": {
             "colorbar": {
              "outlinewidth": 0,
              "ticks": ""
             }
            },
            "type": "scatterpolar"
           }
          ],
          "scatterpolargl": [
           {
            "marker": {
             "colorbar": {
              "outlinewidth": 0,
              "ticks": ""
             }
            },
            "type": "scatterpolargl"
           }
          ],
          "scatterternary": [
           {
            "marker": {
             "colorbar": {
              "outlinewidth": 0,
              "ticks": ""
             }
            },
            "type": "scatterternary"
           }
          ],
          "surface": [
           {
            "colorbar": {
             "outlinewidth": 0,
             "ticks": ""
            },
            "colorscale": [
             [
              0,
              "#0d0887"
             ],
             [
              0.1111111111111111,
              "#46039f"
             ],
             [
              0.2222222222222222,
              "#7201a8"
             ],
             [
              0.3333333333333333,
              "#9c179e"
             ],
             [
              0.4444444444444444,
              "#bd3786"
             ],
             [
              0.5555555555555556,
              "#d8576b"
             ],
             [
              0.6666666666666666,
              "#ed7953"
             ],
             [
              0.7777777777777778,
              "#fb9f3a"
             ],
             [
              0.8888888888888888,
              "#fdca26"
             ],
             [
              1,
              "#f0f921"
             ]
            ],
            "type": "surface"
           }
          ],
          "table": [
           {
            "cells": {
             "fill": {
              "color": "#EBF0F8"
             },
             "line": {
              "color": "white"
             }
            },
            "header": {
             "fill": {
              "color": "#C8D4E3"
             },
             "line": {
              "color": "white"
             }
            },
            "type": "table"
           }
          ]
         },
         "layout": {
          "annotationdefaults": {
           "arrowcolor": "#2a3f5f",
           "arrowhead": 0,
           "arrowwidth": 1
          },
          "autotypenumbers": "strict",
          "coloraxis": {
           "colorbar": {
            "outlinewidth": 0,
            "ticks": ""
           }
          },
          "colorscale": {
           "diverging": [
            [
             0,
             "#8e0152"
            ],
            [
             0.1,
             "#c51b7d"
            ],
            [
             0.2,
             "#de77ae"
            ],
            [
             0.3,
             "#f1b6da"
            ],
            [
             0.4,
             "#fde0ef"
            ],
            [
             0.5,
             "#f7f7f7"
            ],
            [
             0.6,
             "#e6f5d0"
            ],
            [
             0.7,
             "#b8e186"
            ],
            [
             0.8,
             "#7fbc41"
            ],
            [
             0.9,
             "#4d9221"
            ],
            [
             1,
             "#276419"
            ]
           ],
           "sequential": [
            [
             0,
             "#0d0887"
            ],
            [
             0.1111111111111111,
             "#46039f"
            ],
            [
             0.2222222222222222,
             "#7201a8"
            ],
            [
             0.3333333333333333,
             "#9c179e"
            ],
            [
             0.4444444444444444,
             "#bd3786"
            ],
            [
             0.5555555555555556,
             "#d8576b"
            ],
            [
             0.6666666666666666,
             "#ed7953"
            ],
            [
             0.7777777777777778,
             "#fb9f3a"
            ],
            [
             0.8888888888888888,
             "#fdca26"
            ],
            [
             1,
             "#f0f921"
            ]
           ],
           "sequentialminus": [
            [
             0,
             "#0d0887"
            ],
            [
             0.1111111111111111,
             "#46039f"
            ],
            [
             0.2222222222222222,
             "#7201a8"
            ],
            [
             0.3333333333333333,
             "#9c179e"
            ],
            [
             0.4444444444444444,
             "#bd3786"
            ],
            [
             0.5555555555555556,
             "#d8576b"
            ],
            [
             0.6666666666666666,
             "#ed7953"
            ],
            [
             0.7777777777777778,
             "#fb9f3a"
            ],
            [
             0.8888888888888888,
             "#fdca26"
            ],
            [
             1,
             "#f0f921"
            ]
           ]
          },
          "colorway": [
           "#636efa",
           "#EF553B",
           "#00cc96",
           "#ab63fa",
           "#FFA15A",
           "#19d3f3",
           "#FF6692",
           "#B6E880",
           "#FF97FF",
           "#FECB52"
          ],
          "font": {
           "color": "#2a3f5f"
          },
          "geo": {
           "bgcolor": "white",
           "lakecolor": "white",
           "landcolor": "#E5ECF6",
           "showlakes": true,
           "showland": true,
           "subunitcolor": "white"
          },
          "hoverlabel": {
           "align": "left"
          },
          "hovermode": "closest",
          "mapbox": {
           "style": "light"
          },
          "paper_bgcolor": "white",
          "plot_bgcolor": "#E5ECF6",
          "polar": {
           "angularaxis": {
            "gridcolor": "white",
            "linecolor": "white",
            "ticks": ""
           },
           "bgcolor": "#E5ECF6",
           "radialaxis": {
            "gridcolor": "white",
            "linecolor": "white",
            "ticks": ""
           }
          },
          "scene": {
           "xaxis": {
            "backgroundcolor": "#E5ECF6",
            "gridcolor": "white",
            "gridwidth": 2,
            "linecolor": "white",
            "showbackground": true,
            "ticks": "",
            "zerolinecolor": "white"
           },
           "yaxis": {
            "backgroundcolor": "#E5ECF6",
            "gridcolor": "white",
            "gridwidth": 2,
            "linecolor": "white",
            "showbackground": true,
            "ticks": "",
            "zerolinecolor": "white"
           },
           "zaxis": {
            "backgroundcolor": "#E5ECF6",
            "gridcolor": "white",
            "gridwidth": 2,
            "linecolor": "white",
            "showbackground": true,
            "ticks": "",
            "zerolinecolor": "white"
           }
          },
          "shapedefaults": {
           "line": {
            "color": "#2a3f5f"
           }
          },
          "ternary": {
           "aaxis": {
            "gridcolor": "white",
            "linecolor": "white",
            "ticks": ""
           },
           "baxis": {
            "gridcolor": "white",
            "linecolor": "white",
            "ticks": ""
           },
           "bgcolor": "#E5ECF6",
           "caxis": {
            "gridcolor": "white",
            "linecolor": "white",
            "ticks": ""
           }
          },
          "title": {
           "x": 0.05
          },
          "xaxis": {
           "automargin": true,
           "gridcolor": "white",
           "linecolor": "white",
           "ticks": "",
           "title": {
            "standoff": 15
           },
           "zerolinecolor": "white",
           "zerolinewidth": 2
          },
          "yaxis": {
           "automargin": true,
           "gridcolor": "white",
           "linecolor": "white",
           "ticks": "",
           "title": {
            "standoff": 15
           },
           "zerolinecolor": "white",
           "zerolinewidth": 2
          }
         }
        },
        "title": {
         "text": "Grid Search"
        },
        "xaxis": {
         "anchor": "y",
         "domain": [
          0,
          1
         ],
         "title": {
          "text": "lambda"
         },
         "type": "log"
        },
        "yaxis": {
         "anchor": "x",
         "domain": [
          0,
          1
         ],
         "title": {
          "text": "max_iter"
         },
         "type": "log"
        }
       }
      }
     },
     "metadata": {},
     "output_type": "display_data"
    }
   ],
   "source": [
    "px.scatter(res_df, x=\"lambda\", y=\"max_iter\", log_x=True, log_y=True, color=\"r2_val\", title=\"Grid Search\")"
   ]
  },
  {
   "cell_type": "markdown",
   "metadata": {},
   "source": [
    "## Grid Search with sklearn"
   ]
  },
  {
   "cell_type": "code",
   "execution_count": 21,
   "metadata": {},
   "outputs": [],
   "source": [
    "param_grid = {\n",
    "    \"alpha\": [10 ** i for i in range(-3, 2)],\n",
    "    'max_iter': [10, 100, 50_000], \n",
    "    'tol': [1e-4,  1e-2],\n",
    "    \"fit_intercept\": [True, False]  \n",
    "}"
   ]
  },
  {
   "cell_type": "code",
   "execution_count": 22,
   "metadata": {},
   "outputs": [
    {
     "name": "stdout",
     "output_type": "stream",
     "text": [
      "Fitting 3 folds for each of 60 candidates, totalling 180 fits\n"
     ]
    },
    {
     "ename": "KeyboardInterrupt",
     "evalue": "",
     "output_type": "error",
     "traceback": [
      "\u001b[1;31m---------------------------------------------------------------------------\u001b[0m",
      "\u001b[1;31mKeyboardInterrupt\u001b[0m                         Traceback (most recent call last)",
      "Input \u001b[1;32mIn [22]\u001b[0m, in \u001b[0;36m<cell line: 13>\u001b[1;34m()\u001b[0m\n\u001b[0;32m     10\u001b[0m X_use \u001b[38;5;241m=\u001b[39m pd\u001b[38;5;241m.\u001b[39mconcat([X_train, X_val])\u001b[38;5;241m.\u001b[39mhead(\u001b[38;5;241m1_000\u001b[39m)\n\u001b[0;32m     11\u001b[0m y_use \u001b[38;5;241m=\u001b[39m pd\u001b[38;5;241m.\u001b[39mconcat([y_train, y_val])\u001b[38;5;241m.\u001b[39mhead(\u001b[38;5;241m1_000\u001b[39m)\n\u001b[1;32m---> 13\u001b[0m \u001b[43mgrid_search\u001b[49m\u001b[38;5;241;43m.\u001b[39;49m\u001b[43mfit\u001b[49m\u001b[43m(\u001b[49m\u001b[43mX_use\u001b[49m\u001b[43m,\u001b[49m\u001b[43m \u001b[49m\u001b[43my_use\u001b[49m\u001b[43m)\u001b[49m\n",
      "File \u001b[1;32mc:\\Users\\hayk_\\.conda\\envs\\thesis\\lib\\site-packages\\sklearn\\base.py:1473\u001b[0m, in \u001b[0;36m_fit_context.<locals>.decorator.<locals>.wrapper\u001b[1;34m(estimator, *args, **kwargs)\u001b[0m\n\u001b[0;32m   1466\u001b[0m     estimator\u001b[38;5;241m.\u001b[39m_validate_params()\n\u001b[0;32m   1468\u001b[0m \u001b[38;5;28;01mwith\u001b[39;00m config_context(\n\u001b[0;32m   1469\u001b[0m     skip_parameter_validation\u001b[38;5;241m=\u001b[39m(\n\u001b[0;32m   1470\u001b[0m         prefer_skip_nested_validation \u001b[38;5;129;01mor\u001b[39;00m global_skip_validation\n\u001b[0;32m   1471\u001b[0m     )\n\u001b[0;32m   1472\u001b[0m ):\n\u001b[1;32m-> 1473\u001b[0m     \u001b[38;5;28;01mreturn\u001b[39;00m fit_method(estimator, \u001b[38;5;241m*\u001b[39margs, \u001b[38;5;241m*\u001b[39m\u001b[38;5;241m*\u001b[39mkwargs)\n",
      "File \u001b[1;32mc:\\Users\\hayk_\\.conda\\envs\\thesis\\lib\\site-packages\\sklearn\\model_selection\\_search.py:1019\u001b[0m, in \u001b[0;36mBaseSearchCV.fit\u001b[1;34m(self, X, y, **params)\u001b[0m\n\u001b[0;32m   1013\u001b[0m     results \u001b[38;5;241m=\u001b[39m \u001b[38;5;28mself\u001b[39m\u001b[38;5;241m.\u001b[39m_format_results(\n\u001b[0;32m   1014\u001b[0m         all_candidate_params, n_splits, all_out, all_more_results\n\u001b[0;32m   1015\u001b[0m     )\n\u001b[0;32m   1017\u001b[0m     \u001b[38;5;28;01mreturn\u001b[39;00m results\n\u001b[1;32m-> 1019\u001b[0m \u001b[38;5;28;43mself\u001b[39;49m\u001b[38;5;241;43m.\u001b[39;49m\u001b[43m_run_search\u001b[49m\u001b[43m(\u001b[49m\u001b[43mevaluate_candidates\u001b[49m\u001b[43m)\u001b[49m\n\u001b[0;32m   1021\u001b[0m \u001b[38;5;66;03m# multimetric is determined here because in the case of a callable\u001b[39;00m\n\u001b[0;32m   1022\u001b[0m \u001b[38;5;66;03m# self.scoring the return type is only known after calling\u001b[39;00m\n\u001b[0;32m   1023\u001b[0m first_test_score \u001b[38;5;241m=\u001b[39m all_out[\u001b[38;5;241m0\u001b[39m][\u001b[38;5;124m\"\u001b[39m\u001b[38;5;124mtest_scores\u001b[39m\u001b[38;5;124m\"\u001b[39m]\n",
      "File \u001b[1;32mc:\\Users\\hayk_\\.conda\\envs\\thesis\\lib\\site-packages\\sklearn\\model_selection\\_search.py:1573\u001b[0m, in \u001b[0;36mGridSearchCV._run_search\u001b[1;34m(self, evaluate_candidates)\u001b[0m\n\u001b[0;32m   1571\u001b[0m \u001b[38;5;28;01mdef\u001b[39;00m \u001b[38;5;21m_run_search\u001b[39m(\u001b[38;5;28mself\u001b[39m, evaluate_candidates):\n\u001b[0;32m   1572\u001b[0m \u001b[38;5;250m    \u001b[39m\u001b[38;5;124;03m\"\"\"Search all candidates in param_grid\"\"\"\u001b[39;00m\n\u001b[1;32m-> 1573\u001b[0m     \u001b[43mevaluate_candidates\u001b[49m\u001b[43m(\u001b[49m\u001b[43mParameterGrid\u001b[49m\u001b[43m(\u001b[49m\u001b[38;5;28;43mself\u001b[39;49m\u001b[38;5;241;43m.\u001b[39;49m\u001b[43mparam_grid\u001b[49m\u001b[43m)\u001b[49m\u001b[43m)\u001b[49m\n",
      "File \u001b[1;32mc:\\Users\\hayk_\\.conda\\envs\\thesis\\lib\\site-packages\\sklearn\\model_selection\\_search.py:965\u001b[0m, in \u001b[0;36mBaseSearchCV.fit.<locals>.evaluate_candidates\u001b[1;34m(candidate_params, cv, more_results)\u001b[0m\n\u001b[0;32m    957\u001b[0m \u001b[38;5;28;01mif\u001b[39;00m \u001b[38;5;28mself\u001b[39m\u001b[38;5;241m.\u001b[39mverbose \u001b[38;5;241m>\u001b[39m \u001b[38;5;241m0\u001b[39m:\n\u001b[0;32m    958\u001b[0m     \u001b[38;5;28mprint\u001b[39m(\n\u001b[0;32m    959\u001b[0m         \u001b[38;5;124m\"\u001b[39m\u001b[38;5;124mFitting \u001b[39m\u001b[38;5;132;01m{0}\u001b[39;00m\u001b[38;5;124m folds for each of \u001b[39m\u001b[38;5;132;01m{1}\u001b[39;00m\u001b[38;5;124m candidates,\u001b[39m\u001b[38;5;124m\"\u001b[39m\n\u001b[0;32m    960\u001b[0m         \u001b[38;5;124m\"\u001b[39m\u001b[38;5;124m totalling \u001b[39m\u001b[38;5;132;01m{2}\u001b[39;00m\u001b[38;5;124m fits\u001b[39m\u001b[38;5;124m\"\u001b[39m\u001b[38;5;241m.\u001b[39mformat(\n\u001b[0;32m    961\u001b[0m             n_splits, n_candidates, n_candidates \u001b[38;5;241m*\u001b[39m n_splits\n\u001b[0;32m    962\u001b[0m         )\n\u001b[0;32m    963\u001b[0m     )\n\u001b[1;32m--> 965\u001b[0m out \u001b[38;5;241m=\u001b[39m \u001b[43mparallel\u001b[49m\u001b[43m(\u001b[49m\n\u001b[0;32m    966\u001b[0m \u001b[43m    \u001b[49m\u001b[43mdelayed\u001b[49m\u001b[43m(\u001b[49m\u001b[43m_fit_and_score\u001b[49m\u001b[43m)\u001b[49m\u001b[43m(\u001b[49m\n\u001b[0;32m    967\u001b[0m \u001b[43m        \u001b[49m\u001b[43mclone\u001b[49m\u001b[43m(\u001b[49m\u001b[43mbase_estimator\u001b[49m\u001b[43m)\u001b[49m\u001b[43m,\u001b[49m\n\u001b[0;32m    968\u001b[0m \u001b[43m        \u001b[49m\u001b[43mX\u001b[49m\u001b[43m,\u001b[49m\n\u001b[0;32m    969\u001b[0m \u001b[43m        \u001b[49m\u001b[43my\u001b[49m\u001b[43m,\u001b[49m\n\u001b[0;32m    970\u001b[0m \u001b[43m        \u001b[49m\u001b[43mtrain\u001b[49m\u001b[38;5;241;43m=\u001b[39;49m\u001b[43mtrain\u001b[49m\u001b[43m,\u001b[49m\n\u001b[0;32m    971\u001b[0m \u001b[43m        \u001b[49m\u001b[43mtest\u001b[49m\u001b[38;5;241;43m=\u001b[39;49m\u001b[43mtest\u001b[49m\u001b[43m,\u001b[49m\n\u001b[0;32m    972\u001b[0m \u001b[43m        \u001b[49m\u001b[43mparameters\u001b[49m\u001b[38;5;241;43m=\u001b[39;49m\u001b[43mparameters\u001b[49m\u001b[43m,\u001b[49m\n\u001b[0;32m    973\u001b[0m \u001b[43m        \u001b[49m\u001b[43msplit_progress\u001b[49m\u001b[38;5;241;43m=\u001b[39;49m\u001b[43m(\u001b[49m\u001b[43msplit_idx\u001b[49m\u001b[43m,\u001b[49m\u001b[43m \u001b[49m\u001b[43mn_splits\u001b[49m\u001b[43m)\u001b[49m\u001b[43m,\u001b[49m\n\u001b[0;32m    974\u001b[0m \u001b[43m        \u001b[49m\u001b[43mcandidate_progress\u001b[49m\u001b[38;5;241;43m=\u001b[39;49m\u001b[43m(\u001b[49m\u001b[43mcand_idx\u001b[49m\u001b[43m,\u001b[49m\u001b[43m \u001b[49m\u001b[43mn_candidates\u001b[49m\u001b[43m)\u001b[49m\u001b[43m,\u001b[49m\n\u001b[0;32m    975\u001b[0m \u001b[43m        \u001b[49m\u001b[38;5;241;43m*\u001b[39;49m\u001b[38;5;241;43m*\u001b[39;49m\u001b[43mfit_and_score_kwargs\u001b[49m\u001b[43m,\u001b[49m\n\u001b[0;32m    976\u001b[0m \u001b[43m    \u001b[49m\u001b[43m)\u001b[49m\n\u001b[0;32m    977\u001b[0m \u001b[43m    \u001b[49m\u001b[38;5;28;43;01mfor\u001b[39;49;00m\u001b[43m \u001b[49m\u001b[43m(\u001b[49m\u001b[43mcand_idx\u001b[49m\u001b[43m,\u001b[49m\u001b[43m \u001b[49m\u001b[43mparameters\u001b[49m\u001b[43m)\u001b[49m\u001b[43m,\u001b[49m\u001b[43m \u001b[49m\u001b[43m(\u001b[49m\u001b[43msplit_idx\u001b[49m\u001b[43m,\u001b[49m\u001b[43m \u001b[49m\u001b[43m(\u001b[49m\u001b[43mtrain\u001b[49m\u001b[43m,\u001b[49m\u001b[43m \u001b[49m\u001b[43mtest\u001b[49m\u001b[43m)\u001b[49m\u001b[43m)\u001b[49m\u001b[43m \u001b[49m\u001b[38;5;129;43;01min\u001b[39;49;00m\u001b[43m \u001b[49m\u001b[43mproduct\u001b[49m\u001b[43m(\u001b[49m\n\u001b[0;32m    978\u001b[0m \u001b[43m        \u001b[49m\u001b[38;5;28;43menumerate\u001b[39;49m\u001b[43m(\u001b[49m\u001b[43mcandidate_params\u001b[49m\u001b[43m)\u001b[49m\u001b[43m,\u001b[49m\n\u001b[0;32m    979\u001b[0m \u001b[43m        \u001b[49m\u001b[38;5;28;43menumerate\u001b[39;49m\u001b[43m(\u001b[49m\u001b[43mcv\u001b[49m\u001b[38;5;241;43m.\u001b[39;49m\u001b[43msplit\u001b[49m\u001b[43m(\u001b[49m\u001b[43mX\u001b[49m\u001b[43m,\u001b[49m\u001b[43m \u001b[49m\u001b[43my\u001b[49m\u001b[43m,\u001b[49m\u001b[43m \u001b[49m\u001b[38;5;241;43m*\u001b[39;49m\u001b[38;5;241;43m*\u001b[39;49m\u001b[43mrouted_params\u001b[49m\u001b[38;5;241;43m.\u001b[39;49m\u001b[43msplitter\u001b[49m\u001b[38;5;241;43m.\u001b[39;49m\u001b[43msplit\u001b[49m\u001b[43m)\u001b[49m\u001b[43m)\u001b[49m\u001b[43m,\u001b[49m\n\u001b[0;32m    980\u001b[0m \u001b[43m    \u001b[49m\u001b[43m)\u001b[49m\n\u001b[0;32m    981\u001b[0m \u001b[43m\u001b[49m\u001b[43m)\u001b[49m\n\u001b[0;32m    983\u001b[0m \u001b[38;5;28;01mif\u001b[39;00m \u001b[38;5;28mlen\u001b[39m(out) \u001b[38;5;241m<\u001b[39m \u001b[38;5;241m1\u001b[39m:\n\u001b[0;32m    984\u001b[0m     \u001b[38;5;28;01mraise\u001b[39;00m \u001b[38;5;167;01mValueError\u001b[39;00m(\n\u001b[0;32m    985\u001b[0m         \u001b[38;5;124m\"\u001b[39m\u001b[38;5;124mNo fits were performed. \u001b[39m\u001b[38;5;124m\"\u001b[39m\n\u001b[0;32m    986\u001b[0m         \u001b[38;5;124m\"\u001b[39m\u001b[38;5;124mWas the CV iterator empty? \u001b[39m\u001b[38;5;124m\"\u001b[39m\n\u001b[0;32m    987\u001b[0m         \u001b[38;5;124m\"\u001b[39m\u001b[38;5;124mWere there no candidates?\u001b[39m\u001b[38;5;124m\"\u001b[39m\n\u001b[0;32m    988\u001b[0m     )\n",
      "File \u001b[1;32mc:\\Users\\hayk_\\.conda\\envs\\thesis\\lib\\site-packages\\sklearn\\utils\\parallel.py:74\u001b[0m, in \u001b[0;36mParallel.__call__\u001b[1;34m(self, iterable)\u001b[0m\n\u001b[0;32m     69\u001b[0m config \u001b[38;5;241m=\u001b[39m get_config()\n\u001b[0;32m     70\u001b[0m iterable_with_config \u001b[38;5;241m=\u001b[39m (\n\u001b[0;32m     71\u001b[0m     (_with_config(delayed_func, config), args, kwargs)\n\u001b[0;32m     72\u001b[0m     \u001b[38;5;28;01mfor\u001b[39;00m delayed_func, args, kwargs \u001b[38;5;129;01min\u001b[39;00m iterable\n\u001b[0;32m     73\u001b[0m )\n\u001b[1;32m---> 74\u001b[0m \u001b[38;5;28;01mreturn\u001b[39;00m \u001b[38;5;28;43msuper\u001b[39;49m\u001b[43m(\u001b[49m\u001b[43m)\u001b[49m\u001b[38;5;241;43m.\u001b[39;49m\u001b[38;5;21;43m__call__\u001b[39;49m\u001b[43m(\u001b[49m\u001b[43miterable_with_config\u001b[49m\u001b[43m)\u001b[49m\n",
      "File \u001b[1;32mc:\\Users\\hayk_\\.conda\\envs\\thesis\\lib\\site-packages\\joblib\\parallel.py:2007\u001b[0m, in \u001b[0;36mParallel.__call__\u001b[1;34m(self, iterable)\u001b[0m\n\u001b[0;32m   2001\u001b[0m \u001b[38;5;66;03m# The first item from the output is blank, but it makes the interpreter\u001b[39;00m\n\u001b[0;32m   2002\u001b[0m \u001b[38;5;66;03m# progress until it enters the Try/Except block of the generator and\u001b[39;00m\n\u001b[0;32m   2003\u001b[0m \u001b[38;5;66;03m# reach the first `yield` statement. This starts the aynchronous\u001b[39;00m\n\u001b[0;32m   2004\u001b[0m \u001b[38;5;66;03m# dispatch of the tasks to the workers.\u001b[39;00m\n\u001b[0;32m   2005\u001b[0m \u001b[38;5;28mnext\u001b[39m(output)\n\u001b[1;32m-> 2007\u001b[0m \u001b[38;5;28;01mreturn\u001b[39;00m output \u001b[38;5;28;01mif\u001b[39;00m \u001b[38;5;28mself\u001b[39m\u001b[38;5;241m.\u001b[39mreturn_generator \u001b[38;5;28;01melse\u001b[39;00m \u001b[38;5;28;43mlist\u001b[39;49m\u001b[43m(\u001b[49m\u001b[43moutput\u001b[49m\u001b[43m)\u001b[49m\n",
      "File \u001b[1;32mc:\\Users\\hayk_\\.conda\\envs\\thesis\\lib\\site-packages\\joblib\\parallel.py:1650\u001b[0m, in \u001b[0;36mParallel._get_outputs\u001b[1;34m(self, iterator, pre_dispatch)\u001b[0m\n\u001b[0;32m   1647\u001b[0m     \u001b[38;5;28;01myield\u001b[39;00m\n\u001b[0;32m   1649\u001b[0m     \u001b[38;5;28;01mwith\u001b[39;00m \u001b[38;5;28mself\u001b[39m\u001b[38;5;241m.\u001b[39m_backend\u001b[38;5;241m.\u001b[39mretrieval_context():\n\u001b[1;32m-> 1650\u001b[0m         \u001b[38;5;28;01myield from\u001b[39;00m \u001b[38;5;28mself\u001b[39m\u001b[38;5;241m.\u001b[39m_retrieve()\n\u001b[0;32m   1652\u001b[0m \u001b[38;5;28;01mexcept\u001b[39;00m \u001b[38;5;167;01mGeneratorExit\u001b[39;00m:\n\u001b[0;32m   1653\u001b[0m     \u001b[38;5;66;03m# The generator has been garbage collected before being fully\u001b[39;00m\n\u001b[0;32m   1654\u001b[0m     \u001b[38;5;66;03m# consumed. This aborts the remaining tasks if possible and warn\u001b[39;00m\n\u001b[0;32m   1655\u001b[0m     \u001b[38;5;66;03m# the user if necessary.\u001b[39;00m\n\u001b[0;32m   1656\u001b[0m     \u001b[38;5;28mself\u001b[39m\u001b[38;5;241m.\u001b[39m_exception \u001b[38;5;241m=\u001b[39m \u001b[38;5;28;01mTrue\u001b[39;00m\n",
      "File \u001b[1;32mc:\\Users\\hayk_\\.conda\\envs\\thesis\\lib\\site-packages\\joblib\\parallel.py:1762\u001b[0m, in \u001b[0;36mParallel._retrieve\u001b[1;34m(self)\u001b[0m\n\u001b[0;32m   1757\u001b[0m \u001b[38;5;66;03m# If the next job is not ready for retrieval yet, we just wait for\u001b[39;00m\n\u001b[0;32m   1758\u001b[0m \u001b[38;5;66;03m# async callbacks to progress.\u001b[39;00m\n\u001b[0;32m   1759\u001b[0m \u001b[38;5;28;01mif\u001b[39;00m ((\u001b[38;5;28mlen\u001b[39m(\u001b[38;5;28mself\u001b[39m\u001b[38;5;241m.\u001b[39m_jobs) \u001b[38;5;241m==\u001b[39m \u001b[38;5;241m0\u001b[39m) \u001b[38;5;129;01mor\u001b[39;00m\n\u001b[0;32m   1760\u001b[0m     (\u001b[38;5;28mself\u001b[39m\u001b[38;5;241m.\u001b[39m_jobs[\u001b[38;5;241m0\u001b[39m]\u001b[38;5;241m.\u001b[39mget_status(\n\u001b[0;32m   1761\u001b[0m         timeout\u001b[38;5;241m=\u001b[39m\u001b[38;5;28mself\u001b[39m\u001b[38;5;241m.\u001b[39mtimeout) \u001b[38;5;241m==\u001b[39m TASK_PENDING)):\n\u001b[1;32m-> 1762\u001b[0m     \u001b[43mtime\u001b[49m\u001b[38;5;241;43m.\u001b[39;49m\u001b[43msleep\u001b[49m\u001b[43m(\u001b[49m\u001b[38;5;241;43m0.01\u001b[39;49m\u001b[43m)\u001b[49m\n\u001b[0;32m   1763\u001b[0m     \u001b[38;5;28;01mcontinue\u001b[39;00m\n\u001b[0;32m   1765\u001b[0m \u001b[38;5;66;03m# We need to be careful: the job list can be filling up as\u001b[39;00m\n\u001b[0;32m   1766\u001b[0m \u001b[38;5;66;03m# we empty it and Python list are not thread-safe by\u001b[39;00m\n\u001b[0;32m   1767\u001b[0m \u001b[38;5;66;03m# default hence the use of the lock\u001b[39;00m\n",
      "\u001b[1;31mKeyboardInterrupt\u001b[0m: "
     ]
    }
   ],
   "source": [
    "grid_search = GridSearchCV(\n",
    "    estimator=Lasso(),\n",
    "    param_grid=param_grid,\n",
    "    scoring='r2',       # Optimize R^2\n",
    "    cv=3,               # 5-fold cross-validation\n",
    "    n_jobs=-1,          # Use all CPU cores\n",
    "    verbose=True        # Print more information  \n",
    ")\n",
    "\n",
    "X_use = pd.concat([X_train, X_val]).head(1_000)\n",
    "y_use = pd.concat([y_train, y_val]).head(1_000)\n",
    "\n",
    "grid_search.fit(X_use, y_use)\n"
   ]
  },
  {
   "cell_type": "code",
   "execution_count": 102,
   "metadata": {},
   "outputs": [
    {
     "name": "stdout",
     "output_type": "stream",
     "text": [
      "\n",
      "== Grid Search Results ==\n",
      "Best parameters found: {'alpha': 10, 'fit_intercept': True, 'max_iter': 50000, 'tol': 0.01}\n",
      "Best cross-validation R^2: 0.5424913981816509\n"
     ]
    }
   ],
   "source": [
    "print(\"\\n== Grid Search Results ==\")\n",
    "print(\"Best parameters found:\", grid_search.best_params_)\n",
    "print(\"Best cross-validation R^2:\", grid_search.best_score_)\n"
   ]
  },
  {
   "cell_type": "code",
   "execution_count": 103,
   "metadata": {},
   "outputs": [
    {
     "name": "stdout",
     "output_type": "stream",
     "text": [
      "Train: RMSE=83108.20, R^2=0.02\n",
      "Val: RMSE=111435.42, R^2=-0.12\n",
      "Test: RMSE=37364.36, R^2=0.54\n"
     ]
    }
   ],
   "source": [
    "from sklearn.metrics import r2_score, root_mean_squared_error\n",
    "\n",
    "best_lasso = grid_search.best_estimator_\n",
    "\n",
    "y_train_pred = best_lasso.predict(X_train)\n",
    "y_val_pred = best_lasso.predict(X_val)\n",
    "y_test_pred = best_lasso.predict(X_test)\n",
    "\n",
    "def evaluate_model(y_true, y_pred):\n",
    "    mse = root_mean_squared_error(y_true, y_pred)\n",
    "    r2 = r2_score(y_true, y_pred)\n",
    "    return mse, r2\n",
    "\n",
    "mse_train, r2_train = evaluate_model(y_train, y_train_pred)\n",
    "mse_val, r2_val = evaluate_model(y_val, y_val_pred)\n",
    "mse_test, r2_test = evaluate_model(y_test, y_test_pred)\n",
    "\n",
    "print(f\"Train: RMSE={mse_train:.2f}, R^2={r2_train:.2f}\")\n",
    "print(f\"Val: RMSE={mse_val:.2f}, R^2={r2_val:.2f}\")\n",
    "print(f\"Test: RMSE={mse_test:.2f}, R^2={r2_test:.2f}\")\n"
   ]
  },
  {
   "cell_type": "markdown",
   "metadata": {},
   "source": [
    "## Random Search"
   ]
  },
  {
   "cell_type": "code",
   "execution_count": 23,
   "metadata": {},
   "outputs": [],
   "source": [
    "from scipy.stats import loguniform, randint\n"
   ]
  },
  {
   "cell_type": "code",
   "execution_count": 24,
   "metadata": {},
   "outputs": [
    {
     "name": "stdout",
     "output_type": "stream",
     "text": [
      "Random Search will sample from these hyperparameter distributions:\n",
      "  alpha: <scipy.stats._distn_infrastructure.rv_continuous_frozen object at 0x00000206FCD59C90>\n",
      "  max_iter: <scipy.stats._distn_infrastructure.rv_discrete_frozen object at 0x00000206A376B5E0>\n"
     ]
    }
   ],
   "source": [
    "param_dist = {\n",
    "    'alpha': loguniform(1e-3, 1e4),  # alpha in [1e-3, 1e4]\n",
    "    'max_iter': randint(10, 5000)    # integer in [10, 5000)\n",
    "}\n",
    "\n",
    "print(\"Random Search will sample from these hyperparameter distributions:\")\n",
    "for p, dist in param_dist.items():\n",
    "    print(f\"  {p}: {dist}\")"
   ]
  },
  {
   "cell_type": "code",
   "execution_count": 108,
   "metadata": {},
   "outputs": [],
   "source": [
    "random_search = RandomizedSearchCV(\n",
    "    estimator=Lasso(),\n",
    "    param_distributions=param_dist,\n",
    "    n_iter=100,         # try 100 combinations of hyperparameters\n",
    "    scoring='r2',       # optimize R^2\n",
    "    cv=3,               # 3-fold cross-validation\n",
    "    n_jobs=-1,          # use all CPU cores\n",
    "    verbose=1,          # get more information\n",
    "    random_state=509   # random seed for reproducibility\n",
    ")"
   ]
  },
  {
   "cell_type": "code",
   "execution_count": 111,
   "metadata": {},
   "outputs": [
    {
     "name": "stdout",
     "output_type": "stream",
     "text": [
      "Fitting 3 folds for each of 100 candidates, totalling 300 fits\n"
     ]
    },
    {
     "data": {
      "text/html": [
       "<style>#sk-container-id-8 {\n",
       "  /* Definition of color scheme common for light and dark mode */\n",
       "  --sklearn-color-text: black;\n",
       "  --sklearn-color-line: gray;\n",
       "  /* Definition of color scheme for unfitted estimators */\n",
       "  --sklearn-color-unfitted-level-0: #fff5e6;\n",
       "  --sklearn-color-unfitted-level-1: #f6e4d2;\n",
       "  --sklearn-color-unfitted-level-2: #ffe0b3;\n",
       "  --sklearn-color-unfitted-level-3: chocolate;\n",
       "  /* Definition of color scheme for fitted estimators */\n",
       "  --sklearn-color-fitted-level-0: #f0f8ff;\n",
       "  --sklearn-color-fitted-level-1: #d4ebff;\n",
       "  --sklearn-color-fitted-level-2: #b3dbfd;\n",
       "  --sklearn-color-fitted-level-3: cornflowerblue;\n",
       "\n",
       "  /* Specific color for light theme */\n",
       "  --sklearn-color-text-on-default-background: var(--sg-text-color, var(--theme-code-foreground, var(--jp-content-font-color1, black)));\n",
       "  --sklearn-color-background: var(--sg-background-color, var(--theme-background, var(--jp-layout-color0, white)));\n",
       "  --sklearn-color-border-box: var(--sg-text-color, var(--theme-code-foreground, var(--jp-content-font-color1, black)));\n",
       "  --sklearn-color-icon: #696969;\n",
       "\n",
       "  @media (prefers-color-scheme: dark) {\n",
       "    /* Redefinition of color scheme for dark theme */\n",
       "    --sklearn-color-text-on-default-background: var(--sg-text-color, var(--theme-code-foreground, var(--jp-content-font-color1, white)));\n",
       "    --sklearn-color-background: var(--sg-background-color, var(--theme-background, var(--jp-layout-color0, #111)));\n",
       "    --sklearn-color-border-box: var(--sg-text-color, var(--theme-code-foreground, var(--jp-content-font-color1, white)));\n",
       "    --sklearn-color-icon: #878787;\n",
       "  }\n",
       "}\n",
       "\n",
       "#sk-container-id-8 {\n",
       "  color: var(--sklearn-color-text);\n",
       "}\n",
       "\n",
       "#sk-container-id-8 pre {\n",
       "  padding: 0;\n",
       "}\n",
       "\n",
       "#sk-container-id-8 input.sk-hidden--visually {\n",
       "  border: 0;\n",
       "  clip: rect(1px 1px 1px 1px);\n",
       "  clip: rect(1px, 1px, 1px, 1px);\n",
       "  height: 1px;\n",
       "  margin: -1px;\n",
       "  overflow: hidden;\n",
       "  padding: 0;\n",
       "  position: absolute;\n",
       "  width: 1px;\n",
       "}\n",
       "\n",
       "#sk-container-id-8 div.sk-dashed-wrapped {\n",
       "  border: 1px dashed var(--sklearn-color-line);\n",
       "  margin: 0 0.4em 0.5em 0.4em;\n",
       "  box-sizing: border-box;\n",
       "  padding-bottom: 0.4em;\n",
       "  background-color: var(--sklearn-color-background);\n",
       "}\n",
       "\n",
       "#sk-container-id-8 div.sk-container {\n",
       "  /* jupyter's `normalize.less` sets `[hidden] { display: none; }`\n",
       "     but bootstrap.min.css set `[hidden] { display: none !important; }`\n",
       "     so we also need the `!important` here to be able to override the\n",
       "     default hidden behavior on the sphinx rendered scikit-learn.org.\n",
       "     See: https://github.com/scikit-learn/scikit-learn/issues/21755 */\n",
       "  display: inline-block !important;\n",
       "  position: relative;\n",
       "}\n",
       "\n",
       "#sk-container-id-8 div.sk-text-repr-fallback {\n",
       "  display: none;\n",
       "}\n",
       "\n",
       "div.sk-parallel-item,\n",
       "div.sk-serial,\n",
       "div.sk-item {\n",
       "  /* draw centered vertical line to link estimators */\n",
       "  background-image: linear-gradient(var(--sklearn-color-text-on-default-background), var(--sklearn-color-text-on-default-background));\n",
       "  background-size: 2px 100%;\n",
       "  background-repeat: no-repeat;\n",
       "  background-position: center center;\n",
       "}\n",
       "\n",
       "/* Parallel-specific style estimator block */\n",
       "\n",
       "#sk-container-id-8 div.sk-parallel-item::after {\n",
       "  content: \"\";\n",
       "  width: 100%;\n",
       "  border-bottom: 2px solid var(--sklearn-color-text-on-default-background);\n",
       "  flex-grow: 1;\n",
       "}\n",
       "\n",
       "#sk-container-id-8 div.sk-parallel {\n",
       "  display: flex;\n",
       "  align-items: stretch;\n",
       "  justify-content: center;\n",
       "  background-color: var(--sklearn-color-background);\n",
       "  position: relative;\n",
       "}\n",
       "\n",
       "#sk-container-id-8 div.sk-parallel-item {\n",
       "  display: flex;\n",
       "  flex-direction: column;\n",
       "}\n",
       "\n",
       "#sk-container-id-8 div.sk-parallel-item:first-child::after {\n",
       "  align-self: flex-end;\n",
       "  width: 50%;\n",
       "}\n",
       "\n",
       "#sk-container-id-8 div.sk-parallel-item:last-child::after {\n",
       "  align-self: flex-start;\n",
       "  width: 50%;\n",
       "}\n",
       "\n",
       "#sk-container-id-8 div.sk-parallel-item:only-child::after {\n",
       "  width: 0;\n",
       "}\n",
       "\n",
       "/* Serial-specific style estimator block */\n",
       "\n",
       "#sk-container-id-8 div.sk-serial {\n",
       "  display: flex;\n",
       "  flex-direction: column;\n",
       "  align-items: center;\n",
       "  background-color: var(--sklearn-color-background);\n",
       "  padding-right: 1em;\n",
       "  padding-left: 1em;\n",
       "}\n",
       "\n",
       "\n",
       "/* Toggleable style: style used for estimator/Pipeline/ColumnTransformer box that is\n",
       "clickable and can be expanded/collapsed.\n",
       "- Pipeline and ColumnTransformer use this feature and define the default style\n",
       "- Estimators will overwrite some part of the style using the `sk-estimator` class\n",
       "*/\n",
       "\n",
       "/* Pipeline and ColumnTransformer style (default) */\n",
       "\n",
       "#sk-container-id-8 div.sk-toggleable {\n",
       "  /* Default theme specific background. It is overwritten whether we have a\n",
       "  specific estimator or a Pipeline/ColumnTransformer */\n",
       "  background-color: var(--sklearn-color-background);\n",
       "}\n",
       "\n",
       "/* Toggleable label */\n",
       "#sk-container-id-8 label.sk-toggleable__label {\n",
       "  cursor: pointer;\n",
       "  display: block;\n",
       "  width: 100%;\n",
       "  margin-bottom: 0;\n",
       "  padding: 0.5em;\n",
       "  box-sizing: border-box;\n",
       "  text-align: center;\n",
       "}\n",
       "\n",
       "#sk-container-id-8 label.sk-toggleable__label-arrow:before {\n",
       "  /* Arrow on the left of the label */\n",
       "  content: \"▸\";\n",
       "  float: left;\n",
       "  margin-right: 0.25em;\n",
       "  color: var(--sklearn-color-icon);\n",
       "}\n",
       "\n",
       "#sk-container-id-8 label.sk-toggleable__label-arrow:hover:before {\n",
       "  color: var(--sklearn-color-text);\n",
       "}\n",
       "\n",
       "/* Toggleable content - dropdown */\n",
       "\n",
       "#sk-container-id-8 div.sk-toggleable__content {\n",
       "  max-height: 0;\n",
       "  max-width: 0;\n",
       "  overflow: hidden;\n",
       "  text-align: left;\n",
       "  /* unfitted */\n",
       "  background-color: var(--sklearn-color-unfitted-level-0);\n",
       "}\n",
       "\n",
       "#sk-container-id-8 div.sk-toggleable__content.fitted {\n",
       "  /* fitted */\n",
       "  background-color: var(--sklearn-color-fitted-level-0);\n",
       "}\n",
       "\n",
       "#sk-container-id-8 div.sk-toggleable__content pre {\n",
       "  margin: 0.2em;\n",
       "  border-radius: 0.25em;\n",
       "  color: var(--sklearn-color-text);\n",
       "  /* unfitted */\n",
       "  background-color: var(--sklearn-color-unfitted-level-0);\n",
       "}\n",
       "\n",
       "#sk-container-id-8 div.sk-toggleable__content.fitted pre {\n",
       "  /* unfitted */\n",
       "  background-color: var(--sklearn-color-fitted-level-0);\n",
       "}\n",
       "\n",
       "#sk-container-id-8 input.sk-toggleable__control:checked~div.sk-toggleable__content {\n",
       "  /* Expand drop-down */\n",
       "  max-height: 200px;\n",
       "  max-width: 100%;\n",
       "  overflow: auto;\n",
       "}\n",
       "\n",
       "#sk-container-id-8 input.sk-toggleable__control:checked~label.sk-toggleable__label-arrow:before {\n",
       "  content: \"▾\";\n",
       "}\n",
       "\n",
       "/* Pipeline/ColumnTransformer-specific style */\n",
       "\n",
       "#sk-container-id-8 div.sk-label input.sk-toggleable__control:checked~label.sk-toggleable__label {\n",
       "  color: var(--sklearn-color-text);\n",
       "  background-color: var(--sklearn-color-unfitted-level-2);\n",
       "}\n",
       "\n",
       "#sk-container-id-8 div.sk-label.fitted input.sk-toggleable__control:checked~label.sk-toggleable__label {\n",
       "  background-color: var(--sklearn-color-fitted-level-2);\n",
       "}\n",
       "\n",
       "/* Estimator-specific style */\n",
       "\n",
       "/* Colorize estimator box */\n",
       "#sk-container-id-8 div.sk-estimator input.sk-toggleable__control:checked~label.sk-toggleable__label {\n",
       "  /* unfitted */\n",
       "  background-color: var(--sklearn-color-unfitted-level-2);\n",
       "}\n",
       "\n",
       "#sk-container-id-8 div.sk-estimator.fitted input.sk-toggleable__control:checked~label.sk-toggleable__label {\n",
       "  /* fitted */\n",
       "  background-color: var(--sklearn-color-fitted-level-2);\n",
       "}\n",
       "\n",
       "#sk-container-id-8 div.sk-label label.sk-toggleable__label,\n",
       "#sk-container-id-8 div.sk-label label {\n",
       "  /* The background is the default theme color */\n",
       "  color: var(--sklearn-color-text-on-default-background);\n",
       "}\n",
       "\n",
       "/* On hover, darken the color of the background */\n",
       "#sk-container-id-8 div.sk-label:hover label.sk-toggleable__label {\n",
       "  color: var(--sklearn-color-text);\n",
       "  background-color: var(--sklearn-color-unfitted-level-2);\n",
       "}\n",
       "\n",
       "/* Label box, darken color on hover, fitted */\n",
       "#sk-container-id-8 div.sk-label.fitted:hover label.sk-toggleable__label.fitted {\n",
       "  color: var(--sklearn-color-text);\n",
       "  background-color: var(--sklearn-color-fitted-level-2);\n",
       "}\n",
       "\n",
       "/* Estimator label */\n",
       "\n",
       "#sk-container-id-8 div.sk-label label {\n",
       "  font-family: monospace;\n",
       "  font-weight: bold;\n",
       "  display: inline-block;\n",
       "  line-height: 1.2em;\n",
       "}\n",
       "\n",
       "#sk-container-id-8 div.sk-label-container {\n",
       "  text-align: center;\n",
       "}\n",
       "\n",
       "/* Estimator-specific */\n",
       "#sk-container-id-8 div.sk-estimator {\n",
       "  font-family: monospace;\n",
       "  border: 1px dotted var(--sklearn-color-border-box);\n",
       "  border-radius: 0.25em;\n",
       "  box-sizing: border-box;\n",
       "  margin-bottom: 0.5em;\n",
       "  /* unfitted */\n",
       "  background-color: var(--sklearn-color-unfitted-level-0);\n",
       "}\n",
       "\n",
       "#sk-container-id-8 div.sk-estimator.fitted {\n",
       "  /* fitted */\n",
       "  background-color: var(--sklearn-color-fitted-level-0);\n",
       "}\n",
       "\n",
       "/* on hover */\n",
       "#sk-container-id-8 div.sk-estimator:hover {\n",
       "  /* unfitted */\n",
       "  background-color: var(--sklearn-color-unfitted-level-2);\n",
       "}\n",
       "\n",
       "#sk-container-id-8 div.sk-estimator.fitted:hover {\n",
       "  /* fitted */\n",
       "  background-color: var(--sklearn-color-fitted-level-2);\n",
       "}\n",
       "\n",
       "/* Specification for estimator info (e.g. \"i\" and \"?\") */\n",
       "\n",
       "/* Common style for \"i\" and \"?\" */\n",
       "\n",
       ".sk-estimator-doc-link,\n",
       "a:link.sk-estimator-doc-link,\n",
       "a:visited.sk-estimator-doc-link {\n",
       "  float: right;\n",
       "  font-size: smaller;\n",
       "  line-height: 1em;\n",
       "  font-family: monospace;\n",
       "  background-color: var(--sklearn-color-background);\n",
       "  border-radius: 1em;\n",
       "  height: 1em;\n",
       "  width: 1em;\n",
       "  text-decoration: none !important;\n",
       "  margin-left: 1ex;\n",
       "  /* unfitted */\n",
       "  border: var(--sklearn-color-unfitted-level-1) 1pt solid;\n",
       "  color: var(--sklearn-color-unfitted-level-1);\n",
       "}\n",
       "\n",
       ".sk-estimator-doc-link.fitted,\n",
       "a:link.sk-estimator-doc-link.fitted,\n",
       "a:visited.sk-estimator-doc-link.fitted {\n",
       "  /* fitted */\n",
       "  border: var(--sklearn-color-fitted-level-1) 1pt solid;\n",
       "  color: var(--sklearn-color-fitted-level-1);\n",
       "}\n",
       "\n",
       "/* On hover */\n",
       "div.sk-estimator:hover .sk-estimator-doc-link:hover,\n",
       ".sk-estimator-doc-link:hover,\n",
       "div.sk-label-container:hover .sk-estimator-doc-link:hover,\n",
       ".sk-estimator-doc-link:hover {\n",
       "  /* unfitted */\n",
       "  background-color: var(--sklearn-color-unfitted-level-3);\n",
       "  color: var(--sklearn-color-background);\n",
       "  text-decoration: none;\n",
       "}\n",
       "\n",
       "div.sk-estimator.fitted:hover .sk-estimator-doc-link.fitted:hover,\n",
       ".sk-estimator-doc-link.fitted:hover,\n",
       "div.sk-label-container:hover .sk-estimator-doc-link.fitted:hover,\n",
       ".sk-estimator-doc-link.fitted:hover {\n",
       "  /* fitted */\n",
       "  background-color: var(--sklearn-color-fitted-level-3);\n",
       "  color: var(--sklearn-color-background);\n",
       "  text-decoration: none;\n",
       "}\n",
       "\n",
       "/* Span, style for the box shown on hovering the info icon */\n",
       ".sk-estimator-doc-link span {\n",
       "  display: none;\n",
       "  z-index: 9999;\n",
       "  position: relative;\n",
       "  font-weight: normal;\n",
       "  right: .2ex;\n",
       "  padding: .5ex;\n",
       "  margin: .5ex;\n",
       "  width: min-content;\n",
       "  min-width: 20ex;\n",
       "  max-width: 50ex;\n",
       "  color: var(--sklearn-color-text);\n",
       "  box-shadow: 2pt 2pt 4pt #999;\n",
       "  /* unfitted */\n",
       "  background: var(--sklearn-color-unfitted-level-0);\n",
       "  border: .5pt solid var(--sklearn-color-unfitted-level-3);\n",
       "}\n",
       "\n",
       ".sk-estimator-doc-link.fitted span {\n",
       "  /* fitted */\n",
       "  background: var(--sklearn-color-fitted-level-0);\n",
       "  border: var(--sklearn-color-fitted-level-3);\n",
       "}\n",
       "\n",
       ".sk-estimator-doc-link:hover span {\n",
       "  display: block;\n",
       "}\n",
       "\n",
       "/* \"?\"-specific style due to the `<a>` HTML tag */\n",
       "\n",
       "#sk-container-id-8 a.estimator_doc_link {\n",
       "  float: right;\n",
       "  font-size: 1rem;\n",
       "  line-height: 1em;\n",
       "  font-family: monospace;\n",
       "  background-color: var(--sklearn-color-background);\n",
       "  border-radius: 1rem;\n",
       "  height: 1rem;\n",
       "  width: 1rem;\n",
       "  text-decoration: none;\n",
       "  /* unfitted */\n",
       "  color: var(--sklearn-color-unfitted-level-1);\n",
       "  border: var(--sklearn-color-unfitted-level-1) 1pt solid;\n",
       "}\n",
       "\n",
       "#sk-container-id-8 a.estimator_doc_link.fitted {\n",
       "  /* fitted */\n",
       "  border: var(--sklearn-color-fitted-level-1) 1pt solid;\n",
       "  color: var(--sklearn-color-fitted-level-1);\n",
       "}\n",
       "\n",
       "/* On hover */\n",
       "#sk-container-id-8 a.estimator_doc_link:hover {\n",
       "  /* unfitted */\n",
       "  background-color: var(--sklearn-color-unfitted-level-3);\n",
       "  color: var(--sklearn-color-background);\n",
       "  text-decoration: none;\n",
       "}\n",
       "\n",
       "#sk-container-id-8 a.estimator_doc_link.fitted:hover {\n",
       "  /* fitted */\n",
       "  background-color: var(--sklearn-color-fitted-level-3);\n",
       "}\n",
       "</style><div id=\"sk-container-id-8\" class=\"sk-top-container\"><div class=\"sk-text-repr-fallback\"><pre>RandomizedSearchCV(cv=3, estimator=Lasso(), n_iter=100, n_jobs=-1,\n",
       "                   param_distributions={&#x27;alpha&#x27;: &lt;scipy.stats._distn_infrastructure.rv_continuous_frozen object at 0x0000022C10AFCD90&gt;,\n",
       "                                        &#x27;max_iter&#x27;: &lt;scipy.stats._distn_infrastructure.rv_discrete_frozen object at 0x0000022C10AFC2B0&gt;},\n",
       "                   random_state=509, scoring=&#x27;r2&#x27;, verbose=1)</pre><b>In a Jupyter environment, please rerun this cell to show the HTML representation or trust the notebook. <br />On GitHub, the HTML representation is unable to render, please try loading this page with nbviewer.org.</b></div><div class=\"sk-container\" hidden><div class=\"sk-item sk-dashed-wrapped\"><div class=\"sk-label-container\"><div class=\"sk-label fitted sk-toggleable\"><input class=\"sk-toggleable__control sk-hidden--visually\" id=\"sk-estimator-id-18\" type=\"checkbox\" ><label for=\"sk-estimator-id-18\" class=\"sk-toggleable__label fitted sk-toggleable__label-arrow fitted\">&nbsp;&nbsp;RandomizedSearchCV<a class=\"sk-estimator-doc-link fitted\" rel=\"noreferrer\" target=\"_blank\" href=\"https://scikit-learn.org/1.5/modules/generated/sklearn.model_selection.RandomizedSearchCV.html\">?<span>Documentation for RandomizedSearchCV</span></a><span class=\"sk-estimator-doc-link fitted\">i<span>Fitted</span></span></label><div class=\"sk-toggleable__content fitted\"><pre>RandomizedSearchCV(cv=3, estimator=Lasso(), n_iter=100, n_jobs=-1,\n",
       "                   param_distributions={&#x27;alpha&#x27;: &lt;scipy.stats._distn_infrastructure.rv_continuous_frozen object at 0x0000022C10AFCD90&gt;,\n",
       "                                        &#x27;max_iter&#x27;: &lt;scipy.stats._distn_infrastructure.rv_discrete_frozen object at 0x0000022C10AFC2B0&gt;},\n",
       "                   random_state=509, scoring=&#x27;r2&#x27;, verbose=1)</pre></div> </div></div><div class=\"sk-parallel\"><div class=\"sk-parallel-item\"><div class=\"sk-item\"><div class=\"sk-label-container\"><div class=\"sk-label fitted sk-toggleable\"><input class=\"sk-toggleable__control sk-hidden--visually\" id=\"sk-estimator-id-19\" type=\"checkbox\" ><label for=\"sk-estimator-id-19\" class=\"sk-toggleable__label fitted sk-toggleable__label-arrow fitted\">best_estimator_: Lasso</label><div class=\"sk-toggleable__content fitted\"><pre>Lasso(alpha=11.87976242665855, max_iter=4585)</pre></div> </div></div><div class=\"sk-serial\"><div class=\"sk-item\"><div class=\"sk-estimator fitted sk-toggleable\"><input class=\"sk-toggleable__control sk-hidden--visually\" id=\"sk-estimator-id-20\" type=\"checkbox\" ><label for=\"sk-estimator-id-20\" class=\"sk-toggleable__label fitted sk-toggleable__label-arrow fitted\">&nbsp;Lasso<a class=\"sk-estimator-doc-link fitted\" rel=\"noreferrer\" target=\"_blank\" href=\"https://scikit-learn.org/1.5/modules/generated/sklearn.linear_model.Lasso.html\">?<span>Documentation for Lasso</span></a></label><div class=\"sk-toggleable__content fitted\"><pre>Lasso(alpha=11.87976242665855, max_iter=4585)</pre></div> </div></div></div></div></div></div></div></div></div>"
      ],
      "text/plain": [
       "RandomizedSearchCV(cv=3, estimator=Lasso(), n_iter=100, n_jobs=-1,\n",
       "                   param_distributions={'alpha': <scipy.stats._distn_infrastructure.rv_continuous_frozen object at 0x0000022C10AFCD90>,\n",
       "                                        'max_iter': <scipy.stats._distn_infrastructure.rv_discrete_frozen object at 0x0000022C10AFC2B0>},\n",
       "                   random_state=509, scoring='r2', verbose=1)"
      ]
     },
     "execution_count": 111,
     "metadata": {},
     "output_type": "execute_result"
    }
   ],
   "source": [
    "X_use = pd.concat([X_train, X_val]).head(1_000)\n",
    "y_use = pd.concat([y_train, y_val]).head(1_000)\n",
    "\n",
    "\n",
    "random_search.fit(X_use, y_use)"
   ]
  },
  {
   "cell_type": "code",
   "execution_count": 112,
   "metadata": {},
   "outputs": [
    {
     "name": "stdout",
     "output_type": "stream",
     "text": [
      "\n",
      "=== RandomizedSearchCV Results ===\n",
      "Best params: {'alpha': 11.87976242665855, 'max_iter': 4585}\n",
      "Best CV R^2: 0.5420305853566706\n"
     ]
    }
   ],
   "source": [
    "\n",
    "print(\"\\n=== RandomizedSearchCV Results ===\")\n",
    "print(\"Best params:\", random_search.best_params_)\n",
    "print(\"Best CV R^2:\", random_search.best_score_)"
   ]
  },
  {
   "cell_type": "code",
   "execution_count": 113,
   "metadata": {},
   "outputs": [
    {
     "data": {
      "text/plain": [
       "{'mean_fit_time': array([0.00737635, 0.01639032, 0.01452788, 0.00501291, 0.04865607,\n",
       "        0.01253215, 0.05014253, 0.00518378, 0.08894293, 0.02473195,\n",
       "        0.05683327, 0.07208387, 0.00651677, 0.01185878, 0.00600743,\n",
       "        0.03046282, 0.09061797, 0.00571314, 0.11936307, 0.05818748,\n",
       "        0.06519278, 0.00818102, 0.01420371, 0.02640192, 0.02172613,\n",
       "        0.10365264, 0.01105404, 0.00752838, 0.04767585, 0.0122145 ,\n",
       "        0.04615887, 0.02392403, 0.06422218, 0.00534638, 0.00819031,\n",
       "        0.02107159, 0.00620969, 0.02257133, 0.02215878, 0.0058589 ,\n",
       "        0.03905479, 0.02523359, 0.00855168, 0.06150262, 0.00893354,\n",
       "        0.04353158, 0.04662975, 0.04958463, 0.03075496, 0.04376769,\n",
       "        0.00590595, 0.06301188, 0.03838595, 0.00551462, 0.00738827,\n",
       "        0.03568268, 0.06727751, 0.06562376, 0.06309589, 0.01212605,\n",
       "        0.0331049 , 0.00838892, 0.01657891, 0.01964808, 0.05005956,\n",
       "        0.06235242, 0.02657437, 0.00701213, 0.0794069 , 0.00569105,\n",
       "        0.00764918, 0.06112719, 0.03223697, 0.01855874, 0.00620063,\n",
       "        0.03276849, 0.06079261, 0.03860291, 0.02122442, 0.01420856,\n",
       "        0.03156503, 0.07353059, 0.05423363, 0.02161821, 0.04045947,\n",
       "        0.03861626, 0.01353343, 0.02875113, 0.01235851, 0.03482517,\n",
       "        0.00718737, 0.03590711, 0.00666952, 0.03047832, 0.06564569,\n",
       "        0.01893965, 0.00896454, 0.07621082, 0.06790129, 0.03906608]),\n",
       " 'std_fit_time': array([1.67958452e-03, 8.73724982e-03, 1.63978843e-03, 4.05613952e-04,\n",
       "        2.21663559e-02, 2.84767037e-03, 7.39208222e-03, 8.41094755e-04,\n",
       "        1.10046686e-02, 7.44232506e-03, 5.85322258e-03, 8.26613458e-03,\n",
       "        1.48905132e-03, 4.69303474e-04, 8.12185572e-04, 6.96491254e-03,\n",
       "        2.99161743e-02, 6.60576794e-04, 3.23299963e-02, 1.13489552e-02,\n",
       "        1.94861430e-02, 1.65986809e-03, 2.02777760e-03, 1.64585967e-02,\n",
       "        1.62047012e-02, 2.78802631e-02, 7.08299118e-03, 2.15770102e-03,\n",
       "        5.81393877e-03, 4.11876840e-03, 5.58135156e-03, 2.48585881e-03,\n",
       "        8.28960495e-03, 2.32252032e-04, 3.77624596e-03, 3.21952392e-05,\n",
       "        1.73483992e-03, 5.36638990e-03, 6.79017369e-03, 4.64458281e-04,\n",
       "        3.33697065e-04, 2.64668318e-03, 3.59085691e-03, 5.72440339e-03,\n",
       "        1.24292022e-03, 1.68863401e-03, 3.51517577e-03, 2.70577632e-03,\n",
       "        2.25786544e-03, 1.34450798e-02, 5.41650784e-04, 3.08020392e-03,\n",
       "        2.68891909e-02, 8.17642187e-04, 2.31822920e-03, 5.23972233e-03,\n",
       "        3.12567154e-03, 1.41872583e-03, 3.27083835e-03, 6.12090416e-03,\n",
       "        1.44103654e-03, 2.29257339e-03, 5.05138115e-03, 7.17119131e-03,\n",
       "        7.00255602e-03, 1.31615073e-03, 7.11508852e-03, 2.05102492e-03,\n",
       "        8.28487641e-03, 2.46682246e-04, 3.07663336e-03, 8.17167660e-04,\n",
       "        2.16356222e-02, 1.86209100e-03, 4.78287769e-04, 2.73417813e-03,\n",
       "        1.65906831e-03, 1.49385865e-03, 9.11587829e-03, 7.32717450e-03,\n",
       "        2.16568832e-03, 7.42729709e-03, 6.29911919e-03, 3.50143653e-03,\n",
       "        2.07802997e-02, 2.15676420e-03, 6.05368415e-03, 7.15206657e-03,\n",
       "        1.18764201e-03, 2.40109224e-03, 2.39985707e-03, 1.52378124e-03,\n",
       "        1.24834843e-03, 9.95697505e-03, 1.04496721e-02, 2.19201311e-03,\n",
       "        7.91854996e-04, 7.63317247e-03, 1.58837620e-03, 7.95502729e-03]),\n",
       " 'mean_score_time': array([0.00385745, 0.00419386, 0.0058674 , 0.00251285, 0.00518211,\n",
       "        0.00318352, 0.00317963, 0.00468183, 0.005011  , 0.00402204,\n",
       "        0.0051918 , 0.00366863, 0.00285157, 0.00301218, 0.00367649,\n",
       "        0.00450945, 0.00434534, 0.00417097, 0.00299939, 0.00535496,\n",
       "        0.00301282, 0.00435313, 0.0158724 , 0.00350563, 0.00334223,\n",
       "        0.00517472, 0.00834982, 0.00334899, 0.00416454, 0.00300447,\n",
       "        0.00366783, 0.00384339, 0.00332562, 0.00400408, 0.00284489,\n",
       "        0.00451851, 0.00333802, 0.00424115, 0.00385801, 0.00333444,\n",
       "        0.00390561, 0.00467396, 0.00321468, 0.00333842, 0.00450985,\n",
       "        0.00451104, 0.00455006, 0.00300646, 0.00367602, 0.00411669,\n",
       "        0.004028  , 0.00417972, 0.00535909, 0.00334024, 0.0028193 ,\n",
       "        0.00351357, 0.00300209, 0.00385682, 0.00401982, 0.00451159,\n",
       "        0.00970014, 0.00394758, 0.00518258, 0.00334064, 0.00335344,\n",
       "        0.00350539, 0.00467531, 0.0066251 , 0.00617671, 0.00334104,\n",
       "        0.00286595, 0.00334183, 0.0035398 , 0.00720326, 0.00400281,\n",
       "        0.00501704, 0.0048426 , 0.00384816, 0.00518163, 0.00366743,\n",
       "        0.00471203, 0.00467825, 0.0051775 , 0.00435758, 0.00449316,\n",
       "        0.0041786 , 0.00300821, 0.0036788 , 0.00486533, 0.00451406,\n",
       "        0.00567921, 0.00416509, 0.00518664, 0.0063533 , 0.0036792 ,\n",
       "        0.0031089 , 0.00317566, 0.00473134, 0.00438126, 0.00410954]),\n",
       " 'std_score_time': array([6.47102674e-04, 1.29569666e-03, 2.63484896e-03, 7.19423057e-04,\n",
       "        3.07026565e-03, 8.57176065e-04, 6.28801129e-04, 2.72112457e-03,\n",
       "        4.17508730e-04, 8.18936743e-04, 1.85290143e-03, 9.41843587e-04,\n",
       "        6.42283555e-04, 4.13389812e-04, 1.32014099e-03, 1.48168434e-03,\n",
       "        2.24646807e-03, 1.04385510e-03, 1.80877156e-06, 2.63640415e-03,\n",
       "        4.04703972e-04, 1.56059063e-03, 1.78494611e-02, 4.07778039e-04,\n",
       "        4.69509136e-04, 1.65576367e-03, 6.86664480e-03, 4.85106541e-04,\n",
       "        2.43201157e-04, 1.62572025e-05, 9.42418190e-04, 1.02898922e-03,\n",
       "        4.55074613e-04, 8.23933960e-04, 6.28931291e-04, 2.11400786e-03,\n",
       "        4.74142421e-04, 1.40483303e-03, 6.38469474e-04, 4.71932673e-04,\n",
       "        2.96640133e-04, 8.55301988e-04, 2.14902519e-04, 4.74044023e-04,\n",
       "        1.22904976e-03, 1.48633288e-03, 8.41452551e-04, 4.05807239e-04,\n",
       "        2.28031248e-04, 1.04471786e-03, 4.10935399e-04, 2.40524916e-03,\n",
       "        2.36380545e-03, 4.73921245e-04, 2.09616172e-04, 3.98099537e-04,\n",
       "        6.90434857e-04, 4.88456359e-04, 8.21897634e-04, 2.13566639e-03,\n",
       "        5.95525119e-03, 1.38965938e-03, 6.19898250e-04, 4.68437373e-04,\n",
       "        4.89375311e-04, 4.08442704e-04, 2.72281049e-03, 2.85458159e-03,\n",
       "        3.80312721e-03, 4.68497718e-04, 5.00933126e-04, 4.77691098e-04,\n",
       "        4.24909402e-04, 3.48565799e-03, 8.18095988e-04, 3.25158220e-03,\n",
       "        8.49565309e-04, 2.45371241e-04, 1.65294875e-03, 4.69069245e-04,\n",
       "        6.32594848e-04, 2.01834502e-03, 2.40536788e-03, 1.54915370e-03,\n",
       "        4.20679852e-04, 8.53528575e-04, 6.92463586e-06, 6.23267968e-04,\n",
       "        1.46452099e-03, 1.47243287e-03, 2.72863694e-03, 1.03868517e-03,\n",
       "        1.70533600e-03, 2.32324549e-03, 1.31701217e-03, 9.52650083e-04,\n",
       "        2.41834515e-04, 1.31617976e-03, 3.01597279e-03, 2.23220670e-03]),\n",
       " 'param_alpha': masked_array(data=[195.48405222863136, 82.56029576197498,\n",
       "                    0.44024351225185143, 364.0701112808811,\n",
       "                    53.727140757694336, 0.0043970564429580234,\n",
       "                    0.03590927096469022, 9980.865434069025,\n",
       "                    0.002859570703723829, 68.23620415720254,\n",
       "                    0.02786619091895085, 0.005574267134998345,\n",
       "                    1528.0547398319738, 21.63340002058571,\n",
       "                    351.8379927192362, 0.021022167265373932,\n",
       "                    2.321345973691301, 5252.8186891347095,\n",
       "                    0.08187807832790248, 0.030739933220278234,\n",
       "                    4.942470567858895, 179.13521431417263,\n",
       "                    0.001177995364294815, 4.562168492227108,\n",
       "                    0.002207275376044895, 0.014025771845171363,\n",
       "                    3390.080431689054, 496.44710663064103,\n",
       "                    0.9401173957764195, 279.9544005549383,\n",
       "                    0.004040045367342484, 1.8372523401167777,\n",
       "                    11.671067370512267, 3673.757325304093,\n",
       "                    270.122183566781, 0.002651348387177266,\n",
       "                    1236.452077007676, 2.0369493311953026,\n",
       "                    49.540735270318905, 9017.145602941444,\n",
       "                    3.1897003451724237, 15.909005271591043,\n",
       "                    270.5949990606467, 15.137747350461387,\n",
       "                    350.89109688767945, 0.008675038900473228,\n",
       "                    1.2870872989629856, 0.003803559141377889,\n",
       "                    0.07258854342439401, 37.43482657508818,\n",
       "                    2008.7689880811952, 0.04881183888256398,\n",
       "                    63.8819190813346, 3554.968069875446, 792.7423587690853,\n",
       "                    0.49233448299839666, 24.14622420657272,\n",
       "                    0.5558866110877222, 23.21656369692641,\n",
       "                    331.8103818659524, 0.002128244975686662,\n",
       "                    520.0636441296363, 140.40308635230468,\n",
       "                    77.27545764780585, 0.36743797569455094,\n",
       "                    0.20534478509228804, 8.932900065010093,\n",
       "                    5642.591615624239, 0.008000368916087281,\n",
       "                    4.873423508938212, 1213.525631228544,\n",
       "                    0.5447174208915585, 62.18010099049566,\n",
       "                    0.13219595827549685, 1105.3277407711132,\n",
       "                    0.00308637973690833, 5.4049607969252085,\n",
       "                    5.194844024734802, 72.3076580431818, 138.0676055792673,\n",
       "                    11.827851064389034, 8.47955879881921, 3.46048879759531,\n",
       "                    0.04203177850537053, 0.005418819150254471,\n",
       "                    0.026016689740516158, 108.43077219430774,\n",
       "                    0.03141610961665743, 0.01668099427846113,\n",
       "                    1.1480918541790852, 6091.199063147831,\n",
       "                    0.5057140744171967, 734.3400569136479,\n",
       "                    17.596719675694793, 5.798883543365199,\n",
       "                    48.83292778582255, 185.40778026381705,\n",
       "                    11.87976242665855, 0.6138735273878335,\n",
       "                    0.005426812420837048],\n",
       "              mask=[False, False, False, False, False, False, False, False,\n",
       "                    False, False, False, False, False, False, False, False,\n",
       "                    False, False, False, False, False, False, False, False,\n",
       "                    False, False, False, False, False, False, False, False,\n",
       "                    False, False, False, False, False, False, False, False,\n",
       "                    False, False, False, False, False, False, False, False,\n",
       "                    False, False, False, False, False, False, False, False,\n",
       "                    False, False, False, False, False, False, False, False,\n",
       "                    False, False, False, False, False, False, False, False,\n",
       "                    False, False, False, False, False, False, False, False,\n",
       "                    False, False, False, False, False, False, False, False,\n",
       "                    False, False, False, False, False, False, False, False,\n",
       "                    False, False, False, False],\n",
       "        fill_value=1e+20),\n",
       " 'param_max_iter': masked_array(data=[3865, 607, 1070, 2827, 4182, 526, 2264, 4712, 4893,\n",
       "                    2164, 3097, 4409, 139, 585, 1400, 1170, 4282, 4238,\n",
       "                    4628, 3488, 2584, 1975, 726, 978, 323, 4637, 593, 4239,\n",
       "                    2364, 4507, 2702, 1107, 3690, 2265, 4365, 1321, 1415,\n",
       "                    901, 1114, 1777, 2421, 1399, 3203, 4266, 708, 2458,\n",
       "                    2527, 3109, 1826, 3587, 3527, 3698, 4611, 3260, 1908,\n",
       "                    1801, 4268, 3988, 3549, 449, 1889, 466, 3433, 2071,\n",
       "                    2629, 3489, 1265, 2679, 4675, 132, 2778, 3595, 3895,\n",
       "                    935, 1996, 1624, 3828, 2393, 2066, 2585, 1986, 4185,\n",
       "                    3198, 1000, 1703, 2709, 3285, 1677, 597, 2374, 2999,\n",
       "                    2309, 2184, 1642, 3276, 1074, 4879, 4585, 4319, 2148],\n",
       "              mask=[False, False, False, False, False, False, False, False,\n",
       "                    False, False, False, False, False, False, False, False,\n",
       "                    False, False, False, False, False, False, False, False,\n",
       "                    False, False, False, False, False, False, False, False,\n",
       "                    False, False, False, False, False, False, False, False,\n",
       "                    False, False, False, False, False, False, False, False,\n",
       "                    False, False, False, False, False, False, False, False,\n",
       "                    False, False, False, False, False, False, False, False,\n",
       "                    False, False, False, False, False, False, False, False,\n",
       "                    False, False, False, False, False, False, False, False,\n",
       "                    False, False, False, False, False, False, False, False,\n",
       "                    False, False, False, False, False, False, False, False,\n",
       "                    False, False, False, False],\n",
       "        fill_value=999999),\n",
       " 'params': [{'alpha': 195.48405222863136, 'max_iter': 3865},\n",
       "  {'alpha': 82.56029576197498, 'max_iter': 607},\n",
       "  {'alpha': 0.44024351225185143, 'max_iter': 1070},\n",
       "  {'alpha': 364.0701112808811, 'max_iter': 2827},\n",
       "  {'alpha': 53.727140757694336, 'max_iter': 4182},\n",
       "  {'alpha': 0.0043970564429580234, 'max_iter': 526},\n",
       "  {'alpha': 0.03590927096469022, 'max_iter': 2264},\n",
       "  {'alpha': 9980.865434069025, 'max_iter': 4712},\n",
       "  {'alpha': 0.002859570703723829, 'max_iter': 4893},\n",
       "  {'alpha': 68.23620415720254, 'max_iter': 2164},\n",
       "  {'alpha': 0.02786619091895085, 'max_iter': 3097},\n",
       "  {'alpha': 0.005574267134998345, 'max_iter': 4409},\n",
       "  {'alpha': 1528.0547398319738, 'max_iter': 139},\n",
       "  {'alpha': 21.63340002058571, 'max_iter': 585},\n",
       "  {'alpha': 351.8379927192362, 'max_iter': 1400},\n",
       "  {'alpha': 0.021022167265373932, 'max_iter': 1170},\n",
       "  {'alpha': 2.321345973691301, 'max_iter': 4282},\n",
       "  {'alpha': 5252.8186891347095, 'max_iter': 4238},\n",
       "  {'alpha': 0.08187807832790248, 'max_iter': 4628},\n",
       "  {'alpha': 0.030739933220278234, 'max_iter': 3488},\n",
       "  {'alpha': 4.942470567858895, 'max_iter': 2584},\n",
       "  {'alpha': 179.13521431417263, 'max_iter': 1975},\n",
       "  {'alpha': 0.001177995364294815, 'max_iter': 726},\n",
       "  {'alpha': 4.562168492227108, 'max_iter': 978},\n",
       "  {'alpha': 0.002207275376044895, 'max_iter': 323},\n",
       "  {'alpha': 0.014025771845171363, 'max_iter': 4637},\n",
       "  {'alpha': 3390.080431689054, 'max_iter': 593},\n",
       "  {'alpha': 496.44710663064103, 'max_iter': 4239},\n",
       "  {'alpha': 0.9401173957764195, 'max_iter': 2364},\n",
       "  {'alpha': 279.9544005549383, 'max_iter': 4507},\n",
       "  {'alpha': 0.004040045367342484, 'max_iter': 2702},\n",
       "  {'alpha': 1.8372523401167777, 'max_iter': 1107},\n",
       "  {'alpha': 11.671067370512267, 'max_iter': 3690},\n",
       "  {'alpha': 3673.757325304093, 'max_iter': 2265},\n",
       "  {'alpha': 270.122183566781, 'max_iter': 4365},\n",
       "  {'alpha': 0.002651348387177266, 'max_iter': 1321},\n",
       "  {'alpha': 1236.452077007676, 'max_iter': 1415},\n",
       "  {'alpha': 2.0369493311953026, 'max_iter': 901},\n",
       "  {'alpha': 49.540735270318905, 'max_iter': 1114},\n",
       "  {'alpha': 9017.145602941444, 'max_iter': 1777},\n",
       "  {'alpha': 3.1897003451724237, 'max_iter': 2421},\n",
       "  {'alpha': 15.909005271591043, 'max_iter': 1399},\n",
       "  {'alpha': 270.5949990606467, 'max_iter': 3203},\n",
       "  {'alpha': 15.137747350461387, 'max_iter': 4266},\n",
       "  {'alpha': 350.89109688767945, 'max_iter': 708},\n",
       "  {'alpha': 0.008675038900473228, 'max_iter': 2458},\n",
       "  {'alpha': 1.2870872989629856, 'max_iter': 2527},\n",
       "  {'alpha': 0.003803559141377889, 'max_iter': 3109},\n",
       "  {'alpha': 0.07258854342439401, 'max_iter': 1826},\n",
       "  {'alpha': 37.43482657508818, 'max_iter': 3587},\n",
       "  {'alpha': 2008.7689880811952, 'max_iter': 3527},\n",
       "  {'alpha': 0.04881183888256398, 'max_iter': 3698},\n",
       "  {'alpha': 63.8819190813346, 'max_iter': 4611},\n",
       "  {'alpha': 3554.968069875446, 'max_iter': 3260},\n",
       "  {'alpha': 792.7423587690853, 'max_iter': 1908},\n",
       "  {'alpha': 0.49233448299839666, 'max_iter': 1801},\n",
       "  {'alpha': 24.14622420657272, 'max_iter': 4268},\n",
       "  {'alpha': 0.5558866110877222, 'max_iter': 3988},\n",
       "  {'alpha': 23.21656369692641, 'max_iter': 3549},\n",
       "  {'alpha': 331.8103818659524, 'max_iter': 449},\n",
       "  {'alpha': 0.002128244975686662, 'max_iter': 1889},\n",
       "  {'alpha': 520.0636441296363, 'max_iter': 466},\n",
       "  {'alpha': 140.40308635230468, 'max_iter': 3433},\n",
       "  {'alpha': 77.27545764780585, 'max_iter': 2071},\n",
       "  {'alpha': 0.36743797569455094, 'max_iter': 2629},\n",
       "  {'alpha': 0.20534478509228804, 'max_iter': 3489},\n",
       "  {'alpha': 8.932900065010093, 'max_iter': 1265},\n",
       "  {'alpha': 5642.591615624239, 'max_iter': 2679},\n",
       "  {'alpha': 0.008000368916087281, 'max_iter': 4675},\n",
       "  {'alpha': 4.873423508938212, 'max_iter': 132},\n",
       "  {'alpha': 1213.525631228544, 'max_iter': 2778},\n",
       "  {'alpha': 0.5447174208915585, 'max_iter': 3595},\n",
       "  {'alpha': 62.18010099049566, 'max_iter': 3895},\n",
       "  {'alpha': 0.13219595827549685, 'max_iter': 935},\n",
       "  {'alpha': 1105.3277407711132, 'max_iter': 1996},\n",
       "  {'alpha': 0.00308637973690833, 'max_iter': 1624},\n",
       "  {'alpha': 5.4049607969252085, 'max_iter': 3828},\n",
       "  {'alpha': 5.194844024734802, 'max_iter': 2393},\n",
       "  {'alpha': 72.3076580431818, 'max_iter': 2066},\n",
       "  {'alpha': 138.0676055792673, 'max_iter': 2585},\n",
       "  {'alpha': 11.827851064389034, 'max_iter': 1986},\n",
       "  {'alpha': 8.47955879881921, 'max_iter': 4185},\n",
       "  {'alpha': 3.46048879759531, 'max_iter': 3198},\n",
       "  {'alpha': 0.04203177850537053, 'max_iter': 1000},\n",
       "  {'alpha': 0.005418819150254471, 'max_iter': 1703},\n",
       "  {'alpha': 0.026016689740516158, 'max_iter': 2709},\n",
       "  {'alpha': 108.43077219430774, 'max_iter': 3285},\n",
       "  {'alpha': 0.03141610961665743, 'max_iter': 1677},\n",
       "  {'alpha': 0.01668099427846113, 'max_iter': 597},\n",
       "  {'alpha': 1.1480918541790852, 'max_iter': 2374},\n",
       "  {'alpha': 6091.199063147831, 'max_iter': 2999},\n",
       "  {'alpha': 0.5057140744171967, 'max_iter': 2309},\n",
       "  {'alpha': 734.3400569136479, 'max_iter': 2184},\n",
       "  {'alpha': 17.596719675694793, 'max_iter': 1642},\n",
       "  {'alpha': 5.798883543365199, 'max_iter': 3276},\n",
       "  {'alpha': 48.83292778582255, 'max_iter': 1074},\n",
       "  {'alpha': 185.40778026381705, 'max_iter': 4879},\n",
       "  {'alpha': 11.87976242665855, 'max_iter': 4585},\n",
       "  {'alpha': 0.6138735273878335, 'max_iter': 4319},\n",
       "  {'alpha': 0.005426812420837048, 'max_iter': 2148}],\n",
       " 'split0_test_score': array([0.66253522, 0.67167592, 0.67648791, 0.65588383, 0.67545591,\n",
       "        0.67516686, 0.68145967, 0.35585537, 0.68650425, 0.67335251,\n",
       "        0.68408879, 0.68617856, 0.62986633, 0.67646047, 0.65617531,\n",
       "        0.67684697, 0.68660344, 0.50116831, 0.68637276, 0.68494438,\n",
       "        0.68360245, 0.6632763 , 0.67545733, 0.67652143, 0.67545981,\n",
       "        0.68635756, 0.57540059, 0.65322439, 0.68200221, 0.65783852,\n",
       "        0.68297784, 0.67671005, 0.6858444 , 0.56542738, 0.65805894,\n",
       "        0.67745887, 0.63739958, 0.67605719, 0.67602361, 0.36938335,\n",
       "        0.68267345, 0.68004765, 0.65804838, 0.68505362, 0.65619783,\n",
       "        0.68216799, 0.68266453, 0.68411223, 0.67966412, 0.67749421,\n",
       "        0.61592583, 0.68531873, 0.67392623, 0.569662  , 0.64745221,\n",
       "        0.6796006 , 0.68223141, 0.68590111, 0.68274139, 0.65664818,\n",
       "        0.67992745, 0.65279154, 0.66615542, 0.67206349, 0.68282415,\n",
       "        0.6849944 , 0.67830876, 0.48383965, 0.68638097, 0.67463271,\n",
       "        0.63796016, 0.68528023, 0.67418561, 0.67602085, 0.64054597,\n",
       "        0.67877241, 0.68616338, 0.68297496, 0.67271039, 0.66641929,\n",
       "        0.68253103, 0.68644195, 0.68503934, 0.67622713, 0.67912001,\n",
       "        0.68300461, 0.66963977, 0.67900761, 0.67523228, 0.68207782,\n",
       "        0.46283184, 0.68171488, 0.64864908, 0.68093306, 0.68515703,\n",
       "        0.67612174, 0.66300149, 0.68680439, 0.68628195, 0.6810011 ]),\n",
       " 'split1_test_score': array([0.60973181, 0.60923967, 0.6018751 , 0.60572335, 0.60716037,\n",
       "        0.60439775, 0.59550651, 0.37964056, 0.58332131, 0.60930811,\n",
       "        0.59072505, 0.58492286, 0.59176321, 0.60682279, 0.60570417,\n",
       "        0.60138906, 0.58768976, 0.51294919, 0.58425961, 0.58875991,\n",
       "        0.59610923, 0.6101766 , 0.60322616, 0.60292092, 0.60620197,\n",
       "        0.58414978, 0.56115113, 0.60539417, 0.59531811, 0.60569824,\n",
       "        0.59289928, 0.60198179, 0.59557535, 0.55503628, 0.60647029,\n",
       "        0.6007215 , 0.59699226, 0.60281189, 0.60569497, 0.38583732,\n",
       "        0.5960716 , 0.60341396, 0.6064402 , 0.5964127 , 0.6057014 ,\n",
       "        0.59433342, 0.59457541, 0.59064311, 0.59810794, 0.60290937,\n",
       "        0.58376656, 0.58780874, 0.60869041, 0.55749827, 0.60279787,\n",
       "        0.59838149, 0.60009867, 0.58708137, 0.59852111, 0.60565311,\n",
       "        0.59772199, 0.60523035, 0.61090927, 0.61025691, 0.59352156,\n",
       "        0.58891023, 0.60271054, 0.49997018, 0.58401755, 0.60949635,\n",
       "        0.59735775, 0.58872371, 0.60846876, 0.60235482, 0.59897956,\n",
       "        0.59920821, 0.59169046, 0.59708526, 0.609766  , 0.61091454,\n",
       "        0.60080737, 0.59305747, 0.5925966 , 0.60208232, 0.59877873,\n",
       "        0.59287186, 0.61142735, 0.59892912, 0.60392885, 0.59535454,\n",
       "        0.48377601, 0.59544423, 0.60336842, 0.6028404 , 0.59361747,\n",
       "        0.60546618, 0.61001789, 0.59474388, 0.58590504, 0.59618986]),\n",
       " 'split2_test_score': array([0.32097615, 0.33533594, 0.3329735 , 0.32961835, 0.33759228,\n",
       "        0.32982083, 0.34162957, 0.26391336, 0.35270058, 0.33618418,\n",
       "        0.34683763, 0.35176105, 0.34928982, 0.33083587, 0.32911074,\n",
       "        0.33386313, 0.34954649, 0.33648756, 0.35219459, 0.34871197,\n",
       "        0.3406831 , 0.32244665, 0.33164028, 0.32845134, 0.32249174,\n",
       "        0.35224722, 0.35134073, 0.33464799, 0.34203637, 0.3260837 ,\n",
       "        0.34457274, 0.33199724, 0.34303893, 0.34999889, 0.32565122,\n",
       "        0.33481107, 0.34709514, 0.3306835 , 0.33841482, 0.27239916,\n",
       "        0.34043488, 0.33609605, 0.3256719 , 0.34152997, 0.32907348,\n",
       "        0.34298477, 0.34301691, 0.34691209, 0.3383952 , 0.33956279,\n",
       "        0.35162744, 0.34955786, 0.33653925, 0.35060089, 0.34171991,\n",
       "        0.3380455 , 0.33455114, 0.35028167, 0.33654048, 0.32829275,\n",
       "        0.33889164, 0.33546193, 0.32822448, 0.3354893 , 0.34398648,\n",
       "        0.34862243, 0.33037538, 0.33122415, 0.35232338, 0.30158671,\n",
       "        0.34687742, 0.34887339, 0.33665499, 0.33253497, 0.34576181,\n",
       "        0.33692368, 0.34691904, 0.33945535, 0.3358804 , 0.32871433,\n",
       "        0.33875723, 0.34611638, 0.34446   , 0.3329252 , 0.33750434,\n",
       "        0.34460839, 0.33264205, 0.33730221, 0.33069946, 0.34203822,\n",
       "        0.32409784, 0.3417941 , 0.34083064, 0.33800635, 0.34501063,\n",
       "        0.3386464 , 0.32151599, 0.34454349, 0.35119575, 0.34080516]),\n",
       " 'mean_test_score': array([0.53108106, 0.53875051, 0.53711217, 0.53040851, 0.54006952,\n",
       "        0.53646181, 0.53953192, 0.33313643, 0.54084204, 0.53961493,\n",
       "        0.54055049, 0.54095416, 0.52363979, 0.53803971, 0.53033007,\n",
       "        0.53736639, 0.5412799 , 0.45020169, 0.54094232, 0.54080542,\n",
       "        0.54013159, 0.53196651, 0.53677459, 0.53596456, 0.53471784,\n",
       "        0.54091819, 0.49596415, 0.53108885, 0.53978556, 0.52987348,\n",
       "        0.54014995, 0.53689636, 0.54148623, 0.49015419, 0.53006015,\n",
       "        0.53766382, 0.52716233, 0.53651753, 0.54004447, 0.34253994,\n",
       "        0.53972665, 0.53985255, 0.53005349, 0.54099876, 0.53032423,\n",
       "        0.53982873, 0.54008562, 0.54055581, 0.53872242, 0.53998879,\n",
       "        0.51710661, 0.54089511, 0.53971863, 0.49258705, 0.53065666,\n",
       "        0.53867586, 0.53896041, 0.54108805, 0.53926766, 0.53019801,\n",
       "        0.53884703, 0.53116127, 0.53509639, 0.5392699 , 0.54011073,\n",
       "        0.54084236, 0.53713156, 0.43834466, 0.5409073 , 0.52857192,\n",
       "        0.52739844, 0.54095911, 0.53976979, 0.53697021, 0.52842911,\n",
       "        0.53830143, 0.54159096, 0.53983852, 0.53945226, 0.53534939,\n",
       "        0.54069854, 0.54187193, 0.54069864, 0.53707821, 0.53846769,\n",
       "        0.54016162, 0.53790306, 0.53841298, 0.5366202 , 0.53982352,\n",
       "        0.42356856, 0.53965107, 0.53094938, 0.54059327, 0.54126171,\n",
       "        0.54007811, 0.53151179, 0.54203059, 0.54112758, 0.53933204]),\n",
       " 'std_test_score': array([0.15012241, 0.14607689, 0.14752675, 0.14344926, 0.14586259,\n",
       "        0.14894616, 0.14427056, 0.04990196, 0.1395459 , 0.14620414,\n",
       "        0.14217994, 0.14002072, 0.12426154, 0.14924795, 0.14376775,\n",
       "        0.147159  , 0.14146202, 0.08055174, 0.13982383, 0.14139256,\n",
       "        0.14548435, 0.14973048, 0.14801891, 0.14977886, 0.15270691,\n",
       "        0.13978354, 0.10242953, 0.14027043, 0.14423844, 0.14566482,\n",
       "        0.1430999 , 0.14806263, 0.14508187, 0.09919551, 0.14606529,\n",
       "        0.1468198 , 0.1283909 , 0.14858657, 0.14543593, 0.05004985,\n",
       "        0.14528793, 0.14743522, 0.14604732, 0.14561399, 0.14379122,\n",
       "        0.14373444, 0.14391428, 0.14214438, 0.14551311, 0.14495668,\n",
       "        0.11774569, 0.14103075, 0.14611713, 0.10052211, 0.13483651,\n",
       "        0.14569041, 0.14837746, 0.14082292, 0.1474155 , 0.1442785 ,\n",
       "        0.14531816, 0.13973592, 0.14800906, 0.14628719, 0.14339289,\n",
       "        0.14146711, 0.1494208 , 0.07603136, 0.13974379, 0.16269071,\n",
       "        0.12871938, 0.14142956, 0.14610816, 0.14765274, 0.13027522,\n",
       "        0.14605334, 0.14295489, 0.14596649, 0.14622272, 0.14785969,\n",
       "        0.14663995, 0.14357423, 0.14380223, 0.14749735, 0.14583868,\n",
       "        0.1430892 , 0.14707421, 0.14591618, 0.14848919, 0.14426712,\n",
       "        0.07085423, 0.14427102, 0.13569926, 0.14675538, 0.14371438,\n",
       "        0.14532515, 0.15005664, 0.14461362, 0.14041475, 0.1445866 ]),\n",
       " 'rank_test_score': array([ 77,  50,  61,  80,  30,  68,  43, 100,  17,  42,  23,  11,  91,\n",
       "         56,  81,  59,   5,  96,  12,  18,  26,  73,  65,  69,  72,  13,\n",
       "         93,  76,  37,  86,  25,  64,   4,  95,  84,  58,  90,  67,  31,\n",
       "         99,  39,  33,  85,   9,  82,  35,  28,  22,  51,  32,  92,  15,\n",
       "         40,  94,  79,  52,  48,   8,  47,  83,  49,  75,  71,  46,  27,\n",
       "         16,  60,  97,  14,  87,  89,  10,  38,  63,  88,  55,   3,  34,\n",
       "         44,  70,  20,   2,  19,  62,  53,  24,  57,  54,  66,  36,  98,\n",
       "         41,  78,  21,   6,  29,  74,   1,   7,  45])}"
      ]
     },
     "execution_count": 113,
     "metadata": {},
     "output_type": "execute_result"
    }
   ],
   "source": [
    "random_search.cv_results_"
   ]
  },
  {
   "cell_type": "code",
   "execution_count": 115,
   "metadata": {},
   "outputs": [
    {
     "data": {
      "text/html": [
       "<div>\n",
       "<style scoped>\n",
       "    .dataframe tbody tr th:only-of-type {\n",
       "        vertical-align: middle;\n",
       "    }\n",
       "\n",
       "    .dataframe tbody tr th {\n",
       "        vertical-align: top;\n",
       "    }\n",
       "\n",
       "    .dataframe thead th {\n",
       "        text-align: right;\n",
       "    }\n",
       "</style>\n",
       "<table border=\"1\" class=\"dataframe\">\n",
       "  <thead>\n",
       "    <tr style=\"text-align: right;\">\n",
       "      <th></th>\n",
       "      <th>param_alpha</th>\n",
       "      <th>param_max_iter</th>\n",
       "      <th>mean_test_score</th>\n",
       "      <th>rank_test_score</th>\n",
       "    </tr>\n",
       "  </thead>\n",
       "  <tbody>\n",
       "    <tr>\n",
       "      <th>97</th>\n",
       "      <td>11.879762</td>\n",
       "      <td>4585</td>\n",
       "      <td>0.542031</td>\n",
       "      <td>1</td>\n",
       "    </tr>\n",
       "    <tr>\n",
       "      <th>81</th>\n",
       "      <td>8.479559</td>\n",
       "      <td>4185</td>\n",
       "      <td>0.541872</td>\n",
       "      <td>2</td>\n",
       "    </tr>\n",
       "    <tr>\n",
       "      <th>76</th>\n",
       "      <td>5.404961</td>\n",
       "      <td>3828</td>\n",
       "      <td>0.541591</td>\n",
       "      <td>3</td>\n",
       "    </tr>\n",
       "    <tr>\n",
       "      <th>32</th>\n",
       "      <td>11.671067</td>\n",
       "      <td>3690</td>\n",
       "      <td>0.541486</td>\n",
       "      <td>4</td>\n",
       "    </tr>\n",
       "    <tr>\n",
       "      <th>16</th>\n",
       "      <td>2.321346</td>\n",
       "      <td>4282</td>\n",
       "      <td>0.541280</td>\n",
       "      <td>5</td>\n",
       "    </tr>\n",
       "    <tr>\n",
       "      <th>...</th>\n",
       "      <td>...</td>\n",
       "      <td>...</td>\n",
       "      <td>...</td>\n",
       "      <td>...</td>\n",
       "    </tr>\n",
       "    <tr>\n",
       "      <th>17</th>\n",
       "      <td>5252.818689</td>\n",
       "      <td>4238</td>\n",
       "      <td>0.450202</td>\n",
       "      <td>96</td>\n",
       "    </tr>\n",
       "    <tr>\n",
       "      <th>67</th>\n",
       "      <td>5642.591616</td>\n",
       "      <td>2679</td>\n",
       "      <td>0.438345</td>\n",
       "      <td>97</td>\n",
       "    </tr>\n",
       "    <tr>\n",
       "      <th>90</th>\n",
       "      <td>6091.199063</td>\n",
       "      <td>2999</td>\n",
       "      <td>0.423569</td>\n",
       "      <td>98</td>\n",
       "    </tr>\n",
       "    <tr>\n",
       "      <th>39</th>\n",
       "      <td>9017.145603</td>\n",
       "      <td>1777</td>\n",
       "      <td>0.342540</td>\n",
       "      <td>99</td>\n",
       "    </tr>\n",
       "    <tr>\n",
       "      <th>7</th>\n",
       "      <td>9980.865434</td>\n",
       "      <td>4712</td>\n",
       "      <td>0.333136</td>\n",
       "      <td>100</td>\n",
       "    </tr>\n",
       "  </tbody>\n",
       "</table>\n",
       "<p>100 rows × 4 columns</p>\n",
       "</div>"
      ],
      "text/plain": [
       "    param_alpha  param_max_iter  mean_test_score  rank_test_score\n",
       "97    11.879762            4585         0.542031                1\n",
       "81     8.479559            4185         0.541872                2\n",
       "76     5.404961            3828         0.541591                3\n",
       "32    11.671067            3690         0.541486                4\n",
       "16     2.321346            4282         0.541280                5\n",
       "..          ...             ...              ...              ...\n",
       "17  5252.818689            4238         0.450202               96\n",
       "67  5642.591616            2679         0.438345               97\n",
       "90  6091.199063            2999         0.423569               98\n",
       "39  9017.145603            1777         0.342540               99\n",
       "7   9980.865434            4712         0.333136              100\n",
       "\n",
       "[100 rows x 4 columns]"
      ]
     },
     "execution_count": 115,
     "metadata": {},
     "output_type": "execute_result"
    }
   ],
   "source": [
    "import pandas as pd\n",
    "\n",
    "# Suppose you already have a fitted RandomizedSearchCV object named random_search\n",
    "random_results_df = pd.DataFrame(random_search.cv_results_)\n",
    "\n",
    "# Each hyperparameter is in a column with 'param_' prefix:\n",
    "# e.g., 'param_alpha', 'param_max_iter', etc.\n",
    "# You can display them along with the mean CV score, etc.\n",
    "df_random_search = random_results_df[\n",
    "    ['param_alpha', 'param_max_iter', 'mean_test_score', 'rank_test_score']\n",
    "].sort_values(by='mean_test_score', ascending=False)\n",
    "\n",
    "df_random_search"
   ]
  },
  {
   "cell_type": "code",
   "execution_count": 121,
   "metadata": {},
   "outputs": [
    {
     "data": {
      "application/vnd.plotly.v1+json": {
       "config": {
        "plotlyServerURL": "https://plot.ly"
       },
       "data": [
        {
         "hovertemplate": "param_alpha=%{x}<br>param_max_iter=%{y}<br>mean_test_score=%{marker.color}<extra></extra>",
         "legendgroup": "",
         "marker": {
          "color": [
           0.5420305853566706,
           0.5418719337468071,
           0.5415909577477649,
           0.5414862272100668,
           0.5412798954208247,
           0.5412617079023462,
           0.5411275783026351,
           0.5410880547142352,
           0.5409987635442332,
           0.5409591087130661,
           0.5409541572181563,
           0.5409423189987083,
           0.5409181858883887,
           0.5409072979376547,
           0.5408951103269461,
           0.5408423571983986,
           0.5408420441094727,
           0.5408054175850988,
           0.5406986445979491,
           0.5406985431698698,
           0.5405932697715584,
           0.5405558090648945,
           0.5405504911327709,
           0.5401616223868583,
           0.5401499512400144,
           0.5401315925791484,
           0.5401107324341488,
           0.5400856160776311,
           0.5400781088555119,
           0.5400695199077861,
           0.540044466075288,
           0.5399887907042145,
           0.5398525544627082,
           0.5398385211683924,
           0.5398287262154172,
           0.5398235234202179,
           0.5397855643868834,
           0.5397697874127191,
           0.5397266451773955,
           0.5397186300796047,
           0.5396510706695046,
           0.5396149336562304,
           0.5395319163687023,
           0.5394522632800101,
           0.5393320380887262,
           0.5392698980504268,
           0.5392676592351182,
           0.5389604055557277,
           0.5388470264470896,
           0.5387505120804038,
           0.5387224196478226,
           0.5386758625418429,
           0.538467692201608,
           0.5384129792883029,
           0.5383014348388081,
           0.5380397075686509,
           0.5379030558495779,
           0.5376638162663764,
           0.5373663870739955,
           0.5371315571297424,
           0.5371121719579981,
           0.5370782145241989,
           0.5369702130098263,
           0.5368963578108933,
           0.5367745924050862,
           0.536620196372788,
           0.5365175279650649,
           0.5364618147596018,
           0.5359645643302743,
           0.5353493858612136,
           0.5350963913424241,
           0.5347178379952017,
           0.5319665141576633,
           0.5315117891988315,
           0.5311612747334171,
           0.531088852037891,
           0.5310810593301242,
           0.530949382252981,
           0.530656661331498,
           0.5304085075437907,
           0.5303300745265102,
           0.5303242345355138,
           0.5301980128957321,
           0.5300601514429673,
           0.5300534921592979,
           0.5298734842855922,
           0.5285719226158928,
           0.5284291143094276,
           0.5273984428636789,
           0.5271623270670331,
           0.5236397885893518,
           0.5171066084429885,
           0.49596415245250763,
           0.4925870539612915,
           0.4901541861672536,
           0.4502016882482396,
           0.438344658106272,
           0.42356856337591814,
           0.3425399415701212,
           0.33313643075706073
          ],
          "coloraxis": "coloraxis",
          "symbol": "circle"
         },
         "mode": "markers",
         "name": "",
         "orientation": "v",
         "showlegend": false,
         "type": "scatter",
         "x": [
          11.87976242665855,
          8.47955879881921,
          5.4049607969252085,
          11.671067370512267,
          2.321345973691301,
          5.798883543365199,
          0.6138735273878335,
          0.5558866110877222,
          15.137747350461387,
          0.5447174208915585,
          0.005574267134998345,
          0.08187807832790248,
          0.014025771845171363,
          0.008000368916087281,
          0.04881183888256398,
          0.20534478509228804,
          0.002859570703723829,
          0.030739933220278234,
          3.46048879759531,
          11.827851064389034,
          17.596719675694793,
          0.003803559141377889,
          0.02786619091895085,
          0.026016689740516158,
          0.004040045367342484,
          4.942470567858895,
          0.36743797569455094,
          1.2870872989629856,
          48.83292778582255,
          53.727140757694336,
          49.540735270318905,
          37.43482657508818,
          15.909005271591043,
          5.194844024734802,
          0.008675038900473228,
          1.1480918541790852,
          0.9401173957764195,
          62.18010099049566,
          3.1897003451724237,
          63.8819190813346,
          0.5057140744171967,
          68.23620415720254,
          0.03590927096469022,
          72.3076580431818,
          0.005426812420837048,
          77.27545764780585,
          23.21656369692641,
          24.14622420657272,
          0.002128244975686662,
          82.56029576197498,
          0.07258854342439401,
          0.49233448299839666,
          0.005418819150254471,
          0.03141610961665743,
          0.00308637973690833,
          21.63340002058571,
          108.43077219430774,
          0.002651348387177266,
          0.021022167265373932,
          8.932900065010093,
          0.44024351225185143,
          0.04203177850537053,
          0.13219595827549685,
          1.8372523401167777,
          0.001177995364294815,
          0.01668099427846113,
          2.0369493311953026,
          0.0043970564429580234,
          4.562168492227108,
          138.0676055792673,
          140.40308635230468,
          0.002207275376044895,
          179.13521431417263,
          185.40778026381705,
          520.0636441296363,
          496.44710663064103,
          195.48405222863136,
          734.3400569136479,
          792.7423587690853,
          364.0701112808811,
          351.8379927192362,
          350.89109688767945,
          331.8103818659524,
          270.122183566781,
          270.5949990606467,
          279.9544005549383,
          4.873423508938212,
          1105.3277407711132,
          1213.525631228544,
          1236.452077007676,
          1528.0547398319738,
          2008.7689880811952,
          3390.080431689054,
          3554.968069875446,
          3673.757325304093,
          5252.8186891347095,
          5642.591615624239,
          6091.199063147831,
          9017.145602941444,
          9980.865434069025
         ],
         "xaxis": "x",
         "y": [
          4585,
          4185,
          3828,
          3690,
          4282,
          3276,
          4319,
          3988,
          4266,
          3595,
          4409,
          4628,
          4637,
          4675,
          3698,
          3489,
          4893,
          3488,
          3198,
          1986,
          1642,
          3109,
          3097,
          2709,
          2702,
          2584,
          2629,
          2527,
          1074,
          4182,
          1114,
          3587,
          1399,
          2393,
          2458,
          2374,
          2364,
          3895,
          2421,
          4611,
          2309,
          2164,
          2264,
          2066,
          2148,
          2071,
          3549,
          4268,
          1889,
          607,
          1826,
          1801,
          1703,
          1677,
          1624,
          585,
          3285,
          1321,
          1170,
          1265,
          1070,
          1000,
          935,
          1107,
          726,
          597,
          901,
          526,
          978,
          2585,
          3433,
          323,
          1975,
          4879,
          466,
          4239,
          3865,
          2184,
          1908,
          2827,
          1400,
          708,
          449,
          4365,
          3203,
          4507,
          132,
          1996,
          2778,
          1415,
          139,
          3527,
          593,
          3260,
          2265,
          4238,
          2679,
          2999,
          1777,
          4712
         ],
         "yaxis": "y"
        }
       ],
       "layout": {
        "coloraxis": {
         "colorbar": {
          "title": {
           "text": "mean_test_score"
          }
         },
         "colorscale": [
          [
           0,
           "#440154"
          ],
          [
           0.1111111111111111,
           "#482878"
          ],
          [
           0.2222222222222222,
           "#3e4989"
          ],
          [
           0.3333333333333333,
           "#31688e"
          ],
          [
           0.4444444444444444,
           "#26828e"
          ],
          [
           0.5555555555555556,
           "#1f9e89"
          ],
          [
           0.6666666666666666,
           "#35b779"
          ],
          [
           0.7777777777777778,
           "#6ece58"
          ],
          [
           0.8888888888888888,
           "#b5de2b"
          ],
          [
           1,
           "#fde725"
          ]
         ]
        },
        "legend": {
         "tracegroupgap": 0
        },
        "template": {
         "data": {
          "bar": [
           {
            "error_x": {
             "color": "#2a3f5f"
            },
            "error_y": {
             "color": "#2a3f5f"
            },
            "marker": {
             "line": {
              "color": "#E5ECF6",
              "width": 0.5
             },
             "pattern": {
              "fillmode": "overlay",
              "size": 10,
              "solidity": 0.2
             }
            },
            "type": "bar"
           }
          ],
          "barpolar": [
           {
            "marker": {
             "line": {
              "color": "#E5ECF6",
              "width": 0.5
             },
             "pattern": {
              "fillmode": "overlay",
              "size": 10,
              "solidity": 0.2
             }
            },
            "type": "barpolar"
           }
          ],
          "carpet": [
           {
            "aaxis": {
             "endlinecolor": "#2a3f5f",
             "gridcolor": "white",
             "linecolor": "white",
             "minorgridcolor": "white",
             "startlinecolor": "#2a3f5f"
            },
            "baxis": {
             "endlinecolor": "#2a3f5f",
             "gridcolor": "white",
             "linecolor": "white",
             "minorgridcolor": "white",
             "startlinecolor": "#2a3f5f"
            },
            "type": "carpet"
           }
          ],
          "choropleth": [
           {
            "colorbar": {
             "outlinewidth": 0,
             "ticks": ""
            },
            "type": "choropleth"
           }
          ],
          "contour": [
           {
            "colorbar": {
             "outlinewidth": 0,
             "ticks": ""
            },
            "colorscale": [
             [
              0,
              "#0d0887"
             ],
             [
              0.1111111111111111,
              "#46039f"
             ],
             [
              0.2222222222222222,
              "#7201a8"
             ],
             [
              0.3333333333333333,
              "#9c179e"
             ],
             [
              0.4444444444444444,
              "#bd3786"
             ],
             [
              0.5555555555555556,
              "#d8576b"
             ],
             [
              0.6666666666666666,
              "#ed7953"
             ],
             [
              0.7777777777777778,
              "#fb9f3a"
             ],
             [
              0.8888888888888888,
              "#fdca26"
             ],
             [
              1,
              "#f0f921"
             ]
            ],
            "type": "contour"
           }
          ],
          "contourcarpet": [
           {
            "colorbar": {
             "outlinewidth": 0,
             "ticks": ""
            },
            "type": "contourcarpet"
           }
          ],
          "heatmap": [
           {
            "colorbar": {
             "outlinewidth": 0,
             "ticks": ""
            },
            "colorscale": [
             [
              0,
              "#0d0887"
             ],
             [
              0.1111111111111111,
              "#46039f"
             ],
             [
              0.2222222222222222,
              "#7201a8"
             ],
             [
              0.3333333333333333,
              "#9c179e"
             ],
             [
              0.4444444444444444,
              "#bd3786"
             ],
             [
              0.5555555555555556,
              "#d8576b"
             ],
             [
              0.6666666666666666,
              "#ed7953"
             ],
             [
              0.7777777777777778,
              "#fb9f3a"
             ],
             [
              0.8888888888888888,
              "#fdca26"
             ],
             [
              1,
              "#f0f921"
             ]
            ],
            "type": "heatmap"
           }
          ],
          "heatmapgl": [
           {
            "colorbar": {
             "outlinewidth": 0,
             "ticks": ""
            },
            "colorscale": [
             [
              0,
              "#0d0887"
             ],
             [
              0.1111111111111111,
              "#46039f"
             ],
             [
              0.2222222222222222,
              "#7201a8"
             ],
             [
              0.3333333333333333,
              "#9c179e"
             ],
             [
              0.4444444444444444,
              "#bd3786"
             ],
             [
              0.5555555555555556,
              "#d8576b"
             ],
             [
              0.6666666666666666,
              "#ed7953"
             ],
             [
              0.7777777777777778,
              "#fb9f3a"
             ],
             [
              0.8888888888888888,
              "#fdca26"
             ],
             [
              1,
              "#f0f921"
             ]
            ],
            "type": "heatmapgl"
           }
          ],
          "histogram": [
           {
            "marker": {
             "pattern": {
              "fillmode": "overlay",
              "size": 10,
              "solidity": 0.2
             }
            },
            "type": "histogram"
           }
          ],
          "histogram2d": [
           {
            "colorbar": {
             "outlinewidth": 0,
             "ticks": ""
            },
            "colorscale": [
             [
              0,
              "#0d0887"
             ],
             [
              0.1111111111111111,
              "#46039f"
             ],
             [
              0.2222222222222222,
              "#7201a8"
             ],
             [
              0.3333333333333333,
              "#9c179e"
             ],
             [
              0.4444444444444444,
              "#bd3786"
             ],
             [
              0.5555555555555556,
              "#d8576b"
             ],
             [
              0.6666666666666666,
              "#ed7953"
             ],
             [
              0.7777777777777778,
              "#fb9f3a"
             ],
             [
              0.8888888888888888,
              "#fdca26"
             ],
             [
              1,
              "#f0f921"
             ]
            ],
            "type": "histogram2d"
           }
          ],
          "histogram2dcontour": [
           {
            "colorbar": {
             "outlinewidth": 0,
             "ticks": ""
            },
            "colorscale": [
             [
              0,
              "#0d0887"
             ],
             [
              0.1111111111111111,
              "#46039f"
             ],
             [
              0.2222222222222222,
              "#7201a8"
             ],
             [
              0.3333333333333333,
              "#9c179e"
             ],
             [
              0.4444444444444444,
              "#bd3786"
             ],
             [
              0.5555555555555556,
              "#d8576b"
             ],
             [
              0.6666666666666666,
              "#ed7953"
             ],
             [
              0.7777777777777778,
              "#fb9f3a"
             ],
             [
              0.8888888888888888,
              "#fdca26"
             ],
             [
              1,
              "#f0f921"
             ]
            ],
            "type": "histogram2dcontour"
           }
          ],
          "mesh3d": [
           {
            "colorbar": {
             "outlinewidth": 0,
             "ticks": ""
            },
            "type": "mesh3d"
           }
          ],
          "parcoords": [
           {
            "line": {
             "colorbar": {
              "outlinewidth": 0,
              "ticks": ""
             }
            },
            "type": "parcoords"
           }
          ],
          "pie": [
           {
            "automargin": true,
            "type": "pie"
           }
          ],
          "scatter": [
           {
            "fillpattern": {
             "fillmode": "overlay",
             "size": 10,
             "solidity": 0.2
            },
            "type": "scatter"
           }
          ],
          "scatter3d": [
           {
            "line": {
             "colorbar": {
              "outlinewidth": 0,
              "ticks": ""
             }
            },
            "marker": {
             "colorbar": {
              "outlinewidth": 0,
              "ticks": ""
             }
            },
            "type": "scatter3d"
           }
          ],
          "scattercarpet": [
           {
            "marker": {
             "colorbar": {
              "outlinewidth": 0,
              "ticks": ""
             }
            },
            "type": "scattercarpet"
           }
          ],
          "scattergeo": [
           {
            "marker": {
             "colorbar": {
              "outlinewidth": 0,
              "ticks": ""
             }
            },
            "type": "scattergeo"
           }
          ],
          "scattergl": [
           {
            "marker": {
             "colorbar": {
              "outlinewidth": 0,
              "ticks": ""
             }
            },
            "type": "scattergl"
           }
          ],
          "scattermapbox": [
           {
            "marker": {
             "colorbar": {
              "outlinewidth": 0,
              "ticks": ""
             }
            },
            "type": "scattermapbox"
           }
          ],
          "scatterpolar": [
           {
            "marker": {
             "colorbar": {
              "outlinewidth": 0,
              "ticks": ""
             }
            },
            "type": "scatterpolar"
           }
          ],
          "scatterpolargl": [
           {
            "marker": {
             "colorbar": {
              "outlinewidth": 0,
              "ticks": ""
             }
            },
            "type": "scatterpolargl"
           }
          ],
          "scatterternary": [
           {
            "marker": {
             "colorbar": {
              "outlinewidth": 0,
              "ticks": ""
             }
            },
            "type": "scatterternary"
           }
          ],
          "surface": [
           {
            "colorbar": {
             "outlinewidth": 0,
             "ticks": ""
            },
            "colorscale": [
             [
              0,
              "#0d0887"
             ],
             [
              0.1111111111111111,
              "#46039f"
             ],
             [
              0.2222222222222222,
              "#7201a8"
             ],
             [
              0.3333333333333333,
              "#9c179e"
             ],
             [
              0.4444444444444444,
              "#bd3786"
             ],
             [
              0.5555555555555556,
              "#d8576b"
             ],
             [
              0.6666666666666666,
              "#ed7953"
             ],
             [
              0.7777777777777778,
              "#fb9f3a"
             ],
             [
              0.8888888888888888,
              "#fdca26"
             ],
             [
              1,
              "#f0f921"
             ]
            ],
            "type": "surface"
           }
          ],
          "table": [
           {
            "cells": {
             "fill": {
              "color": "#EBF0F8"
             },
             "line": {
              "color": "white"
             }
            },
            "header": {
             "fill": {
              "color": "#C8D4E3"
             },
             "line": {
              "color": "white"
             }
            },
            "type": "table"
           }
          ]
         },
         "layout": {
          "annotationdefaults": {
           "arrowcolor": "#2a3f5f",
           "arrowhead": 0,
           "arrowwidth": 1
          },
          "autotypenumbers": "strict",
          "coloraxis": {
           "colorbar": {
            "outlinewidth": 0,
            "ticks": ""
           }
          },
          "colorscale": {
           "diverging": [
            [
             0,
             "#8e0152"
            ],
            [
             0.1,
             "#c51b7d"
            ],
            [
             0.2,
             "#de77ae"
            ],
            [
             0.3,
             "#f1b6da"
            ],
            [
             0.4,
             "#fde0ef"
            ],
            [
             0.5,
             "#f7f7f7"
            ],
            [
             0.6,
             "#e6f5d0"
            ],
            [
             0.7,
             "#b8e186"
            ],
            [
             0.8,
             "#7fbc41"
            ],
            [
             0.9,
             "#4d9221"
            ],
            [
             1,
             "#276419"
            ]
           ],
           "sequential": [
            [
             0,
             "#0d0887"
            ],
            [
             0.1111111111111111,
             "#46039f"
            ],
            [
             0.2222222222222222,
             "#7201a8"
            ],
            [
             0.3333333333333333,
             "#9c179e"
            ],
            [
             0.4444444444444444,
             "#bd3786"
            ],
            [
             0.5555555555555556,
             "#d8576b"
            ],
            [
             0.6666666666666666,
             "#ed7953"
            ],
            [
             0.7777777777777778,
             "#fb9f3a"
            ],
            [
             0.8888888888888888,
             "#fdca26"
            ],
            [
             1,
             "#f0f921"
            ]
           ],
           "sequentialminus": [
            [
             0,
             "#0d0887"
            ],
            [
             0.1111111111111111,
             "#46039f"
            ],
            [
             0.2222222222222222,
             "#7201a8"
            ],
            [
             0.3333333333333333,
             "#9c179e"
            ],
            [
             0.4444444444444444,
             "#bd3786"
            ],
            [
             0.5555555555555556,
             "#d8576b"
            ],
            [
             0.6666666666666666,
             "#ed7953"
            ],
            [
             0.7777777777777778,
             "#fb9f3a"
            ],
            [
             0.8888888888888888,
             "#fdca26"
            ],
            [
             1,
             "#f0f921"
            ]
           ]
          },
          "colorway": [
           "#636efa",
           "#EF553B",
           "#00cc96",
           "#ab63fa",
           "#FFA15A",
           "#19d3f3",
           "#FF6692",
           "#B6E880",
           "#FF97FF",
           "#FECB52"
          ],
          "font": {
           "color": "#2a3f5f"
          },
          "geo": {
           "bgcolor": "white",
           "lakecolor": "white",
           "landcolor": "#E5ECF6",
           "showlakes": true,
           "showland": true,
           "subunitcolor": "white"
          },
          "hoverlabel": {
           "align": "left"
          },
          "hovermode": "closest",
          "mapbox": {
           "style": "light"
          },
          "paper_bgcolor": "white",
          "plot_bgcolor": "#E5ECF6",
          "polar": {
           "angularaxis": {
            "gridcolor": "white",
            "linecolor": "white",
            "ticks": ""
           },
           "bgcolor": "#E5ECF6",
           "radialaxis": {
            "gridcolor": "white",
            "linecolor": "white",
            "ticks": ""
           }
          },
          "scene": {
           "xaxis": {
            "backgroundcolor": "#E5ECF6",
            "gridcolor": "white",
            "gridwidth": 2,
            "linecolor": "white",
            "showbackground": true,
            "ticks": "",
            "zerolinecolor": "white"
           },
           "yaxis": {
            "backgroundcolor": "#E5ECF6",
            "gridcolor": "white",
            "gridwidth": 2,
            "linecolor": "white",
            "showbackground": true,
            "ticks": "",
            "zerolinecolor": "white"
           },
           "zaxis": {
            "backgroundcolor": "#E5ECF6",
            "gridcolor": "white",
            "gridwidth": 2,
            "linecolor": "white",
            "showbackground": true,
            "ticks": "",
            "zerolinecolor": "white"
           }
          },
          "shapedefaults": {
           "line": {
            "color": "#2a3f5f"
           }
          },
          "ternary": {
           "aaxis": {
            "gridcolor": "white",
            "linecolor": "white",
            "ticks": ""
           },
           "baxis": {
            "gridcolor": "white",
            "linecolor": "white",
            "ticks": ""
           },
           "bgcolor": "#E5ECF6",
           "caxis": {
            "gridcolor": "white",
            "linecolor": "white",
            "ticks": ""
           }
          },
          "title": {
           "x": 0.05
          },
          "xaxis": {
           "automargin": true,
           "gridcolor": "white",
           "linecolor": "white",
           "ticks": "",
           "title": {
            "standoff": 15
           },
           "zerolinecolor": "white",
           "zerolinewidth": 2
          },
          "yaxis": {
           "automargin": true,
           "gridcolor": "white",
           "linecolor": "white",
           "ticks": "",
           "title": {
            "standoff": 15
           },
           "zerolinecolor": "white",
           "zerolinewidth": 2
          }
         }
        },
        "title": {
         "text": "Random Search"
        },
        "xaxis": {
         "anchor": "y",
         "domain": [
          0,
          1
         ],
         "title": {
          "text": "param_alpha"
         },
         "type": "log"
        },
        "yaxis": {
         "anchor": "x",
         "domain": [
          0,
          1
         ],
         "title": {
          "text": "param_max_iter"
         },
         "type": "log"
        }
       }
      }
     },
     "metadata": {},
     "output_type": "display_data"
    }
   ],
   "source": [
    "px.scatter(df_random_search, x=\"param_alpha\", y=\"param_max_iter\", color=\"mean_test_score\", \n",
    "           title=\"Random Search\", log_x=True, log_y=True, color_continuous_scale=\"viridis\")\t"
   ]
  },
  {
   "cell_type": "markdown",
   "metadata": {},
   "source": [
    "## Bayesian Optimization"
   ]
  },
  {
   "cell_type": "markdown",
   "metadata": {},
   "source": [
    "Sklearn \n",
    "\n",
    "`!pip install scikit-optimize`\n",
    "\n",
    "`from skopt import BayesSearchCV`"
   ]
  },
  {
   "cell_type": "markdown",
   "metadata": {},
   "source": [
    "Hyperopt"
   ]
  },
  {
   "cell_type": "code",
   "execution_count": 122,
   "metadata": {},
   "outputs": [
    {
     "name": "stdout",
     "output_type": "stream",
     "text": [
      "Collecting hyperopt\n",
      "  Downloading hyperopt-0.2.7-py2.py3-none-any.whl.metadata (1.7 kB)\n",
      "Requirement already satisfied: numpy in c:\\users\\hayk_\\.conda\\envs\\thesis\\lib\\site-packages (from hyperopt) (1.26.4)\n",
      "Requirement already satisfied: scipy in c:\\users\\hayk_\\.conda\\envs\\thesis\\lib\\site-packages (from hyperopt) (1.13.0)\n",
      "Requirement already satisfied: six in c:\\users\\hayk_\\.conda\\envs\\thesis\\lib\\site-packages (from hyperopt) (1.16.0)\n",
      "Requirement already satisfied: networkx>=2.2 in c:\\users\\hayk_\\.conda\\envs\\thesis\\lib\\site-packages (from hyperopt) (3.3)\n",
      "Collecting future (from hyperopt)\n",
      "  Using cached future-1.0.0-py3-none-any.whl.metadata (4.0 kB)\n",
      "Requirement already satisfied: tqdm in c:\\users\\hayk_\\.conda\\envs\\thesis\\lib\\site-packages (from hyperopt) (4.66.2)\n",
      "Collecting cloudpickle (from hyperopt)\n",
      "  Downloading cloudpickle-3.1.1-py3-none-any.whl.metadata (7.1 kB)\n",
      "Collecting py4j (from hyperopt)\n",
      "  Downloading py4j-0.10.9.9-py2.py3-none-any.whl.metadata (1.3 kB)\n",
      "Requirement already satisfied: colorama in c:\\users\\hayk_\\.conda\\envs\\thesis\\lib\\site-packages (from tqdm->hyperopt) (0.4.6)\n",
      "Downloading hyperopt-0.2.7-py2.py3-none-any.whl (1.6 MB)\n",
      "   ---------------------------------------- 1.6/1.6 MB 2.3 MB/s eta 0:00:00\n",
      "Downloading cloudpickle-3.1.1-py3-none-any.whl (20 kB)\n",
      "Using cached future-1.0.0-py3-none-any.whl (491 kB)\n",
      "Downloading py4j-0.10.9.9-py2.py3-none-any.whl (203 kB)\n",
      "   ---------------------------------------- 203.0/203.0 kB 2.4 MB/s eta 0:00:00\n",
      "Installing collected packages: py4j, future, cloudpickle, hyperopt\n",
      "Successfully installed cloudpickle-3.1.1 future-1.0.0 hyperopt-0.2.7 py4j-0.10.9.9\n"
     ]
    }
   ],
   "source": [
    "!pip install hyperopt"
   ]
  },
  {
   "cell_type": "code",
   "execution_count": 124,
   "metadata": {},
   "outputs": [],
   "source": [
    "from sklearn.model_selection import cross_val_score, train_test_split, KFold"
   ]
  },
  {
   "cell_type": "code",
   "execution_count": 123,
   "metadata": {},
   "outputs": [],
   "source": [
    "from hyperopt import fmin, tpe, hp, Trials, STATUS_OK"
   ]
  },
  {
   "cell_type": "code",
   "execution_count": 126,
   "metadata": {},
   "outputs": [],
   "source": [
    "# 1) Define the search space for alpha and max_iter\n",
    "space = {\n",
    "    'alpha': hp.loguniform('alpha', np.log(1e-3), np.log(1e3)),\n",
    "    'max_iter': hp.randint('max_iter', 5000)  # integer in [0, 5000)\n",
    "}\n",
    "\n",
    "# 2) We’ll do 5-fold cross-validation to evaluate each set of params\n",
    "cv = KFold(n_splits=5, shuffle=True, random_state=42)\n",
    "\n",
    "def objective(params):\n",
    "    # Extract hyperparameters\n",
    "    alpha = params['alpha']\n",
    "    max_iter = int(params['max_iter'])  # ensure integer\n",
    "    \n",
    "    # Create Lasso model\n",
    "    model = Lasso(alpha=alpha, max_iter=max_iter, random_state=509)\n",
    "    \n",
    "    # Cross-validate (negative MSE, so we can minimize it)\n",
    "    mse_scores = -cross_val_score(\n",
    "        model, X_train, y_train,\n",
    "        cv=cv, scoring='neg_mean_squared_error'\n",
    "    )\n",
    "    avg_mse = np.mean(mse_scores)\n",
    "    \n",
    "    # Hyperopt tries to minimize the returned value\n",
    "    return {\n",
    "        'loss': avg_mse,\n",
    "        'status': STATUS_OK,\n",
    "        # Optional: attach other info if you like\n",
    "        'params': params\n",
    "    }\n"
   ]
  },
  {
   "cell_type": "code",
   "execution_count": 127,
   "metadata": {},
   "outputs": [
    {
     "name": "stdout",
     "output_type": "stream",
     "text": [
      "100%|██████████| 20/20 [00:06<00:00,  3.11trial/s, best loss: 5158148188.803587]\n",
      "\n",
      "Best hyperparameters found:\n",
      "{'alpha': 82.26205843443854, 'max_iter': 3194}\n"
     ]
    }
   ],
   "source": [
    "trials = Trials()  # To store results\n",
    "\n",
    "best = fmin(\n",
    "    fn=objective,\n",
    "    space=space,\n",
    "    algo=tpe.suggest,\n",
    "    max_evals=20,       # Number of trials (increase for better search)\n",
    "    trials=trials,\n",
    "    rstate=np.random.default_rng(509)  # for reproducibility\n",
    ")\n",
    "\n",
    "print(\"\\nBest hyperparameters found:\")\n",
    "print(best)\n"
   ]
  },
  {
   "cell_type": "code",
   "execution_count": 132,
   "metadata": {},
   "outputs": [
    {
     "name": "stdout",
     "output_type": "stream",
     "text": [
      "Test set: RMSE=35930.87, R^2=0.58\n"
     ]
    }
   ],
   "source": [
    "best_alpha = best['alpha']\n",
    "best_max_iter = int(best['max_iter'])\n",
    "\n",
    "model_best = Lasso(alpha=best_alpha, max_iter=best_max_iter, random_state=42)\n",
    "model_best.fit(X_train, y_train)\n",
    "\n",
    "# Evaluate on the test set\n",
    "y_pred_test = model_best.predict(X_test)\n",
    "\n",
    "rmse, r2 = evaluate_model(y_test, y_pred_test)\n",
    "print(f\"Test set: RMSE={rmse:.2f}, R^2={r2:.2f}\")"
   ]
  },
  {
   "cell_type": "code",
   "execution_count": 136,
   "metadata": {},
   "outputs": [
    {
     "data": {
      "text/html": [
       "<div>\n",
       "<style scoped>\n",
       "    .dataframe tbody tr th:only-of-type {\n",
       "        vertical-align: middle;\n",
       "    }\n",
       "\n",
       "    .dataframe tbody tr th {\n",
       "        vertical-align: top;\n",
       "    }\n",
       "\n",
       "    .dataframe thead th {\n",
       "        text-align: right;\n",
       "    }\n",
       "</style>\n",
       "<table border=\"1\" class=\"dataframe\">\n",
       "  <thead>\n",
       "    <tr style=\"text-align: right;\">\n",
       "      <th></th>\n",
       "      <th>loss</th>\n",
       "      <th>status</th>\n",
       "      <th>params</th>\n",
       "      <th>alpha</th>\n",
       "      <th>max_iter</th>\n",
       "    </tr>\n",
       "  </thead>\n",
       "  <tbody>\n",
       "    <tr>\n",
       "      <th>14</th>\n",
       "      <td>5.158148e+09</td>\n",
       "      <td>ok</td>\n",
       "      <td>{'alpha': 82.26205843443854, 'max_iter': 3194}</td>\n",
       "      <td>82.262058</td>\n",
       "      <td>3194</td>\n",
       "    </tr>\n",
       "    <tr>\n",
       "      <th>3</th>\n",
       "      <td>5.167013e+09</td>\n",
       "      <td>ok</td>\n",
       "      <td>{'alpha': 23.927000650080377, 'max_iter': 206}</td>\n",
       "      <td>23.927001</td>\n",
       "      <td>206</td>\n",
       "    </tr>\n",
       "    <tr>\n",
       "      <th>13</th>\n",
       "      <td>5.290333e+09</td>\n",
       "      <td>ok</td>\n",
       "      <td>{'alpha': 347.92671616536, 'max_iter': 1292}</td>\n",
       "      <td>347.926716</td>\n",
       "      <td>1292</td>\n",
       "    </tr>\n",
       "    <tr>\n",
       "      <th>11</th>\n",
       "      <td>5.358360e+09</td>\n",
       "      <td>ok</td>\n",
       "      <td>{'alpha': 28.505108573753763, 'max_iter': 2196}</td>\n",
       "      <td>28.505109</td>\n",
       "      <td>2196</td>\n",
       "    </tr>\n",
       "    <tr>\n",
       "      <th>1</th>\n",
       "      <td>5.384187e+09</td>\n",
       "      <td>ok</td>\n",
       "      <td>{'alpha': 0.013918988887753607, 'max_iter': 429}</td>\n",
       "      <td>0.013919</td>\n",
       "      <td>429</td>\n",
       "    </tr>\n",
       "    <tr>\n",
       "      <th>10</th>\n",
       "      <td>5.839504e+09</td>\n",
       "      <td>ok</td>\n",
       "      <td>{'alpha': 0.0027521976271328466, 'max_iter': 792}</td>\n",
       "      <td>0.002752</td>\n",
       "      <td>792</td>\n",
       "    </tr>\n",
       "    <tr>\n",
       "      <th>16</th>\n",
       "      <td>6.432845e+09</td>\n",
       "      <td>ok</td>\n",
       "      <td>{'alpha': 0.037966985847236734, 'max_iter': 1196}</td>\n",
       "      <td>0.037967</td>\n",
       "      <td>1196</td>\n",
       "    </tr>\n",
       "    <tr>\n",
       "      <th>8</th>\n",
       "      <td>6.677457e+09</td>\n",
       "      <td>ok</td>\n",
       "      <td>{'alpha': 0.0014052766974551073, 'max_iter': 1...</td>\n",
       "      <td>0.001405</td>\n",
       "      <td>1355</td>\n",
       "    </tr>\n",
       "    <tr>\n",
       "      <th>6</th>\n",
       "      <td>7.403906e+09</td>\n",
       "      <td>ok</td>\n",
       "      <td>{'alpha': 0.002452008538580964, 'max_iter': 1820}</td>\n",
       "      <td>0.002452</td>\n",
       "      <td>1820</td>\n",
       "    </tr>\n",
       "    <tr>\n",
       "      <th>18</th>\n",
       "      <td>7.584504e+09</td>\n",
       "      <td>ok</td>\n",
       "      <td>{'alpha': 9.753940120503824, 'max_iter': 2707}</td>\n",
       "      <td>9.753940</td>\n",
       "      <td>2707</td>\n",
       "    </tr>\n",
       "    <tr>\n",
       "      <th>12</th>\n",
       "      <td>7.606741e+09</td>\n",
       "      <td>ok</td>\n",
       "      <td>{'alpha': 0.003579672035114573, 'max_iter': 1949}</td>\n",
       "      <td>0.003580</td>\n",
       "      <td>1949</td>\n",
       "    </tr>\n",
       "    <tr>\n",
       "      <th>9</th>\n",
       "      <td>8.507748e+09</td>\n",
       "      <td>ok</td>\n",
       "      <td>{'alpha': 6.800025058217788, 'max_iter': 2774}</td>\n",
       "      <td>6.800025</td>\n",
       "      <td>2774</td>\n",
       "    </tr>\n",
       "    <tr>\n",
       "      <th>5</th>\n",
       "      <td>8.672568e+09</td>\n",
       "      <td>ok</td>\n",
       "      <td>{'alpha': 0.37204177639824826, 'max_iter': 2589}</td>\n",
       "      <td>0.372042</td>\n",
       "      <td>2589</td>\n",
       "    </tr>\n",
       "    <tr>\n",
       "      <th>2</th>\n",
       "      <td>8.991760e+09</td>\n",
       "      <td>ok</td>\n",
       "      <td>{'alpha': 0.010823774548987567, 'max_iter': 2817}</td>\n",
       "      <td>0.010824</td>\n",
       "      <td>2817</td>\n",
       "    </tr>\n",
       "    <tr>\n",
       "      <th>19</th>\n",
       "      <td>9.788528e+09</td>\n",
       "      <td>ok</td>\n",
       "      <td>{'alpha': 1.4345076433491972, 'max_iter': 3130}</td>\n",
       "      <td>1.434508</td>\n",
       "      <td>3130</td>\n",
       "    </tr>\n",
       "    <tr>\n",
       "      <th>4</th>\n",
       "      <td>1.011915e+10</td>\n",
       "      <td>ok</td>\n",
       "      <td>{'alpha': 0.1789505548304415, 'max_iter': 3469}</td>\n",
       "      <td>0.178951</td>\n",
       "      <td>3469</td>\n",
       "    </tr>\n",
       "    <tr>\n",
       "      <th>15</th>\n",
       "      <td>1.099852e+10</td>\n",
       "      <td>ok</td>\n",
       "      <td>{'alpha': 2.932516616065772, 'max_iter': 3607}</td>\n",
       "      <td>2.932517</td>\n",
       "      <td>3607</td>\n",
       "    </tr>\n",
       "    <tr>\n",
       "      <th>17</th>\n",
       "      <td>1.115259e+10</td>\n",
       "      <td>ok</td>\n",
       "      <td>{'alpha': 0.281485107534971, 'max_iter': 4041}</td>\n",
       "      <td>0.281485</td>\n",
       "      <td>4041</td>\n",
       "    </tr>\n",
       "    <tr>\n",
       "      <th>7</th>\n",
       "      <td>1.126640e+10</td>\n",
       "      <td>ok</td>\n",
       "      <td>{'alpha': 0.01712767443580885, 'max_iter': 4151}</td>\n",
       "      <td>0.017128</td>\n",
       "      <td>4151</td>\n",
       "    </tr>\n",
       "    <tr>\n",
       "      <th>0</th>\n",
       "      <td>1.148764e+10</td>\n",
       "      <td>ok</td>\n",
       "      <td>{'alpha': 0.23009145552081606, 'max_iter': 4237}</td>\n",
       "      <td>0.230091</td>\n",
       "      <td>4237</td>\n",
       "    </tr>\n",
       "  </tbody>\n",
       "</table>\n",
       "</div>"
      ],
      "text/plain": [
       "            loss status                                             params  \\\n",
       "14  5.158148e+09     ok     {'alpha': 82.26205843443854, 'max_iter': 3194}   \n",
       "3   5.167013e+09     ok     {'alpha': 23.927000650080377, 'max_iter': 206}   \n",
       "13  5.290333e+09     ok       {'alpha': 347.92671616536, 'max_iter': 1292}   \n",
       "11  5.358360e+09     ok    {'alpha': 28.505108573753763, 'max_iter': 2196}   \n",
       "1   5.384187e+09     ok   {'alpha': 0.013918988887753607, 'max_iter': 429}   \n",
       "10  5.839504e+09     ok  {'alpha': 0.0027521976271328466, 'max_iter': 792}   \n",
       "16  6.432845e+09     ok  {'alpha': 0.037966985847236734, 'max_iter': 1196}   \n",
       "8   6.677457e+09     ok  {'alpha': 0.0014052766974551073, 'max_iter': 1...   \n",
       "6   7.403906e+09     ok  {'alpha': 0.002452008538580964, 'max_iter': 1820}   \n",
       "18  7.584504e+09     ok     {'alpha': 9.753940120503824, 'max_iter': 2707}   \n",
       "12  7.606741e+09     ok  {'alpha': 0.003579672035114573, 'max_iter': 1949}   \n",
       "9   8.507748e+09     ok     {'alpha': 6.800025058217788, 'max_iter': 2774}   \n",
       "5   8.672568e+09     ok   {'alpha': 0.37204177639824826, 'max_iter': 2589}   \n",
       "2   8.991760e+09     ok  {'alpha': 0.010823774548987567, 'max_iter': 2817}   \n",
       "19  9.788528e+09     ok    {'alpha': 1.4345076433491972, 'max_iter': 3130}   \n",
       "4   1.011915e+10     ok    {'alpha': 0.1789505548304415, 'max_iter': 3469}   \n",
       "15  1.099852e+10     ok     {'alpha': 2.932516616065772, 'max_iter': 3607}   \n",
       "17  1.115259e+10     ok     {'alpha': 0.281485107534971, 'max_iter': 4041}   \n",
       "7   1.126640e+10     ok   {'alpha': 0.01712767443580885, 'max_iter': 4151}   \n",
       "0   1.148764e+10     ok   {'alpha': 0.23009145552081606, 'max_iter': 4237}   \n",
       "\n",
       "         alpha  max_iter  \n",
       "14   82.262058      3194  \n",
       "3    23.927001       206  \n",
       "13  347.926716      1292  \n",
       "11   28.505109      2196  \n",
       "1     0.013919       429  \n",
       "10    0.002752       792  \n",
       "16    0.037967      1196  \n",
       "8     0.001405      1355  \n",
       "6     0.002452      1820  \n",
       "18    9.753940      2707  \n",
       "12    0.003580      1949  \n",
       "9     6.800025      2774  \n",
       "5     0.372042      2589  \n",
       "2     0.010824      2817  \n",
       "19    1.434508      3130  \n",
       "4     0.178951      3469  \n",
       "15    2.932517      3607  \n",
       "17    0.281485      4041  \n",
       "7     0.017128      4151  \n",
       "0     0.230091      4237  "
      ]
     },
     "execution_count": 136,
     "metadata": {},
     "output_type": "execute_result"
    }
   ],
   "source": [
    "results_df = pd.DataFrame(trials.results)\n",
    "results_df = results_df.sort_values(by='loss')\n",
    "\n",
    "results_df[\"alpha\"] = results_df[\"params\"].apply(lambda x: x[\"alpha\"])\n",
    "results_df[\"max_iter\"] = results_df[\"params\"].apply(lambda x: x[\"max_iter\"])\n",
    "results_df\n"
   ]
  },
  {
   "cell_type": "code",
   "execution_count": 140,
   "metadata": {},
   "outputs": [
    {
     "data": {
      "application/vnd.plotly.v1+json": {
       "config": {
        "plotlyServerURL": "https://plot.ly"
       },
       "data": [
        {
         "hovertemplate": "alpha=%{x}<br>max_iter=%{y}<extra></extra>",
         "legendgroup": "",
         "marker": {
          "color": "#636efa",
          "symbol": "circle"
         },
         "mode": "markers",
         "name": "",
         "orientation": "v",
         "showlegend": false,
         "type": "scatter",
         "x": [
          82.26205843443854,
          23.927000650080377,
          347.92671616536,
          28.505108573753763,
          0.013918988887753607,
          0.0027521976271328466,
          0.037966985847236734,
          0.0014052766974551073,
          0.002452008538580964,
          9.753940120503824,
          0.003579672035114573,
          6.800025058217788,
          0.37204177639824826,
          0.010823774548987567,
          1.4345076433491972,
          0.1789505548304415,
          2.932516616065772,
          0.281485107534971,
          0.01712767443580885,
          0.23009145552081606
         ],
         "xaxis": "x",
         "y": [
          3194,
          206,
          1292,
          2196,
          429,
          792,
          1196,
          1355,
          1820,
          2707,
          1949,
          2774,
          2589,
          2817,
          3130,
          3469,
          3607,
          4041,
          4151,
          4237
         ],
         "yaxis": "y"
        }
       ],
       "layout": {
        "legend": {
         "tracegroupgap": 0
        },
        "template": {
         "data": {
          "bar": [
           {
            "error_x": {
             "color": "#2a3f5f"
            },
            "error_y": {
             "color": "#2a3f5f"
            },
            "marker": {
             "line": {
              "color": "#E5ECF6",
              "width": 0.5
             },
             "pattern": {
              "fillmode": "overlay",
              "size": 10,
              "solidity": 0.2
             }
            },
            "type": "bar"
           }
          ],
          "barpolar": [
           {
            "marker": {
             "line": {
              "color": "#E5ECF6",
              "width": 0.5
             },
             "pattern": {
              "fillmode": "overlay",
              "size": 10,
              "solidity": 0.2
             }
            },
            "type": "barpolar"
           }
          ],
          "carpet": [
           {
            "aaxis": {
             "endlinecolor": "#2a3f5f",
             "gridcolor": "white",
             "linecolor": "white",
             "minorgridcolor": "white",
             "startlinecolor": "#2a3f5f"
            },
            "baxis": {
             "endlinecolor": "#2a3f5f",
             "gridcolor": "white",
             "linecolor": "white",
             "minorgridcolor": "white",
             "startlinecolor": "#2a3f5f"
            },
            "type": "carpet"
           }
          ],
          "choropleth": [
           {
            "colorbar": {
             "outlinewidth": 0,
             "ticks": ""
            },
            "type": "choropleth"
           }
          ],
          "contour": [
           {
            "colorbar": {
             "outlinewidth": 0,
             "ticks": ""
            },
            "colorscale": [
             [
              0,
              "#0d0887"
             ],
             [
              0.1111111111111111,
              "#46039f"
             ],
             [
              0.2222222222222222,
              "#7201a8"
             ],
             [
              0.3333333333333333,
              "#9c179e"
             ],
             [
              0.4444444444444444,
              "#bd3786"
             ],
             [
              0.5555555555555556,
              "#d8576b"
             ],
             [
              0.6666666666666666,
              "#ed7953"
             ],
             [
              0.7777777777777778,
              "#fb9f3a"
             ],
             [
              0.8888888888888888,
              "#fdca26"
             ],
             [
              1,
              "#f0f921"
             ]
            ],
            "type": "contour"
           }
          ],
          "contourcarpet": [
           {
            "colorbar": {
             "outlinewidth": 0,
             "ticks": ""
            },
            "type": "contourcarpet"
           }
          ],
          "heatmap": [
           {
            "colorbar": {
             "outlinewidth": 0,
             "ticks": ""
            },
            "colorscale": [
             [
              0,
              "#0d0887"
             ],
             [
              0.1111111111111111,
              "#46039f"
             ],
             [
              0.2222222222222222,
              "#7201a8"
             ],
             [
              0.3333333333333333,
              "#9c179e"
             ],
             [
              0.4444444444444444,
              "#bd3786"
             ],
             [
              0.5555555555555556,
              "#d8576b"
             ],
             [
              0.6666666666666666,
              "#ed7953"
             ],
             [
              0.7777777777777778,
              "#fb9f3a"
             ],
             [
              0.8888888888888888,
              "#fdca26"
             ],
             [
              1,
              "#f0f921"
             ]
            ],
            "type": "heatmap"
           }
          ],
          "heatmapgl": [
           {
            "colorbar": {
             "outlinewidth": 0,
             "ticks": ""
            },
            "colorscale": [
             [
              0,
              "#0d0887"
             ],
             [
              0.1111111111111111,
              "#46039f"
             ],
             [
              0.2222222222222222,
              "#7201a8"
             ],
             [
              0.3333333333333333,
              "#9c179e"
             ],
             [
              0.4444444444444444,
              "#bd3786"
             ],
             [
              0.5555555555555556,
              "#d8576b"
             ],
             [
              0.6666666666666666,
              "#ed7953"
             ],
             [
              0.7777777777777778,
              "#fb9f3a"
             ],
             [
              0.8888888888888888,
              "#fdca26"
             ],
             [
              1,
              "#f0f921"
             ]
            ],
            "type": "heatmapgl"
           }
          ],
          "histogram": [
           {
            "marker": {
             "pattern": {
              "fillmode": "overlay",
              "size": 10,
              "solidity": 0.2
             }
            },
            "type": "histogram"
           }
          ],
          "histogram2d": [
           {
            "colorbar": {
             "outlinewidth": 0,
             "ticks": ""
            },
            "colorscale": [
             [
              0,
              "#0d0887"
             ],
             [
              0.1111111111111111,
              "#46039f"
             ],
             [
              0.2222222222222222,
              "#7201a8"
             ],
             [
              0.3333333333333333,
              "#9c179e"
             ],
             [
              0.4444444444444444,
              "#bd3786"
             ],
             [
              0.5555555555555556,
              "#d8576b"
             ],
             [
              0.6666666666666666,
              "#ed7953"
             ],
             [
              0.7777777777777778,
              "#fb9f3a"
             ],
             [
              0.8888888888888888,
              "#fdca26"
             ],
             [
              1,
              "#f0f921"
             ]
            ],
            "type": "histogram2d"
           }
          ],
          "histogram2dcontour": [
           {
            "colorbar": {
             "outlinewidth": 0,
             "ticks": ""
            },
            "colorscale": [
             [
              0,
              "#0d0887"
             ],
             [
              0.1111111111111111,
              "#46039f"
             ],
             [
              0.2222222222222222,
              "#7201a8"
             ],
             [
              0.3333333333333333,
              "#9c179e"
             ],
             [
              0.4444444444444444,
              "#bd3786"
             ],
             [
              0.5555555555555556,
              "#d8576b"
             ],
             [
              0.6666666666666666,
              "#ed7953"
             ],
             [
              0.7777777777777778,
              "#fb9f3a"
             ],
             [
              0.8888888888888888,
              "#fdca26"
             ],
             [
              1,
              "#f0f921"
             ]
            ],
            "type": "histogram2dcontour"
           }
          ],
          "mesh3d": [
           {
            "colorbar": {
             "outlinewidth": 0,
             "ticks": ""
            },
            "type": "mesh3d"
           }
          ],
          "parcoords": [
           {
            "line": {
             "colorbar": {
              "outlinewidth": 0,
              "ticks": ""
             }
            },
            "type": "parcoords"
           }
          ],
          "pie": [
           {
            "automargin": true,
            "type": "pie"
           }
          ],
          "scatter": [
           {
            "fillpattern": {
             "fillmode": "overlay",
             "size": 10,
             "solidity": 0.2
            },
            "type": "scatter"
           }
          ],
          "scatter3d": [
           {
            "line": {
             "colorbar": {
              "outlinewidth": 0,
              "ticks": ""
             }
            },
            "marker": {
             "colorbar": {
              "outlinewidth": 0,
              "ticks": ""
             }
            },
            "type": "scatter3d"
           }
          ],
          "scattercarpet": [
           {
            "marker": {
             "colorbar": {
              "outlinewidth": 0,
              "ticks": ""
             }
            },
            "type": "scattercarpet"
           }
          ],
          "scattergeo": [
           {
            "marker": {
             "colorbar": {
              "outlinewidth": 0,
              "ticks": ""
             }
            },
            "type": "scattergeo"
           }
          ],
          "scattergl": [
           {
            "marker": {
             "colorbar": {
              "outlinewidth": 0,
              "ticks": ""
             }
            },
            "type": "scattergl"
           }
          ],
          "scattermapbox": [
           {
            "marker": {
             "colorbar": {
              "outlinewidth": 0,
              "ticks": ""
             }
            },
            "type": "scattermapbox"
           }
          ],
          "scatterpolar": [
           {
            "marker": {
             "colorbar": {
              "outlinewidth": 0,
              "ticks": ""
             }
            },
            "type": "scatterpolar"
           }
          ],
          "scatterpolargl": [
           {
            "marker": {
             "colorbar": {
              "outlinewidth": 0,
              "ticks": ""
             }
            },
            "type": "scatterpolargl"
           }
          ],
          "scatterternary": [
           {
            "marker": {
             "colorbar": {
              "outlinewidth": 0,
              "ticks": ""
             }
            },
            "type": "scatterternary"
           }
          ],
          "surface": [
           {
            "colorbar": {
             "outlinewidth": 0,
             "ticks": ""
            },
            "colorscale": [
             [
              0,
              "#0d0887"
             ],
             [
              0.1111111111111111,
              "#46039f"
             ],
             [
              0.2222222222222222,
              "#7201a8"
             ],
             [
              0.3333333333333333,
              "#9c179e"
             ],
             [
              0.4444444444444444,
              "#bd3786"
             ],
             [
              0.5555555555555556,
              "#d8576b"
             ],
             [
              0.6666666666666666,
              "#ed7953"
             ],
             [
              0.7777777777777778,
              "#fb9f3a"
             ],
             [
              0.8888888888888888,
              "#fdca26"
             ],
             [
              1,
              "#f0f921"
             ]
            ],
            "type": "surface"
           }
          ],
          "table": [
           {
            "cells": {
             "fill": {
              "color": "#EBF0F8"
             },
             "line": {
              "color": "white"
             }
            },
            "header": {
             "fill": {
              "color": "#C8D4E3"
             },
             "line": {
              "color": "white"
             }
            },
            "type": "table"
           }
          ]
         },
         "layout": {
          "annotationdefaults": {
           "arrowcolor": "#2a3f5f",
           "arrowhead": 0,
           "arrowwidth": 1
          },
          "autotypenumbers": "strict",
          "coloraxis": {
           "colorbar": {
            "outlinewidth": 0,
            "ticks": ""
           }
          },
          "colorscale": {
           "diverging": [
            [
             0,
             "#8e0152"
            ],
            [
             0.1,
             "#c51b7d"
            ],
            [
             0.2,
             "#de77ae"
            ],
            [
             0.3,
             "#f1b6da"
            ],
            [
             0.4,
             "#fde0ef"
            ],
            [
             0.5,
             "#f7f7f7"
            ],
            [
             0.6,
             "#e6f5d0"
            ],
            [
             0.7,
             "#b8e186"
            ],
            [
             0.8,
             "#7fbc41"
            ],
            [
             0.9,
             "#4d9221"
            ],
            [
             1,
             "#276419"
            ]
           ],
           "sequential": [
            [
             0,
             "#0d0887"
            ],
            [
             0.1111111111111111,
             "#46039f"
            ],
            [
             0.2222222222222222,
             "#7201a8"
            ],
            [
             0.3333333333333333,
             "#9c179e"
            ],
            [
             0.4444444444444444,
             "#bd3786"
            ],
            [
             0.5555555555555556,
             "#d8576b"
            ],
            [
             0.6666666666666666,
             "#ed7953"
            ],
            [
             0.7777777777777778,
             "#fb9f3a"
            ],
            [
             0.8888888888888888,
             "#fdca26"
            ],
            [
             1,
             "#f0f921"
            ]
           ],
           "sequentialminus": [
            [
             0,
             "#0d0887"
            ],
            [
             0.1111111111111111,
             "#46039f"
            ],
            [
             0.2222222222222222,
             "#7201a8"
            ],
            [
             0.3333333333333333,
             "#9c179e"
            ],
            [
             0.4444444444444444,
             "#bd3786"
            ],
            [
             0.5555555555555556,
             "#d8576b"
            ],
            [
             0.6666666666666666,
             "#ed7953"
            ],
            [
             0.7777777777777778,
             "#fb9f3a"
            ],
            [
             0.8888888888888888,
             "#fdca26"
            ],
            [
             1,
             "#f0f921"
            ]
           ]
          },
          "colorway": [
           "#636efa",
           "#EF553B",
           "#00cc96",
           "#ab63fa",
           "#FFA15A",
           "#19d3f3",
           "#FF6692",
           "#B6E880",
           "#FF97FF",
           "#FECB52"
          ],
          "font": {
           "color": "#2a3f5f"
          },
          "geo": {
           "bgcolor": "white",
           "lakecolor": "white",
           "landcolor": "#E5ECF6",
           "showlakes": true,
           "showland": true,
           "subunitcolor": "white"
          },
          "hoverlabel": {
           "align": "left"
          },
          "hovermode": "closest",
          "mapbox": {
           "style": "light"
          },
          "paper_bgcolor": "white",
          "plot_bgcolor": "#E5ECF6",
          "polar": {
           "angularaxis": {
            "gridcolor": "white",
            "linecolor": "white",
            "ticks": ""
           },
           "bgcolor": "#E5ECF6",
           "radialaxis": {
            "gridcolor": "white",
            "linecolor": "white",
            "ticks": ""
           }
          },
          "scene": {
           "xaxis": {
            "backgroundcolor": "#E5ECF6",
            "gridcolor": "white",
            "gridwidth": 2,
            "linecolor": "white",
            "showbackground": true,
            "ticks": "",
            "zerolinecolor": "white"
           },
           "yaxis": {
            "backgroundcolor": "#E5ECF6",
            "gridcolor": "white",
            "gridwidth": 2,
            "linecolor": "white",
            "showbackground": true,
            "ticks": "",
            "zerolinecolor": "white"
           },
           "zaxis": {
            "backgroundcolor": "#E5ECF6",
            "gridcolor": "white",
            "gridwidth": 2,
            "linecolor": "white",
            "showbackground": true,
            "ticks": "",
            "zerolinecolor": "white"
           }
          },
          "shapedefaults": {
           "line": {
            "color": "#2a3f5f"
           }
          },
          "ternary": {
           "aaxis": {
            "gridcolor": "white",
            "linecolor": "white",
            "ticks": ""
           },
           "baxis": {
            "gridcolor": "white",
            "linecolor": "white",
            "ticks": ""
           },
           "bgcolor": "#E5ECF6",
           "caxis": {
            "gridcolor": "white",
            "linecolor": "white",
            "ticks": ""
           }
          },
          "title": {
           "x": 0.05
          },
          "xaxis": {
           "automargin": true,
           "gridcolor": "white",
           "linecolor": "white",
           "ticks": "",
           "title": {
            "standoff": 15
           },
           "zerolinecolor": "white",
           "zerolinewidth": 2
          },
          "yaxis": {
           "automargin": true,
           "gridcolor": "white",
           "linecolor": "white",
           "ticks": "",
           "title": {
            "standoff": 15
           },
           "zerolinecolor": "white",
           "zerolinewidth": 2
          }
         }
        },
        "title": {
         "text": "Hyperopt Search"
        },
        "xaxis": {
         "anchor": "y",
         "domain": [
          0,
          1
         ],
         "title": {
          "text": "alpha"
         },
         "type": "log"
        },
        "yaxis": {
         "anchor": "x",
         "domain": [
          0,
          1
         ],
         "title": {
          "text": "max_iter"
         }
        }
       }
      }
     },
     "metadata": {},
     "output_type": "display_data"
    }
   ],
   "source": [
    "px.scatter(results_df, x=\"alpha\", y=\"max_iter\", title=\"Hyperopt Search\",\n",
    "              log_x=True)"
   ]
  },
  {
   "cell_type": "code",
   "execution_count": null,
   "metadata": {},
   "outputs": [],
   "source": []
  }
 ],
 "metadata": {
  "kernelspec": {
   "display_name": "thesis",
   "language": "python",
   "name": "python3"
  },
  "language_info": {
   "codemirror_mode": {
    "name": "ipython",
    "version": 3
   },
   "file_extension": ".py",
   "mimetype": "text/x-python",
   "name": "python",
   "nbconvert_exporter": "python",
   "pygments_lexer": "ipython3",
   "version": "3.10.14"
  }
 },
 "nbformat": 4,
 "nbformat_minor": 2
}
