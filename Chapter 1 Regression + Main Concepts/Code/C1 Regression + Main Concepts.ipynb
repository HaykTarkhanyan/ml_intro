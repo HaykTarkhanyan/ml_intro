{
  "cells": [
    {
      "cell_type": "markdown",
      "metadata": {
        "id": "90ONZI1ep-l0"
      },
      "source": [
        "# 1d Data Gen"
      ]
    },
    {
      "cell_type": "code",
      "execution_count": null,
      "metadata": {
        "colab": {
          "base_uri": "https://localhost:8080/",
          "height": 447
        },
        "id": "MkQHbpjGplnF",
        "outputId": "d02c4870-453e-461e-92db-f238f326077a"
      },
      "outputs": [],
      "source": [
        "import numpy as np\n",
        "import pandas as pd\n",
        "import matplotlib.pyplot as plt\n",
        "\n",
        "# Set a random seed for reproducibility (optional)\n",
        "np.random.seed(42)\n",
        "\n",
        "# Number of samples\n",
        "n_samples = 100\n",
        "\n",
        "# Generate random x values in some range (e.g., 0 to 2)\n",
        "X = 2 * np.random.rand(n_samples)\n",
        "\n",
        "# Generate noise (mean 0, with some standard deviation)\n",
        "noise = np.random.randn(n_samples) * 20.0  # Adjust 50.0 to control noise level\n",
        "\n",
        "# True relationship: y = 509*x + noise\n",
        "y = 509 * X + noise\n",
        "\n",
        "# Create a Pandas DataFrame\n",
        "df = pd.DataFrame({\n",
        "    'x': X,\n",
        "    'y': y\n",
        "})\n",
        "\n",
        "pred = df.x * 509\n",
        "\n",
        "plt.scatter(df.x, df.y)\n",
        "plt.plot(df.x,pred)\n",
        "\n",
        "\n",
        "# Save to CSV\n",
        "df.to_csv('data_lin_reg.csv', index=False)\n",
        "\n",
        "print(\"Data generated and saved to 'data.csv'.\")\n"
      ]
    },
    {
      "cell_type": "code",
      "execution_count": null,
      "metadata": {
        "id": "bzhtoFmNp5kA"
      },
      "outputs": [],
      "source": []
    },
    {
      "cell_type": "markdown",
      "metadata": {
        "id": "ev-PmXZdqB0i"
      },
      "source": [
        "# Kaggle data\n",
        "https://www.kaggle.com/datasets/iamsouravbanerjee/house-rent-prediction-dataset/data\n",
        "\n",
        "BHK: Number of Bedrooms, Hall, Kitchen.\n",
        "\n",
        "Rent: Rent of the Houses/Apartments/Flats.\n",
        "\n",
        "Size: Size of the Houses/Apartments/Flats in Square Feet.\n",
        "\n",
        "Floor: Houses/Apartments/Flats situated in which Floor and Total Number of Floors (Example: Ground out of 2, 3 out of 5, etc.)\n",
        "\n",
        "Area Type: Size of the Houses/Apartments/Flats calculated on either Super Area or Carpet Area or Build Area.\n",
        "\n",
        "Area Locality: Locality of the Houses/Apartments/Flats.\n",
        "\n",
        "City: City where the Houses/Apartments/Flats are Located.\n",
        "\n",
        "Furnishing Status: Furnishing Status of the Houses/Apartments/Flats, either it is Furnished or Semi-Furnished or Unfurnished.\n",
        "\n",
        "Tenant Preferred: Type of Tenant Preferred by the Owner or Agent.\n",
        "\n",
        "Bathroom: Number of Bathrooms.\n",
        "\n",
        "Point of Contact: Whom should you contact for more information regarding the Houses/Apartments/Flats."
      ]
    },
    {
      "cell_type": "code",
      "execution_count": null,
      "metadata": {
        "colab": {
          "base_uri": "https://localhost:8080/"
        },
        "id": "xOFynagpqDRY",
        "outputId": "dcab0a30-ee1b-4678-c75c-b78078ef4270"
      },
      "outputs": [],
      "source": [
        "import kagglehub\n",
        "\n",
        "# Download latest version\n",
        "path = kagglehub.dataset_download(\"iamsouravbanerjee/house-rent-prediction-dataset\")\n",
        "\n",
        "print(\"Path to dataset files:\", path)"
      ]
    },
    {
      "cell_type": "code",
      "execution_count": 106,
      "metadata": {
        "colab": {
          "base_uri": "https://localhost:8080/"
        },
        "id": "cTcYNCG3qEEs",
        "outputId": "71df7fd3-d562-4357-8281-bba72fee9158"
      },
      "outputs": [],
      "source": [
        "import os\n",
        "import pandas as pd\n",
        "\n",
        "# os.listdir(path)"
      ]
    },
    {
      "cell_type": "code",
      "execution_count": 107,
      "metadata": {
        "id": "P9I227gMqOl3"
      },
      "outputs": [],
      "source": [
        "# df = pd.read_csv(os.path.join(path, \"House_Rent_Dataset.csv\")) # /, \\\n",
        "df = pd.read_csv(os.path.join(\"House_Rent_Dataset.csv\")) # /, \\"
      ]
    },
    {
      "cell_type": "markdown",
      "metadata": {
        "id": "hNaK5qNasm3F"
      },
      "source": [
        "# Basic EDA"
      ]
    },
    {
      "cell_type": "code",
      "execution_count": null,
      "metadata": {
        "colab": {
          "base_uri": "https://localhost:8080/",
          "height": 686
        },
        "id": "65CIsAOyqWTc",
        "outputId": "da9251ed-37bd-4b96-f823-6b05ffa3c049"
      },
      "outputs": [],
      "source": [
        "df"
      ]
    },
    {
      "cell_type": "code",
      "execution_count": null,
      "metadata": {
        "colab": {
          "base_uri": "https://localhost:8080/"
        },
        "id": "ARNJrp8Fqe8X",
        "outputId": "f2fb5732-8fd3-4f32-9fee-0e2073961e8a"
      },
      "outputs": [],
      "source": [
        "df.info()"
      ]
    },
    {
      "cell_type": "code",
      "execution_count": 6,
      "metadata": {
        "id": "8bj60Wb2rZDC"
      },
      "outputs": [],
      "source": [
        "assert df.isna().sum().sum() == 0, \"Problem\""
      ]
    },
    {
      "cell_type": "code",
      "execution_count": null,
      "metadata": {
        "colab": {
          "base_uri": "https://localhost:8080/",
          "height": 300
        },
        "id": "1wzJJyLtrbz6",
        "outputId": "b5da0b9e-f171-40b1-a3dd-00a267f359de"
      },
      "outputs": [],
      "source": [
        "df.describe()"
      ]
    },
    {
      "cell_type": "code",
      "execution_count": 8,
      "metadata": {
        "id": "EgcjMCUbrfau"
      },
      "outputs": [],
      "source": [
        "df_categ = df.select_dtypes(\"object\")"
      ]
    },
    {
      "cell_type": "code",
      "execution_count": null,
      "metadata": {
        "colab": {
          "base_uri": "https://localhost:8080/",
          "height": 335
        },
        "id": "8umLtWLXrhft",
        "outputId": "af7ace06-796d-48d5-bf5e-bc0bf57d8e5f"
      },
      "outputs": [],
      "source": [
        "df_categ.nunique()"
      ]
    },
    {
      "cell_type": "code",
      "execution_count": null,
      "metadata": {
        "colab": {
          "base_uri": "https://localhost:8080/"
        },
        "id": "QBRw1YSQr5K_",
        "outputId": "8bb15de4-d3fe-4dd6-9035-ba7a5641b8fb"
      },
      "outputs": [],
      "source": [
        "df_categ.Floor.unique()"
      ]
    },
    {
      "cell_type": "code",
      "execution_count": 53,
      "metadata": {
        "id": "CIc0kcKesCOS"
      },
      "outputs": [],
      "source": [
        "COLS_TO_DROP = [\"Area Locality\", \"Posted On\", \"Floor\"]\n",
        "\n",
        "# df_categ.drop(columns=COLS_TO_DROP, inplace=True)\n",
        "df.drop(columns=COLS_TO_DROP, inplace=True)\n"
      ]
    },
    {
      "cell_type": "code",
      "execution_count": 54,
      "metadata": {
        "id": "Z1KKJwK3sba-"
      },
      "outputs": [],
      "source": [
        "import plotly.express as px"
      ]
    },
    {
      "cell_type": "code",
      "execution_count": null,
      "metadata": {
        "colab": {
          "base_uri": "https://localhost:8080/",
          "height": 209
        },
        "id": "35McbhhzoJbL",
        "outputId": "778d1102-ea75-43bf-d364-22a825326f4b"
      },
      "outputs": [],
      "source": [
        "df.value_counts(\"Area Type\")"
      ]
    },
    {
      "cell_type": "code",
      "execution_count": null,
      "metadata": {
        "colab": {
          "base_uri": "https://localhost:8080/",
          "height": 542
        },
        "id": "dNRzmOiVsgKh",
        "outputId": "fa802fe2-be35-480d-d3e9-000f2c4a1285"
      },
      "outputs": [],
      "source": [
        "px.bar(df.value_counts(\"Area Type\"))"
      ]
    },
    {
      "cell_type": "markdown",
      "metadata": {
        "id": "aWJk08HWtZs4"
      },
      "source": [
        "# Encoding categorical features\n",
        "https://www.youtube.com/watch?v=589nCGeWG1w"
      ]
    },
    {
      "cell_type": "markdown",
      "metadata": {
        "id": "tabf6vEKug8v"
      },
      "source": [
        "## One Hot Encoding"
      ]
    },
    {
      "cell_type": "code",
      "execution_count": null,
      "metadata": {
        "colab": {
          "base_uri": "https://localhost:8080/",
          "height": 303
        },
        "id": "A66r7vjgtbwg",
        "outputId": "ded671cc-d6cf-4efe-f9d1-14cb98cb7c92"
      },
      "outputs": [],
      "source": [
        "df.value_counts(\"City\")"
      ]
    },
    {
      "cell_type": "markdown",
      "metadata": {
        "id": "CpY-PKeSuudH"
      },
      "source": [
        "![image.png](data:image/png;base64,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)"
      ]
    },
    {
      "cell_type": "markdown",
      "metadata": {
        "id": "nJp0YB1lu-EY"
      },
      "source": [
        "`pip install scikit-learn` or \\\n",
        "`conda install scikit-learn`\n",
        "\n",
        "NOT SKLEARN"
      ]
    },
    {
      "cell_type": "code",
      "execution_count": 56,
      "metadata": {
        "id": "iQgoznfttsCZ"
      },
      "outputs": [],
      "source": [
        "from sklearn.preprocessing import OneHotEncoder\n",
        "\n",
        "# https://scikit-learn.org/dev/modules/generated/sklearn.preprocessing.OneHotEncoder.html"
      ]
    },
    {
      "cell_type": "code",
      "execution_count": null,
      "metadata": {
        "colab": {
          "base_uri": "https://localhost:8080/",
          "height": 423
        },
        "id": "Avhk_5E_wX48",
        "outputId": "4d2f045e-bad2-4919-9773-06697337b63b"
      },
      "outputs": [],
      "source": [
        "city = df[[\"City\"]]\n",
        "city"
      ]
    },
    {
      "cell_type": "code",
      "execution_count": null,
      "metadata": {
        "colab": {
          "base_uri": "https://localhost:8080/",
          "height": 79
        },
        "id": "Xnp3GYgcvRCb",
        "outputId": "8dac896b-fdb1-463e-8d38-7fdcc7245f6e"
      },
      "outputs": [],
      "source": [
        "ohe = OneHotEncoder(sparse_output=False)\n",
        "\n",
        "ohe.fit(city)"
      ]
    },
    {
      "cell_type": "code",
      "execution_count": 58,
      "metadata": {
        "id": "N8sogswfwTk5"
      },
      "outputs": [],
      "source": [
        "city_transformed = ohe.transform(city)"
      ]
    },
    {
      "cell_type": "code",
      "execution_count": null,
      "metadata": {
        "colab": {
          "base_uri": "https://localhost:8080/"
        },
        "id": "lH_2633ixKl6",
        "outputId": "68b5af70-6dc5-45c0-88d3-246e695b7227"
      },
      "outputs": [],
      "source": [
        "city_transformed"
      ]
    },
    {
      "cell_type": "code",
      "execution_count": null,
      "metadata": {
        "colab": {
          "base_uri": "https://localhost:8080/",
          "height": 423
        },
        "id": "WtsvG5o4xBrx",
        "outputId": "a50fd9dd-dd71-41d3-f3ff-133435427ca5"
      },
      "outputs": [],
      "source": [
        "pd.DataFrame(city_transformed)"
      ]
    },
    {
      "cell_type": "code",
      "execution_count": null,
      "metadata": {
        "colab": {
          "base_uri": "https://localhost:8080/"
        },
        "id": "hHbIMLE5xwBl",
        "outputId": "1e9d520e-13e9-46f4-ae89-064a5c658567"
      },
      "outputs": [],
      "source": [
        "ohe.get_feature_names_out()"
      ]
    },
    {
      "cell_type": "code",
      "execution_count": null,
      "metadata": {
        "colab": {
          "base_uri": "https://localhost:8080/",
          "height": 443
        },
        "id": "VHJHwtcjtGiV",
        "outputId": "1255de20-3f46-4bb9-f070-deb61f11d074"
      },
      "outputs": [],
      "source": [
        "encoded_city = pd.DataFrame(city_transformed, columns=ohe.get_feature_names_out())\n",
        "encoded_city"
      ]
    },
    {
      "cell_type": "code",
      "execution_count": null,
      "metadata": {
        "id": "rFjjHbYnrTwb"
      },
      "outputs": [],
      "source": []
    },
    {
      "cell_type": "code",
      "execution_count": null,
      "metadata": {
        "colab": {
          "base_uri": "https://localhost:8080/",
          "height": 652
        },
        "id": "-57jfUisxzsT",
        "outputId": "26c11f60-4fc7-477b-e9d6-e29da0ab8c0c"
      },
      "outputs": [],
      "source": [
        "pd.concat([df, encoded_city], axis=1)"
      ]
    },
    {
      "cell_type": "markdown",
      "metadata": {
        "id": "6oGqrujUyaIn"
      },
      "source": [
        "### Problem with OHE"
      ]
    },
    {
      "cell_type": "code",
      "execution_count": null,
      "metadata": {
        "colab": {
          "base_uri": "https://localhost:8080/",
          "height": 443
        },
        "id": "Cv_kyiO-yCqt",
        "outputId": "422a2d45-9ab5-4fe3-9ae1-87a66825d23b"
      },
      "outputs": [],
      "source": [
        "encoded_city"
      ]
    },
    {
      "cell_type": "markdown",
      "metadata": {
        "id": "lG6D1QoJzERz"
      },
      "source": [
        "![image.png](data:image/png;base64,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)"
      ]
    },
    {
      "cell_type": "code",
      "execution_count": null,
      "metadata": {
        "colab": {
          "base_uri": "https://localhost:8080/",
          "height": 423
        },
        "id": "x1V1ukOLv3kV",
        "outputId": "de1d43c8-cf4e-420e-bea4-bb41e513e90b"
      },
      "outputs": [],
      "source": [
        "encoded_city.iloc[:, :-1]"
      ]
    },
    {
      "cell_type": "code",
      "execution_count": null,
      "metadata": {
        "colab": {
          "base_uri": "https://localhost:8080/",
          "height": 458
        },
        "id": "FI-6yL9FwHNr",
        "outputId": "6584a7af-22f1-4621-e226-c1f5ae89f4f3"
      },
      "outputs": [],
      "source": [
        "1 - encoded_city.iloc[:, :-1].sum(axis=1)"
      ]
    },
    {
      "cell_type": "code",
      "execution_count": 67,
      "metadata": {
        "id": "l40YVV6Sy2Nb"
      },
      "outputs": [],
      "source": [
        "sum_of_rest = encoded_city.iloc[:, :-1].sum(axis=1)"
      ]
    },
    {
      "cell_type": "code",
      "execution_count": 68,
      "metadata": {
        "id": "8Cld6qBHydLk"
      },
      "outputs": [],
      "source": [
        "res = 1 - sum_of_rest"
      ]
    },
    {
      "cell_type": "code",
      "execution_count": null,
      "metadata": {
        "colab": {
          "base_uri": "https://localhost:8080/",
          "height": 458
        },
        "id": "rY4DD6jEzVLG",
        "outputId": "aad077f7-165b-4632-e816-87b4b37ff14a"
      },
      "outputs": [],
      "source": [
        "encoded_city.iloc[:, -1] == res"
      ]
    },
    {
      "cell_type": "code",
      "execution_count": null,
      "metadata": {
        "colab": {
          "base_uri": "https://localhost:8080/"
        },
        "id": "8XYWd4pEzaPZ",
        "outputId": "9c176ba0-67fc-47ce-8e79-2ce9f2aec560"
      },
      "outputs": [],
      "source": [
        "all(encoded_city.iloc[:, -1] == res)"
      ]
    },
    {
      "cell_type": "code",
      "execution_count": 71,
      "metadata": {
        "id": "0bjEKOLTzeDF"
      },
      "outputs": [],
      "source": [
        "import numpy as np"
      ]
    },
    {
      "cell_type": "code",
      "execution_count": 72,
      "metadata": {
        "id": "xmpidka8zwYY"
      },
      "outputs": [],
      "source": [
        "X_X_t = encoded_city @ encoded_city.T"
      ]
    },
    {
      "cell_type": "code",
      "execution_count": null,
      "metadata": {
        "colab": {
          "base_uri": "https://localhost:8080/",
          "height": 304
        },
        "id": "Uz51XnPtzusO",
        "outputId": "64321929-835f-4745-b174-8c823530f23e"
      },
      "outputs": [],
      "source": [
        "np.linalg.inv(X_X_t)"
      ]
    },
    {
      "cell_type": "code",
      "execution_count": null,
      "metadata": {
        "colab": {
          "base_uri": "https://localhost:8080/"
        },
        "id": "f9Zl2Pu_zl94",
        "outputId": "b7f7c6c4-228c-425a-c9bd-fcf4387acd57"
      },
      "outputs": [],
      "source": [
        "np.linalg.det(X_X_t)"
      ]
    },
    {
      "cell_type": "markdown",
      "metadata": {
        "id": "B1w90aTLtj1P"
      },
      "source": [
        "#### Removing duplicates"
      ]
    },
    {
      "cell_type": "code",
      "execution_count": null,
      "metadata": {
        "colab": {
          "base_uri": "https://localhost:8080/"
        },
        "id": "LHtkG5yFye1Z",
        "outputId": "54ab8d80-f64e-499d-fc26-da14a87ef42a"
      },
      "outputs": [],
      "source": [
        "df.duplicated()"
      ]
    },
    {
      "cell_type": "code",
      "execution_count": null,
      "metadata": {
        "colab": {
          "base_uri": "https://localhost:8080/"
        },
        "id": "T4x5po-rtMyr",
        "outputId": "7401da0f-677b-4ede-9daf-5c59b1922baf"
      },
      "outputs": [],
      "source": [
        "np.any(df.duplicated())"
      ]
    },
    {
      "cell_type": "code",
      "execution_count": 48,
      "metadata": {
        "id": "3jKKG0SYtYbg"
      },
      "outputs": [],
      "source": [
        "df = df[~df.duplicated()]"
      ]
    },
    {
      "cell_type": "markdown",
      "metadata": {
        "id": "HSZXAp0T04Ik"
      },
      "source": [
        "### Solution"
      ]
    },
    {
      "cell_type": "code",
      "execution_count": 49,
      "metadata": {
        "id": "RIxjRVYSz8p3"
      },
      "outputs": [],
      "source": [
        "ohe = OneHotEncoder(sparse_output=False, drop=\"first\")\n",
        "\n",
        "encoded_city_fixed = ohe.fit_transform(city)\n"
      ]
    },
    {
      "cell_type": "code",
      "execution_count": null,
      "metadata": {
        "colab": {
          "base_uri": "https://localhost:8080/",
          "height": 423
        },
        "id": "rSXUdTxO1F53",
        "outputId": "02803ef8-7672-4593-a645-aef54c5c9aa2"
      },
      "outputs": [],
      "source": [
        "pd.DataFrame(encoded_city_fixed, columns=ohe.get_feature_names_out())"
      ]
    },
    {
      "cell_type": "markdown",
      "metadata": {
        "id": "eNqwTIz01PN3"
      },
      "source": [
        "### OHE with Pandas"
      ]
    },
    {
      "cell_type": "code",
      "execution_count": null,
      "metadata": {
        "colab": {
          "base_uri": "https://localhost:8080/",
          "height": 443
        },
        "id": "RLdLKzmq1Hbb",
        "outputId": "228c483c-ccec-4fef-89f8-3618385071ae"
      },
      "outputs": [],
      "source": [
        "pd.get_dummies(city)"
      ]
    },
    {
      "cell_type": "code",
      "execution_count": null,
      "metadata": {
        "colab": {
          "base_uri": "https://localhost:8080/",
          "height": 423
        },
        "id": "kJhlOnsW1T6b",
        "outputId": "9f5956e0-b0ce-4341-8e2f-5553b162a67d"
      },
      "outputs": [],
      "source": [
        "pd.get_dummies(city, drop_first=True)"
      ]
    },
    {
      "cell_type": "markdown",
      "metadata": {
        "id": "x8wMAKlb1eUQ"
      },
      "source": [
        "## LabelEncoding"
      ]
    },
    {
      "cell_type": "code",
      "execution_count": 77,
      "metadata": {
        "id": "JnOqnuMk1a1l"
      },
      "outputs": [],
      "source": [
        "furnish = df[\"Furnishing Status\"]"
      ]
    },
    {
      "cell_type": "code",
      "execution_count": null,
      "metadata": {
        "colab": {
          "base_uri": "https://localhost:8080/"
        },
        "id": "ZgqPNTVE1iDh",
        "outputId": "e1f5482c-96a3-4e28-a234-f925b5edf322"
      },
      "outputs": [],
      "source": [
        "from sklearn.preprocessing import LabelEncoder\n",
        "\n",
        "le = LabelEncoder()\n",
        "\n",
        "furnish_le = le.fit_transform(furnish)\n",
        "furnish_le"
      ]
    },
    {
      "cell_type": "code",
      "execution_count": null,
      "metadata": {
        "colab": {
          "base_uri": "https://localhost:8080/",
          "height": 756
        },
        "id": "XIXBY5IN1wb9",
        "outputId": "d96931fc-96c7-4be5-83fe-2efc519108c4"
      },
      "outputs": [],
      "source": [
        "df[\"Furnish_le\"] = furnish_le\n",
        "\n",
        "df"
      ]
    },
    {
      "cell_type": "code",
      "execution_count": null,
      "metadata": {
        "colab": {
          "base_uri": "https://localhost:8080/",
          "height": 250
        },
        "id": "_LHbX0fI120c",
        "outputId": "9430ac7c-10ce-43a2-f2f5-a4d3f420b217"
      },
      "outputs": [],
      "source": [
        "df.drop_duplicates(\"Furnishing Status\")"
      ]
    },
    {
      "cell_type": "code",
      "execution_count": null,
      "metadata": {
        "colab": {
          "base_uri": "https://localhost:8080/",
          "height": 209
        },
        "id": "dXWjoYrW3ahS",
        "outputId": "5fc29a6b-6be8-494b-9a33-624a5aa28f90"
      },
      "outputs": [],
      "source": [
        "df.value_counts(\"Area Type\")"
      ]
    },
    {
      "cell_type": "code",
      "execution_count": null,
      "metadata": {
        "id": "sj698qqi2MYt"
      },
      "outputs": [],
      "source": [
        "area_type_le = le.fit_transform(df[\"Area Type\"])\n"
      ]
    },
    {
      "cell_type": "code",
      "execution_count": null,
      "metadata": {
        "colab": {
          "base_uri": "https://localhost:8080/"
        },
        "id": "5c9Nlom33k_M",
        "outputId": "fbcb6385-5da2-4140-bdab-693fe7a6bdca"
      },
      "outputs": [],
      "source": [
        "df[\"area_type_le\"] = area_type_le"
      ]
    },
    {
      "cell_type": "code",
      "execution_count": null,
      "metadata": {
        "colab": {
          "base_uri": "https://localhost:8080/",
          "height": 250
        },
        "id": "o5FPKtLP3oHk",
        "outputId": "5aa1b3ff-f9be-4cb6-b3d8-61b174f449de"
      },
      "outputs": [],
      "source": [
        "df.drop_duplicates(\"Area Type\")"
      ]
    },
    {
      "cell_type": "markdown",
      "metadata": {
        "id": "YF4WXrrI32Oo"
      },
      "source": [
        "### Problem with LE\n",
        "Super Area - Built Area\t= 2 * Carpet Area\n",
        "\n",
        "\n",
        "\n"
      ]
    },
    {
      "cell_type": "markdown",
      "metadata": {
        "id": "268fnhU-372H"
      },
      "source": [
        "## Solution - Ordinal Encoding"
      ]
    },
    {
      "cell_type": "code",
      "execution_count": 83,
      "metadata": {
        "colab": {
          "base_uri": "https://localhost:8080/"
        },
        "id": "vrjcuvJ53okO",
        "outputId": "0ccfb274-f9d7-4187-9e7f-56c572873271"
      },
      "outputs": [],
      "source": [
        "mappings = {\n",
        "    \"Unfurnished\": 0,\n",
        "    \"Semi-Furnished\": 0.5,\n",
        "    \"Furnished\": 1\n",
        "}\n",
        "\n",
        "df[\"Furnishing OE\"] = df[\"Furnishing Status\"].map(mappings)"
      ]
    },
    {
      "cell_type": "code",
      "execution_count": null,
      "metadata": {
        "id": "giXeFLJQ4fVO"
      },
      "outputs": [],
      "source": [
        "df"
      ]
    },
    {
      "cell_type": "markdown",
      "metadata": {
        "id": "O_b0F1JW4k1I"
      },
      "source": [
        "## Target Encoding (BE CAREFULL!!!)\n",
        "\n",
        "https://www.youtube.com/watch?v=589nCGeWG1w"
      ]
    },
    {
      "cell_type": "code",
      "execution_count": null,
      "metadata": {
        "colab": {
          "base_uri": "https://localhost:8080/",
          "height": 209
        },
        "id": "OiPxhorT55O8",
        "outputId": "132ccb0c-2f4c-4ed1-ba1e-809f05a49dc8"
      },
      "outputs": [],
      "source": [
        "df[\"Point of Contact\"].value_counts()"
      ]
    },
    {
      "cell_type": "code",
      "execution_count": null,
      "metadata": {
        "colab": {
          "base_uri": "https://localhost:8080/",
          "height": 209
        },
        "id": "F2Nt8hrr6F9A",
        "outputId": "6c96b965-436c-4b27-c32b-7bbf744a3224"
      },
      "outputs": [],
      "source": [
        "df.groupby(\"Point of Contact\")[\"Rent\"].mean()"
      ]
    },
    {
      "cell_type": "markdown",
      "metadata": {
        "id": "ral3UTET5Jls"
      },
      "source": [
        "`pip install category_encoders`\n",
        "https://contrib.scikit-learn.org/category_encoders/"
      ]
    },
    {
      "cell_type": "code",
      "execution_count": null,
      "metadata": {
        "colab": {
          "base_uri": "https://localhost:8080/"
        },
        "id": "xNTVDoI16mp-",
        "outputId": "248f26f4-7e34-4667-a247-66c0a9115cdb"
      },
      "outputs": [],
      "source": [
        "!pip install category_encoders"
      ]
    },
    {
      "cell_type": "code",
      "execution_count": null,
      "metadata": {
        "colab": {
          "base_uri": "https://localhost:8080/"
        },
        "id": "ujamgp4L7F2r",
        "outputId": "e8492f73-132d-4899-bc64-2448cfd5e8d9"
      },
      "outputs": [],
      "source": [
        "!pip uninstall -y scikit-learn\n",
        "!pip install scikit-learn==1.5.2"
      ]
    },
    {
      "cell_type": "code",
      "execution_count": null,
      "metadata": {
        "colab": {
          "base_uri": "https://localhost:8080/"
        },
        "id": "RZlIKXao7kuK",
        "outputId": "736027f2-7071-4df1-a159-e6afdefb7693"
      },
      "outputs": [],
      "source": [
        "!pip install category_encoders==2.5.0\n"
      ]
    },
    {
      "cell_type": "code",
      "execution_count": null,
      "metadata": {
        "colab": {
          "base_uri": "https://localhost:8080/",
          "height": 515
        },
        "id": "5Mw9nQcF4hm3",
        "outputId": "10af4901-fb47-4e48-ecec-ddbb4410b165"
      },
      "outputs": [],
      "source": [
        "import category_encoders as ce\n",
        "\n",
        "col = \"Point of Contact\"\n",
        "\n",
        "target_enc = ce.TargetEncoder(cols=[col])\n",
        "\n",
        "target_enc.fit(df[col], df['Rent'])\n",
        "\n",
        "df['Point_of_Coutact_encoded'] = target_enc.transform(df[col])\n"
      ]
    },
    {
      "cell_type": "code",
      "execution_count": null,
      "metadata": {
        "colab": {
          "base_uri": "https://localhost:8080/",
          "height": 652
        },
        "id": "kKm6eWkG6iOQ",
        "outputId": "87469fd6-009b-4d9a-f3b2-4b9ae36b3e4d"
      },
      "outputs": [],
      "source": [
        "df"
      ]
    },
    {
      "cell_type": "code",
      "execution_count": null,
      "metadata": {
        "colab": {
          "base_uri": "https://localhost:8080/",
          "height": 209
        },
        "id": "_3UKid2N8VHV",
        "outputId": "8fd306ec-6f81-4d5a-cae6-1a378df401d7"
      },
      "outputs": [],
      "source": [
        "df.groupby(\"Point of Contact\")[\"Rent\"].mean()"
      ]
    },
    {
      "cell_type": "markdown",
      "metadata": {
        "id": "BBjg5pKc_Hm9"
      },
      "source": [
        "## Some preprocessing"
      ]
    },
    {
      "cell_type": "code",
      "execution_count": null,
      "metadata": {
        "colab": {
          "base_uri": "https://localhost:8080/",
          "height": 209
        },
        "id": "E5k6-F5S8ZxK",
        "outputId": "8d69fac2-0ddf-40ae-c1ea-902fe7c9ca37"
      },
      "outputs": [],
      "source": [
        "df[\"Area Type\"].value_counts()"
      ]
    },
    {
      "cell_type": "code",
      "execution_count": null,
      "metadata": {
        "colab": {
          "base_uri": "https://localhost:8080/",
          "height": 178
        },
        "id": "DjG0cCgo_I-T",
        "outputId": "e04c3e26-99cb-43c9-c8cf-fc8028e1e45e"
      },
      "outputs": [],
      "source": [
        "df = df[df[\"Area Type\"] != \"Built Area\"]\n",
        "\n",
        "df[\"Area Type\"].value_counts()"
      ]
    },
    {
      "cell_type": "code",
      "execution_count": null,
      "metadata": {
        "colab": {
          "base_uri": "https://localhost:8080/",
          "height": 209
        },
        "id": "q1xz78Qb_bhL",
        "outputId": "0063a56d-ab35-4cff-baff-fc4ce357d924"
      },
      "outputs": [],
      "source": [
        "df[\"Point of Contact\"].value_counts()"
      ]
    },
    {
      "cell_type": "code",
      "execution_count": 37,
      "metadata": {
        "id": "YFO7CsJi_fdt"
      },
      "outputs": [],
      "source": [
        "df = df[df[\"Point of Contact\"] != \"Contact Builder\"]"
      ]
    },
    {
      "cell_type": "markdown",
      "metadata": {
        "id": "H5UggYcM_m0n"
      },
      "source": [
        "## Putting all together"
      ]
    },
    {
      "cell_type": "code",
      "execution_count": null,
      "metadata": {
        "colab": {
          "base_uri": "https://localhost:8080/",
          "height": 304
        },
        "id": "oiZyhQ_p_9ht",
        "outputId": "6fe250ea-c4c5-4078-a959-d9354d7f4439"
      },
      "outputs": [],
      "source": [
        "df.drop(columns=[\"Point_of_Coutact_encoded\"], inplace=True)"
      ]
    },
    {
      "cell_type": "code",
      "execution_count": 91,
      "metadata": {
        "id": "ddi3n3cY_l9O"
      },
      "outputs": [],
      "source": [
        "COLS_OHE = [\"Area Type\", \"City\", \"Tenant Preferred\", \\\n",
        "            \"Point of Contact\"]\n"
      ]
    },
    {
      "cell_type": "code",
      "execution_count": null,
      "metadata": {
        "id": "Y8-qTi6z_qpH"
      },
      "outputs": [],
      "source": [
        "data_OHE = pd.get_dummies(df[COLS_OHE], drop_first=True)"
      ]
    },
    {
      "cell_type": "code",
      "execution_count": 44,
      "metadata": {
        "id": "BB4uaTaRAGjy"
      },
      "outputs": [],
      "source": [
        "df = pd.concat([df, data_OHE], axis=1)"
      ]
    },
    {
      "cell_type": "code",
      "execution_count": 45,
      "metadata": {
        "id": "VlPwxkYnAQmj"
      },
      "outputs": [],
      "source": [
        "df.drop(columns=COLS_OHE, inplace=True)"
      ]
    },
    {
      "cell_type": "code",
      "execution_count": 93,
      "metadata": {
        "id": "khLVAD8wAXcC"
      },
      "outputs": [],
      "source": [
        "mappings = {\n",
        "    \"Unfurnished\": 0,\n",
        "    \"Semi-Furnished\": 0.5,\n",
        "    \"Furnished\": 1\n",
        "}\n",
        "df[\"Furnishing Status\"] = df[\"Furnishing Status\"].map(mappings)"
      ]
    },
    {
      "cell_type": "code",
      "execution_count": null,
      "metadata": {
        "colab": {
          "base_uri": "https://localhost:8080/",
          "height": 478
        },
        "id": "7MKvMiqbAYCE",
        "outputId": "faa5b0cb-e432-432d-e60f-7d01106f080e"
      },
      "outputs": [],
      "source": [
        "df"
      ]
    },
    {
      "cell_type": "markdown",
      "metadata": {
        "id": "SOA3cizDA3L5"
      },
      "source": [
        "# Linear Regression with Scikit-learn"
      ]
    },
    {
      "cell_type": "markdown",
      "metadata": {},
      "source": [
        "# ToDo - Make sure we drop irrelevant features"
      ]
    },
    {
      "cell_type": "code",
      "execution_count": null,
      "metadata": {},
      "outputs": [],
      "source": [
        "df"
      ]
    },
    {
      "cell_type": "code",
      "execution_count": null,
      "metadata": {},
      "outputs": [],
      "source": [
        "df = df[[\"BHK\", \"Rent\",\t\"Size\",\t\"Bathroom\"]]"
      ]
    },
    {
      "cell_type": "code",
      "execution_count": null,
      "metadata": {
        "id": "rXSoFD9HAqDX"
      },
      "outputs": [],
      "source": [
        "X = df\n",
        "y = df[\"Rent\"]"
      ]
    },
    {
      "cell_type": "code",
      "execution_count": null,
      "metadata": {
        "colab": {
          "base_uri": "https://localhost:8080/",
          "height": 135
        },
        "id": "XXJIyHCOA7wR",
        "outputId": "baf5ec39-f23f-48d6-ca87-a5d90bd1fbcc"
      },
      "outputs": [],
      "source": [
        "X.head(1)"
      ]
    },
    {
      "cell_type": "code",
      "execution_count": null,
      "metadata": {
        "colab": {
          "base_uri": "https://localhost:8080/",
          "height": 115
        },
        "id": "aQaPMX0RBGUt",
        "outputId": "ca1fc2e4-7af4-48a2-e7ab-dfcb206a5cfb"
      },
      "outputs": [],
      "source": [
        "y.head(1)"
      ]
    },
    {
      "cell_type": "code",
      "execution_count": 232,
      "metadata": {
        "id": "-N4QmoibBMKS"
      },
      "outputs": [],
      "source": [
        "from sklearn.linear_model import LinearRegression\n"
      ]
    },
    {
      "cell_type": "code",
      "execution_count": null,
      "metadata": {},
      "outputs": [],
      "source": [
        "X"
      ]
    },
    {
      "cell_type": "code",
      "execution_count": null,
      "metadata": {
        "colab": {
          "base_uri": "https://localhost:8080/",
          "height": 79
        },
        "id": "fQIOgNH8BU-2",
        "outputId": "0e8ec17c-c2e5-4f9b-88a0-a75b61d689d8"
      },
      "outputs": [],
      "source": [
        "model = LinearRegression()\n",
        "model.fit(X, y)"
      ]
    },
    {
      "cell_type": "code",
      "execution_count": null,
      "metadata": {
        "colab": {
          "base_uri": "https://localhost:8080/",
          "height": 637
        },
        "id": "LChFUKY7Bf7W",
        "outputId": "623b53e6-4834-4c06-d3a8-87f3020f8f17"
      },
      "outputs": [],
      "source": [
        "print(\"Intercept:\", model.intercept_)\n",
        "print(\"Coefficient(s):\", model.coef_)\n",
        "\n",
        "coef_df = pd.DataFrame({\n",
        "    'Feature': X.columns,\n",
        "    'Coefficient': model.coef_\n",
        "})\n",
        "\n",
        "coef_df"
      ]
    },
    {
      "cell_type": "code",
      "execution_count": 116,
      "metadata": {
        "id": "zcn89yugCMIE"
      },
      "outputs": [],
      "source": [
        "pd.options.display.float_format = '{:.6f}'.format\n"
      ]
    },
    {
      "cell_type": "code",
      "execution_count": null,
      "metadata": {
        "colab": {
          "base_uri": "https://localhost:8080/",
          "height": 551
        },
        "id": "cCxmMd5ACM4r",
        "outputId": "80e2b985-3534-435c-cfe7-2a271b7cb443"
      },
      "outputs": [],
      "source": [
        "coef_df"
      ]
    },
    {
      "cell_type": "markdown",
      "metadata": {
        "id": "5m7r8dOjCVy2"
      },
      "source": [
        "### Fixing issue"
      ]
    },
    {
      "cell_type": "code",
      "execution_count": null,
      "metadata": {},
      "outputs": [],
      "source": [
        "X"
      ]
    },
    {
      "cell_type": "code",
      "execution_count": 134,
      "metadata": {},
      "outputs": [],
      "source": [
        "df = df[[\"BHK\", \"Rent\",\t\"Size_min_max\",\t\"Bathroom_min_max\"]]"
      ]
    },
    {
      "cell_type": "code",
      "execution_count": null,
      "metadata": {
        "colab": {
          "base_uri": "https://localhost:8080/",
          "height": 606
        },
        "id": "WQit72oMCXbh",
        "outputId": "c0c3bf5f-c382-4083-cba6-22c0905b35df"
      },
      "outputs": [],
      "source": [
        "X = df.drop(columns=[\"Rent\"])\n",
        "y = df[\"Rent\"]\n",
        "\n",
        "model = LinearRegression()\n",
        "model.fit(X, y)\n",
        "\n",
        "print(\"Intercept:\", model.intercept_)\n",
        "print(\"Coefficient(s):\", model.coef_)\n",
        "\n",
        "coef_df = pd.DataFrame({\n",
        "    'Feature': X.columns,\n",
        "    'Coefficient': model.coef_\n",
        "})\n",
        "\n",
        "coef_df"
      ]
    },
    {
      "cell_type": "markdown",
      "metadata": {
        "id": "HIVe-cgvxqmQ"
      },
      "source": [
        "### 21 Jan"
      ]
    },
    {
      "cell_type": "markdown",
      "metadata": {
        "id": "U7SvUZh1DDMM"
      },
      "source": [
        "### Interpreting coefficents\n",
        "\n",
        "**Note**\n",
        "- In practice, we would first of all evaluate our model, and only then try to interpret it."
      ]
    },
    {
      "cell_type": "markdown",
      "metadata": {
        "id": "L4ViTsuZx4Kf"
      },
      "source": [
        "$y_{initial} = \\theta_0 + \\theta_1 * x_1 + \\theta_2 * x_2$\n",
        "\n",
        "Increase $x_1$ by 1\n",
        "\n",
        "$y_{new} = \\theta_0 + \\theta_1 * (x_1 + 1) + \\theta_2 * x_2 = \\theta_0 + \\theta_1 * x_1 + \\theta_2 * x_2 + \\theta_1$\n",
        "\n",
        "$y_{new} - y_{initial} = \\theta_1$"
      ]
    },
    {
      "cell_type": "code",
      "execution_count": null,
      "metadata": {
        "colab": {
          "base_uri": "https://localhost:8080/",
          "height": 457
        },
        "id": "5oBcb4lIB85t",
        "outputId": "d2e1bc52-0548-488a-a57a-40aae72f70e3"
      },
      "outputs": [],
      "source": [
        "coef_df.sort_values(\"Coefficient\", ascending=False)\n"
      ]
    },
    {
      "cell_type": "markdown",
      "metadata": {
        "id": "JBF05WEWDut0"
      },
      "source": [
        "**Size = 39.747316**\n",
        "- For each additional square meter (or whichever unit “Size” represents), the rent on average increases by about 39.75 units of currency, holding other factors constant. (c. p)\n",
        "\n",
        "**City_Hyderabad = -15172.606293**\n",
        "- Being in Hyderabad (vs. baseline) on average leads to a 15172.61 decrease in predicted rent on average c. p.\n",
        "\n",
        "**Note**\n",
        "- Ceteris paribus (a Latin phrase, meaning \"other things equal\"))\n"
      ]
    },
    {
      "cell_type": "markdown",
      "metadata": {
        "id": "vF_7CgcCEqjT"
      },
      "source": [
        "**Important**: We should not just sort the values, but rather sort them based on their absolute value"
      ]
    },
    {
      "cell_type": "code",
      "execution_count": null,
      "metadata": {
        "colab": {
          "base_uri": "https://localhost:8080/",
          "height": 457
        },
        "id": "yGBAWRebEpzg",
        "outputId": "a01343cb-a580-4708-d78b-f5218bf90b9f"
      },
      "outputs": [],
      "source": [
        "coef_df.sort_values(\"Coefficient\", key=abs, ascending=False)\n"
      ]
    },
    {
      "cell_type": "markdown",
      "metadata": {
        "id": "B1--hD9-E8fh"
      },
      "source": [
        "Why is size so not important, it does not make any sense"
      ]
    },
    {
      "cell_type": "code",
      "execution_count": null,
      "metadata": {
        "colab": {
          "base_uri": "https://localhost:8080/",
          "height": 300
        },
        "id": "dq9aADgOC_YE",
        "outputId": "51824973-f9f3-4a75-b2e9-9ac1cc2e67c0"
      },
      "outputs": [],
      "source": [
        "df[[\"Size\", \"Bathroom\"]].describe()"
      ]
    },
    {
      "cell_type": "markdown",
      "metadata": {
        "id": "ojmSytXpFf4w"
      },
      "source": [
        "# Feature Scaling"
      ]
    },
    {
      "cell_type": "code",
      "execution_count": null,
      "metadata": {},
      "outputs": [],
      "source": [
        "10 - 100\n",
        "\n",
        "30 \n",
        "\n",
        "30 - 10 = 20\n",
        "\n",
        "20 / 90\n",
        "\n",
        "min -> 0\n",
        "max -> 1"
      ]
    },
    {
      "cell_type": "code",
      "execution_count": null,
      "metadata": {
        "colab": {
          "base_uri": "https://localhost:8080/",
          "height": 542
        },
        "id": "lCbGRQlRFfYw",
        "outputId": "e9b0df95-2dab-4341-af24-7a08aca7260c"
      },
      "outputs": [],
      "source": [
        "px.histogram(df, [\"Size\", \"Bathroom\"])"
      ]
    },
    {
      "cell_type": "markdown",
      "metadata": {
        "id": "xDlcXr5jF-yx"
      },
      "source": [
        "## Min Max Scaling"
      ]
    },
    {
      "cell_type": "code",
      "execution_count": null,
      "metadata": {
        "colab": {
          "base_uri": "https://localhost:8080/",
          "height": 542
        },
        "id": "uFhoPAnuHPW1",
        "outputId": "25871764-c51d-4ae0-a7a9-7cb9bb887444"
      },
      "outputs": [],
      "source": [
        "px.histogram(df, \"Size\")"
      ]
    },
    {
      "cell_type": "code",
      "execution_count": null,
      "metadata": {
        "colab": {
          "base_uri": "https://localhost:8080/",
          "height": 542
        },
        "id": "p-KQFfjgGYiu",
        "outputId": "18ee6bbe-afa8-46fa-96f7-4b2ed6e0d1fb"
      },
      "outputs": [],
      "source": [
        "def min_max_scale(df, col):\n",
        "    return (df[col] - df[col].min()) / (df[col].max() - df[col].min())\n",
        "\n",
        "df[\"Size_min_max\"] = min_max_scale(df, \"Size\")\n",
        "df[\"Bathroom_min_max\"] = min_max_scale(df, \"Bathroom\")\n",
        "\n",
        "px.histogram(df, [\"Size_min_max\", \"Bathroom_min_max\"])\n"
      ]
    },
    {
      "cell_type": "code",
      "execution_count": null,
      "metadata": {
        "colab": {
          "base_uri": "https://localhost:8080/",
          "height": 423
        },
        "id": "Z9gOw3lhFe_J",
        "outputId": "7f007580-b51f-435d-e2e9-c241140efaab"
      },
      "outputs": [],
      "source": [
        "\n",
        "from sklearn.preprocessing import MinMaxScaler\n",
        "\n",
        "scaler = MinMaxScaler()\n",
        "\n",
        "scaler.fit(df[['Size', 'Bathroom']])\n",
        "\n",
        "scaled_data = scaler.transform(df[['Size', 'Bathroom']])\n",
        "\n",
        "df[['Size_minmax', 'Bathroom_minmax']] = scaled_data\n",
        "\n",
        "df.iloc[:,-4:]"
      ]
    },
    {
      "cell_type": "markdown",
      "metadata": {
        "id": "KvghjrruI4lZ"
      },
      "source": [
        "## Standard Scaling"
      ]
    },
    {
      "cell_type": "code",
      "execution_count": null,
      "metadata": {
        "id": "tEjAJT1MIosZ"
      },
      "outputs": [],
      "source": [
        "def standard_scale(df, col):\n",
        "    \"\"\"\n",
        "    Standardize a single column to have mean 0 and std dev 1:\n",
        "         z = (x - mean) / std\n",
        "    \"\"\"\n",
        "    return (df[col] - df[col].mean()) / df[col].std()\n",
        "\n",
        "df[\"Size_std_manual\"] = standard_scale(df, \"Size\")\n",
        "df[\"Bathroom_std_manual\"] = standard_scale(df, \"Bathroom\")\n"
      ]
    },
    {
      "cell_type": "code",
      "execution_count": null,
      "metadata": {
        "colab": {
          "base_uri": "https://localhost:8080/",
          "height": 423
        },
        "id": "imJiE19OI_3L",
        "outputId": "ce047e02-3ea5-4494-afa4-ad0402e58553"
      },
      "outputs": [],
      "source": [
        "from sklearn.preprocessing import StandardScaler\n",
        "\n",
        "scaler = StandardScaler()\n",
        "\n",
        "scaler.fit(df[['Size', 'Bathroom']])\n",
        "\n",
        "scaled_data = scaler.transform(df[['Size', 'Bathroom']])\n",
        "\n",
        "df[['Size_standard', 'Bathroom_standard']] = scaled_data\n",
        "\n",
        "df.iloc[:, -4:]\n"
      ]
    },
    {
      "cell_type": "code",
      "execution_count": null,
      "metadata": {
        "colab": {
          "base_uri": "https://localhost:8080/",
          "height": 542
        },
        "id": "C9B63wfqI_bH",
        "outputId": "08bd2a9a-45b3-4cc5-ce77-3f50c7269c31"
      },
      "outputs": [],
      "source": [
        "px.histogram(df, [\"Size_std_manual\", \"Bathroom_std_manual\"])"
      ]
    },
    {
      "cell_type": "markdown",
      "metadata": {
        "id": "uIi8lpxWJXLk"
      },
      "source": [
        "# Train Test Split"
      ]
    },
    {
      "cell_type": "code",
      "execution_count": 150,
      "metadata": {
        "id": "gfWx2AUa04yP"
      },
      "outputs": [],
      "source": [
        "import numpy as np\n",
        "import pandas as pd\n",
        "\n",
        "from sklearn.linear_model import LinearRegression\n",
        "from sklearn.model_selection import train_test_split\n",
        "from sklearn.metrics import mean_squared_error, mean_absolute_error, r2_score\n",
        "\n",
        "\n",
        "import plotly.express as px\n",
        "import plotly.graph_objects as go\n"
      ]
    },
    {
      "cell_type": "code",
      "execution_count": null,
      "metadata": {
        "colab": {
          "base_uri": "https://localhost:8080/",
          "height": 423
        },
        "id": "o37muk0g08p9",
        "outputId": "0521e174-6230-480c-913e-a130cee1be36"
      },
      "outputs": [],
      "source": [
        "np.random.seed(509)\n",
        "\n",
        "num_samples = 100\n",
        "theta_0_true = 4\n",
        "theta_1_true = 3\n",
        "\n",
        "X = np.random.rand(num_samples, 1)\n",
        "y = theta_0_true + theta_1_true * X\n",
        "df = pd.DataFrame({'x': X.flatten(), 'y': y.flatten()})\n",
        "df"
      ]
    },
    {
      "cell_type": "code",
      "execution_count": null,
      "metadata": {
        "id": "syslCD8U1wMN"
      },
      "outputs": [],
      "source": [
        "px.scatter(df, \"x\", \"y\")"
      ]
    },
    {
      "cell_type": "markdown",
      "metadata": {
        "id": "FWrkyJcK1Nbl"
      },
      "source": [
        "### SETTING THE SEED IS IMPORTANT"
      ]
    },
    {
      "cell_type": "code",
      "execution_count": null,
      "metadata": {},
      "outputs": [],
      "source": [
        "import numpy as np\n",
        "\n",
        "np.random.seed(1)\n",
        "\n",
        "print(np.random.randint(1,100))\n",
        "print(np.random.randint(1,100))"
      ]
    },
    {
      "cell_type": "markdown",
      "metadata": {},
      "source": [
        "#### Adding noise"
      ]
    },
    {
      "cell_type": "code",
      "execution_count": 222,
      "metadata": {
        "id": "qt_LBk4O1QqM"
      },
      "outputs": [],
      "source": [
        "np.random.seed(50004)\n",
        "\n",
        "X = np.random.rand(200, 1)\n",
        "y = theta_0_true + theta_1_true * X + np.random.randn(200, 1) / 3\n",
        "df = pd.DataFrame({'x': X.flatten(), 'y': y.flatten()})"
      ]
    },
    {
      "cell_type": "code",
      "execution_count": null,
      "metadata": {
        "colab": {
          "base_uri": "https://localhost:8080/",
          "height": 542
        },
        "id": "uIeDQFEo1VMb",
        "outputId": "099b5181-c23e-4b35-ff78-983ef62b6222"
      },
      "outputs": [],
      "source": [
        "x_vals = np.linspace(0, 1, 100)\n",
        "y_vals = theta_0_true + theta_1_true * x_vals\n",
        "\n",
        "fig = px.scatter(df, \"x\", \"y\")\n",
        "\n",
        "fig.add_trace(go.Scatter(x=x_vals, y=y_vals, mode='lines', name='True Line'))\n",
        "\n",
        "fig.show()\n",
        "\n"
      ]
    },
    {
      "cell_type": "markdown",
      "metadata": {},
      "source": [
        "#### First work with a few points"
      ]
    },
    {
      "cell_type": "code",
      "execution_count": null,
      "metadata": {
        "id": "2Fgm5_XD1cTH"
      },
      "outputs": [],
      "source": [
        "df_small = df.sort_values(\"x\").head(3)\n",
        "df_small"
      ]
    },
    {
      "cell_type": "code",
      "execution_count": null,
      "metadata": {
        "id": "uIJeuK3X1UB2"
      },
      "outputs": [],
      "source": [
        "# show fig but xlim to 0.012\n",
        "fig.update_layout(xaxis=dict(range=[df_small.x.min()-0.01, df_small.x.max()+0.01]), \n",
        "                  yaxis=dict(range=[df_small.y.min()-0.01, df_small.y.max()+0.01]))\n",
        "fig.show()"
      ]
    },
    {
      "cell_type": "code",
      "execution_count": 226,
      "metadata": {},
      "outputs": [],
      "source": [
        "X = df_small[[\"x\"]]\n",
        "y = df_small[\"y\"]"
      ]
    },
    {
      "cell_type": "markdown",
      "metadata": {},
      "source": [
        "#### 10th degree polynomial"
      ]
    },
    {
      "cell_type": "code",
      "execution_count": null,
      "metadata": {},
      "outputs": [],
      "source": [
        "x \n",
        "3\n",
        "4\n",
        "5\n",
        "6\n",
        "7\n",
        "\n",
        "theta_0 * 1 + theta_1 * x + theta_2 * x^2 + theta_3 * x_3\n",
        "\n",
        "ax^2 + bx + c"
      ]
    },
    {
      "cell_type": "code",
      "execution_count": null,
      "metadata": {},
      "outputs": [],
      "source": [
        "data = pd.DataFrame()\n",
        "\n",
        "data[\"intercept\"] = np.ones(7)\n",
        "data[\"x\"] = np.array([1,2,3,4,5,6,7])\n",
        "data[\"x2\"] = data[\"x\"] ** 2\n",
        "data[\"x3\"] = data[\"x\"] ** 3\n",
        "\n",
        "data"
      ]
    },
    {
      "cell_type": "code",
      "execution_count": null,
      "metadata": {},
      "outputs": [],
      "source": [
        "from sklearn.preprocessing import PolynomialFeatures\n",
        "\n",
        "X = df_small[[\"x\"]]\n",
        "y = df_small[\"y\"]\n",
        "\n",
        "x_vals = np.linspace(X.min(), X.max(), 100).reshape(-1,1)\n",
        "\n",
        "# Polynomial regression\n",
        "poly = PolynomialFeatures(degree=3)\n",
        "X_poly = poly.fit_transform(X)\n",
        "model_poly = LinearRegression()\n",
        "model_poly.fit(X_poly, y)"
      ]
    },
    {
      "cell_type": "code",
      "execution_count": null,
      "metadata": {},
      "outputs": [],
      "source": [
        "model_poly.coef_"
      ]
    },
    {
      "cell_type": "code",
      "execution_count": null,
      "metadata": {},
      "outputs": [],
      "source": [
        "1 * -1.159 + 8 + -4.64 + 8^^2 4.58301265e"
      ]
    },
    {
      "cell_type": "code",
      "execution_count": null,
      "metadata": {},
      "outputs": [],
      "source": [
        "pd.DataFrame(X_poly), y"
      ]
    },
    {
      "cell_type": "code",
      "execution_count": null,
      "metadata": {},
      "outputs": [],
      "source": [
        "from sklearn.preprocessing import PolynomialFeatures\n",
        "\n",
        "X = df_small[[\"x\"]]\n",
        "y = df_small[\"y\"]\n",
        "\n",
        "x_vals = np.linspace(X.min(), X.max(), 100).reshape(-1,1)\n",
        "\n",
        "# X = pd.DataFrame(np.array([1,2,3]))\n",
        "# Polynomial regression\n",
        "poly = PolynomialFeatures(degree=10)\n",
        "X_poly = poly.fit_transform(X)\n",
        "\n",
        "# print(X)\n",
        "# print(pd.DataFrame(X_poly))\n",
        "\n",
        "model_poly = LinearRegression()\n",
        "model_poly.fit(X_poly, y)\n",
        "\n",
        "# Predictions for polynomial regression\n",
        "x_vals_poly = poly.transform(x_vals)\n",
        "y_pred_poly = model_poly.predict(x_vals_poly)\n",
        "\n",
        "# Linear regression\n",
        "model_line = LinearRegression()\n",
        "model_line.fit(X, y)\n",
        "\n",
        "# Predictions for linear regression\n",
        "y_pred_line = model_line.predict(x_vals)\n",
        "\n",
        "# Plotting\n",
        "fig = px.scatter(df_small, \"x\", \"y\", title=\"Actual Data, True Line, Line Fit, and Poly Fit\")\n",
        "fig.add_trace(go.Scatter(x=x_vals.flatten(), y=theta_0_true + theta_1_true * x_vals.flatten(), mode='lines', name='True Line'))\n",
        "fig.add_trace(go.Scatter(x=x_vals.flatten(), y=y_pred_poly.flatten(), mode='lines', name='Poly Fit'))\n",
        "fig.add_trace(go.Scatter(x=x_vals.flatten(), y=y_pred_line.flatten(), mode='lines', name='Line Fit'))\n",
        "fig.show()\n"
      ]
    },
    {
      "cell_type": "code",
      "execution_count": null,
      "metadata": {},
      "outputs": [],
      "source": [
        "X_all = df[[\"x\"]]\n",
        "y_all = df[\"y\"]\n",
        "\n",
        "# predict the models on all data\n",
        "y_pred_line_all = model_line.predict(X_all)\n",
        "y_pred_poly_all = model_poly.predict(poly.transform(X_all))\n",
        "\n",
        "# plot the predictions\n",
        "fig = px.scatter(df, \"x\", \"y\", title=\"Actual Data, Line Fit, Poly Fit\")\n",
        "fig.add_trace(go.Scatter(x=df[\"x\"], y=y_pred_line_all.flatten(), mode='markers', name='Line Fit'))\n",
        "fig.add_trace(go.Scatter(x=df[\"x\"], y=y_pred_poly_all.flatten(), mode='markers', name='Poly Fit'))\n",
        "fig.add_trace(go.Scatter(x=x_vals.flatten(), y=theta_0_true + theta_1_true * x_vals.flatten(), mode='lines', name='True Line'))\n",
        "\n",
        "fig.show()\n"
      ]
    },
    {
      "cell_type": "markdown",
      "metadata": {},
      "source": [
        "#### Errors"
      ]
    },
    {
      "cell_type": "code",
      "execution_count": null,
      "metadata": {},
      "outputs": [],
      "source": [
        "small_line_mse = mean_squared_error(y, model_line.predict(X))\n",
        "small_poly_mse = mean_squared_error(y, model_poly.predict(poly.transform(X)))\n",
        "\n",
        "all_line_mse = mean_squared_error(y_all, model_line.predict(X_all))\n",
        "all_poly_mse = mean_squared_error(y_all, model_poly.predict(poly.transform(X_all)))\n",
        "\n",
        "print(f\"Small Data MSE - Line: {small_line_mse:.5f}\")\n",
        "print(f\"Small Data MSE - Poly: {small_poly_mse:.5f}\")\n",
        "print()\n",
        "print(f\"All Data MSE - Line: {all_line_mse:.5f}\")\n",
        "print(f\"All Data MSE - Poly: {all_poly_mse:.5f}\")"
      ]
    },
    {
      "cell_type": "markdown",
      "metadata": {},
      "source": [
        "### Solution - split the data"
      ]
    },
    {
      "cell_type": "code",
      "execution_count": null,
      "metadata": {},
      "outputs": [],
      "source": [
        "num_samples = 30\n",
        "\n",
        "X = np.random.rand(num_samples, 1)\n",
        "y = theta_0_true + theta_1_true * X + np.random.randn(num_samples, 1) / 3\n",
        "\n",
        "df = pd.DataFrame({'x': X.flatten(), 'y': y.flatten()})\n",
        "\n",
        "X = df[[\"x\"]]\n",
        "y = df[\"y\"]\n",
        "px.scatter(df, \"x\", \"y\")\n"
      ]
    },
    {
      "cell_type": "code",
      "execution_count": null,
      "metadata": {},
      "outputs": [],
      "source": [
        "from sklearn.model_selection import train_test_split\n",
        "\n",
        "\n",
        "X_train, X_test, y_train, y_test = train_test_split(X, y, \n",
        "                                                    test_size=0.2, \n",
        "                                                    random_state=509)\n",
        "X_train.shape, X_test.shape, y_train.shape, y_test.shape"
      ]
    },
    {
      "cell_type": "code",
      "execution_count": 261,
      "metadata": {},
      "outputs": [],
      "source": [
        "# Linear regression\n",
        "model_line = LinearRegression()\n",
        "model_line.fit(X_train, y_train)\n",
        "\n",
        "y_train_pred_line = model_line.predict(X_train)\n",
        "y_test_pred_line = model_line.predict(X_test)\n",
        "\n",
        "# Polynomial regression\n",
        "model_poly = LinearRegression()\n",
        "poly = PolynomialFeatures(degree=40)\n",
        "poly.fit(X_train)\n",
        "\n",
        "model_poly.fit(poly.transform(X_train), y_train)\n",
        "\n",
        "y_train_pred_poly = model_poly.predict(poly.transform(X_train))\n",
        "\n",
        "y_test_pred_poly = model_poly.predict(poly.transform(X_test))"
      ]
    },
    {
      "cell_type": "markdown",
      "metadata": {},
      "source": [
        "#### Just a line"
      ]
    },
    {
      "cell_type": "code",
      "execution_count": null,
      "metadata": {},
      "outputs": [],
      "source": [
        "print(\"Train MSE - Line:\", mean_squared_error(y_train, y_train_pred_line))\n",
        "print(\"Test MSE - Line:\", mean_squared_error(y_test, y_test_pred_line))\n",
        "print()\n",
        "print(\"Train MSE - Poly:\", mean_squared_error(y_train, y_train_pred_poly))\n",
        "print(\"Test MSE - Poly:\", mean_squared_error(y_test, y_test_pred_poly))\n",
        "\n",
        "import plotly.express as px\n",
        "\n",
        "# Bar plots for Train and Test MSE\n",
        "mse_data = {\n",
        "    'Data': ['Train', 'Test'],\n",
        "    'Line': [mean_squared_error(y_train, y_train_pred_line), mean_squared_error(y_test, y_test_pred_line)],\n",
        "    'Poly': [mean_squared_error(y_train, y_train_pred_poly), mean_squared_error(y_test, y_test_pred_poly)]\n",
        "}\n",
        "\n",
        "mse_df = pd.DataFrame(mse_data)\n",
        "\n",
        "fig = px.bar(mse_df, x='Data', y=['Line', 'Poly'], barmode='group', title='Train and Test MSE for Line and Poly Models')\n",
        "fig.update_layout(yaxis_title='Mean Squared Error')\n",
        "fig.show()"
      ]
    },
    {
      "cell_type": "code",
      "execution_count": null,
      "metadata": {},
      "outputs": [],
      "source": [
        "# x_vals = np.linspace()\n",
        "\n",
        "# Sort the dataframe by 'x' values\n",
        "df_sorted = df.sort_values(by='x')\n",
        "\n",
        "# Extrapolate model to predict the entire range of x values\n",
        "y_pred_line = model_line.predict(df_sorted[['x']])\n",
        "y_pred_poly = model_poly.predict(poly.transform(df_sorted[['x']]))\n",
        "\n",
        "fig = px.scatter(df_sorted, \"x\", \"y\", title=\"Actual Data, Line Fit, Poly Fit\")\n",
        "fig.add_trace(go.Scatter(x=df_sorted[\"x\"], y=y_pred_line.flatten(), mode='lines', name='Line Fit'))\n",
        "fig.add_trace(go.Scatter(x=df_sorted[\"x\"], y=y_pred_poly.flatten(), mode='lines', name='Poly Fit'))\n",
        "fig.add_trace(go.Scatter(x=x_vals.flatten(), y=theta_0_true + theta_1_true * x_vals.flatten(), mode='lines', name='True Line'))\n",
        "\n",
        "fig.show()\n"
      ]
    },
    {
      "cell_type": "code",
      "execution_count": null,
      "metadata": {},
      "outputs": [],
      "source": [
        "fig.update_layout(xaxis=dict(range=[X.min(), X.max()]), \n",
        "                  yaxis=dict(range=[y.min(), y.max()]))"
      ]
    },
    {
      "cell_type": "markdown",
      "metadata": {},
      "source": [
        "# Underfitting and Overfitting\n",
        "\n",
        "Underfitting:\n",
        "- Շարքային Սողոմոնյան - https://www.youtube.com/watch?v=pv_4MVcjEik\n",
        "Overfitting:\n",
        "- Եթե կլոր ա ուրեմն մեջինը քառակուսի ա - https://www.youtube.com/watch?v=7arnxebkEUU \n",
        "\n"
      ]
    },
    {
      "cell_type": "markdown",
      "metadata": {},
      "source": [
        "## Examples"
      ]
    },
    {
      "cell_type": "markdown",
      "metadata": {},
      "source": [
        "### Overfitting: Astrological Predictions in Ancient Civilizations**\n",
        "**Historical Backdrop:**\n",
        "From Babylonian times onward, countless astrologers meticulously charted the positions of celestial bodies, connecting them with floods, famines, victories in war, and the births of royals.\n",
        "\n",
        "**Why it’s Overfitting:**\n",
        "- Ancient astrologers often looked at every tiny “coincidence” between a planetary alignment and historical events, building extremely specific rules. (E.g., “When Mars is in Taurus and the moon is half full, there will be a great harvest if the newborn prince is left-handed!”)\n",
        "- These detailed “models” fit prior observations too well, often capturing noise and coincidences rather than robust truths.\n",
        "\n",
        "**Moral of the Story:** \n",
        "Squeezing meaning out of every alignment of the stars is like overfitting on random noise in a dataset!\n",
        "\n",
        "### Underfitting: “Bleeding” as a Medieval Medical Treatment\n",
        "**Historical Backdrop:**\n",
        "For centuries, a common medical practice in Europe was bloodletting—draining blood to “rebalance the humors” and cure ailments from headaches to fevers.\n",
        "\n",
        "**Why it’s Underfitting:**\n",
        "- The medical “model” at the time was extremely simplistic: “Something’s wrong? Let’s remove blood.”\n",
        "- They applied the same one-size-fits-all approach to all sorts of diseases, ignoring the huge variability between different medical conditions (and patients).\n",
        "- Because the underlying theory was so rudimentary (the four humors concept), the “model” rarely fit the real complexity of physiology.\n",
        "  \n",
        "**Moral of the Story:**\n",
        " When your theory is too general and ignores most of the nuanced details, you’re underfitting the complexity of reality (and might end up making people worse).\n",
        "\n",
        "### Overfitting: Your Uncle’s Hyper-Specific Sports Superstitions\n",
        "**Everyday Fun Example:**\n",
        "Maybe you have an uncle who insists on wearing the exact same (unwashed) socks during every big game, needs to place the remote exactly 5 inches from the TV, and can only eat “lucky peanuts” if the score is tied.\n",
        "\n",
        "**Why it’s Overfitting:**\n",
        "- He’s discovered a string of coincidences: whenever he did those specific rituals, his team happened to win.\n",
        "- He’s latched onto every tiny detail—like someone building an overly complex machine-learning model that memorizes all the noise in the training data.\n",
        "- The moment “new data” arrives—i.e., the team loses despite the lucky peanuts—his model is proven to have no real predictive power.\n",
        "\n",
        "**Moral of the Story:** \n",
        "If your “model” requires that many hyper-specific conditions to “succeed,” it’s probably not robust!"
      ]
    },
    {
      "cell_type": "markdown",
      "metadata": {},
      "source": [
        "## Demo"
      ]
    },
    {
      "cell_type": "code",
      "execution_count": null,
      "metadata": {},
      "outputs": [],
      "source": [
        "import numpy as np\n",
        "import plotly.express as px\n",
        "import plotly.graph_objects as go\n",
        "from sklearn.preprocessing import PolynomialFeatures\n",
        "from sklearn.linear_model import LinearRegression\n",
        "from sklearn.metrics import mean_squared_error\n",
        "from sklearn.model_selection import train_test_split\n",
        "\n",
        "# ------------------------------------------------------------------------------\n",
        "# 1. Generate Synthetic Data (True degree = 3)\n",
        "# ------------------------------------------------------------------------------\n",
        "np.random.seed(509)\n",
        "poly_degree = 20\n",
        "\n",
        "# True polynomial function (3rd degree)\n",
        "def true_function(x):\n",
        "    # Example: y = 1 + 2x + 3x^2 + 4x^3, plus random noise\n",
        "    return 1 + 2*x + 3*x**2 + 4*x**3 + np.random.normal(0, 20, size=x.shape)\n",
        "\n",
        "def true_function_without_noise(x):\n",
        "    return 1 + 2*x + 3*x**2 + 4*x**3\n",
        "\n",
        "# Generate data\n",
        "N = 100\n",
        "X = np.linspace(-3, 3, N).reshape(-1, 1)\n",
        "y = true_function(X.ravel())\n",
        "\n",
        "# Split into train and test sets\n",
        "X_train, X_test, y_train, y_test = train_test_split(X, y, \n",
        "                                                    test_size=0.3, \n",
        "                                                    random_state=42)\n",
        "\n",
        "# ------------------------------------------------------------------------------\n",
        "# 2. Fit Polynomial Models of Degree 1 to 10 & Record MSE\n",
        "# ------------------------------------------------------------------------------\n",
        "degrees = range(1, poly_degree)\n",
        "train_mses = []\n",
        "test_mses = []\n",
        "polynomial_predictions = {}  # Store predictions for plotting\n",
        "\n",
        "# A dense grid for plotting model predictions\n",
        "X_plot = np.linspace(X.min(), X.max(), 200).reshape(-1, 1)\n",
        "\n",
        "for d in degrees:\n",
        "    # Create polynomial features\n",
        "    poly = PolynomialFeatures(degree=d)\n",
        "    X_train_poly = poly.fit_transform(X_train)\n",
        "    X_test_poly  = poly.transform(X_test)\n",
        "    X_plot_poly  = poly.transform(X_plot)\n",
        "    \n",
        "    # Fit linear regression on polynomial features\n",
        "    model = LinearRegression()\n",
        "    model.fit(X_train_poly, y_train)\n",
        "    \n",
        "    # Predict on train and test\n",
        "    y_train_pred = model.predict(X_train_poly)\n",
        "    y_test_pred  = model.predict(X_test_poly)\n",
        "    \n",
        "    # Calculate MSE\n",
        "    train_mse = mean_squared_error(y_train, y_train_pred)\n",
        "    test_mse  = mean_squared_error(y_test,  y_test_pred)\n",
        "    \n",
        "    train_mses.append(train_mse)\n",
        "    test_mses.append(test_mse)\n",
        "    \n",
        "    # Store predictions for the plotting slider\n",
        "    y_plot_pred = model.predict(X_plot_poly)\n",
        "    polynomial_predictions[d] = y_plot_pred\n",
        "\n",
        "# ------------------------------------------------------------------------------\n",
        "# 3. Plot MSE vs. Polynomial Degree (Line Chart)\n",
        "# ------------------------------------------------------------------------------\n",
        "df_mse = {\n",
        "    'Degree': list(degrees),\n",
        "    'Train MSE': train_mses,\n",
        "    'Test MSE': test_mses\n",
        "}\n",
        "\n",
        "fig_mse = px.line(\n",
        "    df_mse, \n",
        "    x='Degree', \n",
        "    y=['Train MSE', 'Test MSE'], \n",
        "    markers=True,\n",
        "    title=\"Train & Test MSE vs. Polynomial Degree\"\n",
        ")\n",
        "fig_mse.update_layout(\n",
        "    xaxis = dict(dtick=1),\n",
        "    yaxis_title=\"MSE\"\n",
        ")\n",
        "\n",
        "# ------------------------------------------------------------------------------\n",
        "# 4. Interactive Plot: Data + Fitted Polynomials (Slider)\n",
        "# ------------------------------------------------------------------------------\n",
        "# We'll create a figure with:\n",
        "#   - Scatter of the training data\n",
        "#   - Scatter of the test data (optional, or we can mark them differently)\n",
        "#   - A line that updates for each polynomial degree using frames.\n",
        "\n",
        "# Base scatter (training data)\n",
        "scatter_train = go.Scatter(\n",
        "    x=X_train.ravel(), \n",
        "    y=y_train, \n",
        "    mode='markers',\n",
        "    name='Train Data',\n",
        "    marker=dict(color='blue', size=6)\n",
        ")\n",
        "\n",
        "# Optionally, scatter for test data\n",
        "scatter_test = go.Scatter(\n",
        "    x=X_test.ravel(), \n",
        "    y=y_test, \n",
        "    mode='markers',\n",
        "    name='Test Data',\n",
        "    marker=dict(color='red', size=6)\n",
        ")\n",
        "\n",
        "# We'll build frames for each polynomial degree\n",
        "frames = []\n",
        "for d in degrees:\n",
        "    # Create a line trace for the polynomial prediction at degree d\n",
        "    line_pred = go.Scatter(\n",
        "        x=X_plot.ravel(),\n",
        "        y=polynomial_predictions[d],\n",
        "        mode='lines',\n",
        "        line=dict(width=3),\n",
        "        name=f\"Degree {d} fit\"\n",
        "    )\n",
        "    frames.append(\n",
        "        go.Frame(\n",
        "            data=[scatter_train, scatter_test, line_pred],\n",
        "            name=str(d)\n",
        "        )\n",
        "    )\n",
        "\n",
        "# Initial line (degree=1 by default)\n",
        "init_line = go.Scatter(\n",
        "    x=X_plot.ravel(),\n",
        "    y=polynomial_predictions[1],\n",
        "    mode='lines',\n",
        "    line=dict(width=3),\n",
        "    name=f\"Degree 1 fit\"\n",
        ")\n",
        "\n",
        "# Build the figure with the first frame's data\n",
        "fig_poly = go.Figure(\n",
        "    data=[scatter_train, scatter_test, init_line],\n",
        "    layout=go.Layout(\n",
        "        title=\"Polynomial Fits (Degree Slider)\",\n",
        "        xaxis=dict(title=\"X\"),\n",
        "        yaxis=dict(title=\"y\"),\n",
        "        updatemenus=[  # Slider button settings\n",
        "            dict(\n",
        "                type=\"buttons\",\n",
        "                showactive=False,\n",
        "                x=1.15,\n",
        "                y=1.15,\n",
        "                xanchor=\"right\",\n",
        "                yanchor=\"top\",\n",
        "                buttons=[\n",
        "                    dict(label=\"Play\",\n",
        "                         method=\"animate\",\n",
        "                         args=[None, \n",
        "                               dict(frame=dict(duration=500, redraw=True),\n",
        "                                    fromcurrent=True,\n",
        "                                    transition=dict(duration=300)\n",
        "                                   )\n",
        "                              ]\n",
        "                        )\n",
        "                ]\n",
        "            )\n",
        "        ],\n",
        "        # We'll define sliders next\n",
        "        sliders=[{\n",
        "            'currentvalue': {'prefix': 'Degree: ', 'xanchor': 'right'},\n",
        "            'steps': [\n",
        "                {\n",
        "                    'label': str(d),\n",
        "                    'method': 'animate',\n",
        "                    'args': [[str(d)], \n",
        "                             dict(mode='immediate',\n",
        "                                  frame=dict(duration=300, redraw=True),\n",
        "                                  transition=dict(duration=300))]\n",
        "                }\n",
        "                for d in degrees\n",
        "            ]\n",
        "        }]\n",
        "    ),\n",
        "    frames=frames\n",
        ")\n",
        "\n",
        "# add the true function to fig_poly\n",
        "true_y = true_function_without_noise(X_plot.ravel())\n",
        "fig_poly.add_trace(go.Scatter(x=X_plot.ravel(), y=true_y, mode='lines', name='True Function'))\n",
        "\n",
        "\n",
        "\n",
        "\n",
        "# ------------------------------------------------------------------------------\n",
        "# 5. Show the plots\n",
        "# ------------------------------------------------------------------------------\n",
        "fig_poly.show()\n",
        "fig_mse.show()\n"
      ]
    },
    {
      "cell_type": "markdown",
      "metadata": {},
      "source": [
        "## Bias Variance decomposition\n",
        "https://scott.fortmann-roe.com/docs/BiasVariance.html"
      ]
    },
    {
      "attachments": {
        "image.png": {
          "image/png": "[encoded data removed]"
        }
      },
      "cell_type": "markdown",
      "metadata": {},
      "source": [
        "![image.png](attachment:image.png)"
      ]
    },
    {
      "cell_type": "markdown",
      "metadata": {},
      "source": []
    },
    {
      "cell_type": "code",
      "execution_count": null,
      "metadata": {},
      "outputs": [],
      "source": []
    },
    {
      "cell_type": "code",
      "execution_count": null,
      "metadata": {},
      "outputs": [],
      "source": [
        "x_vals"
      ]
    },
    {
      "cell_type": "markdown",
      "metadata": {},
      "source": [
        "# 23 Jan"
      ]
    },
    {
      "cell_type": "markdown",
      "metadata": {},
      "source": [
        "# Evaluation"
      ]
    },
    {
      "cell_type": "markdown",
      "metadata": {},
      "source": [
        "## Classics\n",
        "Go to PDF"
      ]
    },
    {
      "cell_type": "markdown",
      "metadata": {},
      "source": [
        "## Pearson and Spearman Correlation"
      ]
    },
    {
      "cell_type": "code",
      "execution_count": 181,
      "metadata": {},
      "outputs": [],
      "source": [
        "### Pearson's vs Spearman's Correlation in Python\n",
        "import matplotlib.pyplot as plt\n",
        "import numpy as np\n",
        "from scipy.stats import pearsonr, spearmanr\n",
        "\n",
        "# Generate sample data\n",
        "np.random.seed(509)\n",
        "x = np.linspace(1, 100, 100)\n",
        "y_linear = 2 * x + np.random.normal(0, 10, size=len(x))  # Linear relationship\n",
        "y_monotonic = np.log(x) + np.random.normal(0, 0.2, size=len(x))  # Monotonic but not linear\n",
        "y_outlier = y_linear.copy()\n",
        "y_outlier[-1] += 50_900  # Add an outlier"
      ]
    },
    {
      "cell_type": "code",
      "execution_count": 182,
      "metadata": {},
      "outputs": [],
      "source": [
        "# Calculate correlation values\n",
        "pearson_linear = pearsonr(x, y_linear)[0]\n",
        "spearman_linear = spearmanr(x, y_linear)[0]\n",
        "\n",
        "pearson_monotonic = pearsonr(x, y_monotonic)[0]\n",
        "spearman_monotonic = spearmanr(x, y_monotonic)[0]\n",
        "\n",
        "pearson_outlier = pearsonr(x, y_outlier)[0]\n",
        "spearman_outlier = spearmanr(x, y_outlier)[0]"
      ]
    },
    {
      "cell_type": "code",
      "execution_count": null,
      "metadata": {
        "id": "Rf16oPgg0zWW"
      },
      "outputs": [],
      "source": [
        "import plotly.express as px\n",
        "import plotly.graph_objects as go\n",
        "\n",
        "# Pearson's linear correlation example\n",
        "fig1 = px.scatter(x=x, y=y_linear, title=f\"Linear Relationship | Pearson - {pearson_linear:.2f} | Spearman - {spearman_linear:.2f}\")\n",
        "fig1.add_trace(go.Scatter(x=x, y=y_linear, mode='markers'))\n",
        "fig1.update_layout(xaxis_title=\"X\", yaxis_title=\"Y\")\n",
        "fig1.show()\n",
        "\n",
        "# Spearman's monotonic relationship example\n",
        "fig2 = px.scatter(x=x, y=y_monotonic, title=f\"Monotonic Relationship | Pearson - {pearson_monotonic:.2f} | Spearman - {spearman_monotonic:.2f}\")\n",
        "fig2.add_trace(go.Scatter(x=x, y=y_monotonic, mode='markers'))\n",
        "fig2.update_layout(xaxis_title=\"X\", yaxis_title=\"Y (Rank-based)\")\n",
        "fig2.show()\n",
        "\n",
        "# Pearson with outlier example\n",
        "fig3 = px.scatter(x=x, y=y_outlier, title=f\"Outlier | Pearson - {pearson_outlier:.2f} | Spearman - {spearman_outlier:.2f}\")\n",
        "fig3.add_trace(go.Scatter(x=x, y=y_outlier, mode='markers'))\n",
        "fig3.update_layout(xaxis_title=\"X\", yaxis_title=\"Y\")\n",
        "fig3.show()\n",
        "\n",
        "# Spearman on sine wave\n",
        "x = np.linspace(0, 1 * np.pi, 100)\n",
        "y = np.sin(x)\n",
        "\n",
        "pearson_sine = pearsonr(x, y)[0]\n",
        "spearman_sine = spearmanr(x, y)[0]\n",
        "\n",
        "fig4 = px.scatter(x=x, y=y, title=f\"Sine Wave | Pearson - {pearson_sine:.2f} | Spearman - {spearman_sine:.2f}\")\n",
        "fig4.add_trace(go.Scatter(x=x, y=y, mode='markers'))\n",
        "fig4.update_layout(xaxis_title=\"X\", yaxis_title=\"Y\")\n",
        "fig4.show()\n"
      ]
    },
    {
      "cell_type": "markdown",
      "metadata": {},
      "source": [
        "## Pearson's Correlation (r)\n",
        "- Measures the **linear relationship** between two variables.\n",
        "- Assumes data is normally distributed.\n",
        "- **Sensitive to outliers**.\n",
        "- Values range from -1 to +1:\n",
        "  - **+1**: Perfect positive linear correlation.\n",
        "  - **-1**: Perfect negative linear correlation.\n",
        "  - **0**: No linear correlation.\n",
        "\n",
        "### Formula:\n",
        "$$\n",
        "r = \\frac{\\sum (x_i - \\bar{x})(y_i - \\bar{y})}{\\sqrt{\\sum (x_i - \\bar{x})^2 \\sum (y_i - \\bar{y})^2}}\n",
        "$$\n",
        "\n",
        "## Spearman's Correlation (ρ)\n",
        "- Measures the **monotonic relationship** between two variables.\n",
        "- Does **not assume normality** (non-parametric).\n",
        "- **Robust against outliers**.\n",
        "- Values range from -1 to +1:\n",
        "  - **+1**: Perfect positive monotonic relationship.\n",
        "  - **-1**: Perfect negative monotonic relationship.\n",
        "  - **0**: No monotonic relationship.\n",
        "\n",
        "### Formula:\n",
        "$$\n",
        "\\rho = 1 - \\frac{6 \\sum d_i^2}{n(n^2 - 1)}\n",
        "$$\n",
        "- $d_i$: Difference between ranks of $x_i$ and $y_i$.\n",
        "- $n$: Number of pairs.\n",
        "\n",
        "## When to Use:\n",
        "| **Criteria**             | **Pearson**              | **Spearman**             |\n",
        "|---------------------------|--------------------------|--------------------------|\n",
        "| **Linear Relationship**   | Yes                     | No                      |\n",
        "| **Monotonic Relationship**| No                      | Yes                     |\n",
        "| **Outlier Sensitivity**   | High                    | Low                     |\n",
        "| **Normality Assumption**  | Yes                     | No                      |\n",
        "\n",
        "---\n",
        "\"\"\"\n"
      ]
    },
    {
      "cell_type": "markdown",
      "metadata": {},
      "source": [
        "## Visual evaluation + Codes"
      ]
    },
    {
      "cell_type": "code",
      "execution_count": 184,
      "metadata": {},
      "outputs": [],
      "source": [
        "model = LinearRegression()\n",
        "model.fit(X_train_poly, y_train)\n",
        "\n",
        "\n",
        "y_train_pred = model.predict(X_train_poly)\n",
        "y_test_pred = model.predict(X_test_poly)"
      ]
    },
    {
      "cell_type": "code",
      "execution_count": 185,
      "metadata": {},
      "outputs": [],
      "source": [
        "# https://github.com/HaykTarkhanyan/coder_moder/blob/main/ml/regression_evaluation_report.py\n",
        "def evaluate_regression(actual, predictions,\n",
        "    model_name=None, filename=None, notes=None,\n",
        "    return_metrics=False, show_plots=False,\n",
        "    show_metrics=True, plots=False, round_digits=3):\n",
        "    \"\"\"\n",
        "    Function to evaluate a regression model.\n",
        "\n",
        "    .. warning::\n",
        "        Assumes that ``scipy``, ``sklearn``, and ``matplotlib`` are installed\n",
        "        in your environment.\n",
        "\n",
        "    This function:\n",
        "        - Prints R2, MAE, MSE, RMSE metrics.\n",
        "        - Prints Kendall's tau, Pearson's R, Spearman's rho correlation metrics.\n",
        "        - Plots actual vs. predicted values.\n",
        "        - Plots residuals vs. predicted values.\n",
        "        - Plots distribution of residuals.\n",
        "        - Plots predicted vs. actual distribution.\n",
        "        - Saves results to file (if specified).\n",
        "        - Returns metrics as a dictionary (if specified).\n",
        "    Args:\n",
        "        actual (array-like): Ground-truth target values.\n",
        "        predictions (array-like): Model predictions.\n",
        "        model_name (str, optional): Name of the model (for display/record-keeping).\n",
        "        filename (str, optional): Path to an HTML file to save the results.\n",
        "        notes (str, optional): Additional notes to include in the saved file (if `filename` is provided).\n",
        "        return_metrics (bool, optional): If True, returns a dictionary of metrics. Defaults to False.\n",
        "        show_plots (bool, optional): If True, calls `plt.show()` for each figure. Defaults to False.\n",
        "        show_metrics (bool, optional): If True, prints the metrics and correlations to stdout. Defaults to True.\n",
        "        plots (bool, optional): If True, generates plots. Defaults to False.\n",
        "        round_digits (int, optional): Number of digits to round the metrics. Defaults to 3.\n",
        "\n",
        "    Returns:\n",
        "        dict or None: \n",
        "            A dictionary of computed metrics if `return_metrics=True`, otherwise None.\n",
        "    \"\"\"\n",
        "    import numpy as np\n",
        "    import matplotlib.pyplot as plt\n",
        "    from sklearn.metrics import r2_score, mean_absolute_error, mean_squared_error, mean_absolute_percentage_error\n",
        "    from scipy.stats import kendalltau, pearsonr, spearmanr\n",
        "    from datetime import datetime\n",
        "    from io import BytesIO\n",
        "    import base64\n",
        "    # Ensure inputs are NumPy arrays\n",
        "    actual = np.array(actual)\n",
        "    predictions = np.array(predictions)\n",
        "\n",
        "    def save_figure_to_file(fig):\n",
        "        \"\"\"\n",
        "        Helper function:\n",
        "        Convert a Matplotlib figure to a base64-encoded PNG for embedding in HTML.\n",
        "        \"\"\"\n",
        "        tmpfile = BytesIO()\n",
        "        fig.savefig(tmpfile, format='png')\n",
        "        encoded = base64.b64encode(tmpfile.getvalue()).decode('utf-8')\n",
        "        return encoded\n",
        "\n",
        "    # 1. Calculate regression metrics\n",
        "    r2 = round(r2_score(actual, predictions), round_digits)\n",
        "    mae = round(mean_absolute_error(actual, predictions), round_digits)\n",
        "    mape = round(mean_absolute_percentage_error(actual, predictions), round_digits)\n",
        "    mse = round(mean_squared_error(actual, predictions), round_digits)\n",
        "    rmse = round(np.sqrt(mean_squared_error(actual, predictions)), round_digits)\n",
        "\n",
        "    # 2. Calculate correlation metrics\n",
        "    pearson = round(pearsonr(actual, predictions)[0], round_digits)\n",
        "    spearman = round(spearmanr(actual, predictions)[0], round_digits)\n",
        "    kendall = round(kendalltau(actual, predictions)[0], round_digits)\n",
        "\n",
        "    # 3. Print metrics if needed\n",
        "    if show_metrics:\n",
        "        print(f\"Model: {model_name or 'N/A'}\")\n",
        "        print(f\"R2: {r2}\")\n",
        "        print(f\"MAE: {mae}\")\n",
        "        print(f\"MAPE: {mape}\")\n",
        "        print(f\"MSE: {mse}\")\n",
        "        print(f\"RMSE: {rmse}\")\n",
        "        print(f\"Pearson Correlation: {pearson}\")\n",
        "        print(f\"Spearman Rho: {spearman}\")\n",
        "        print(f\"Kendall Tau: {kendall}\")\n",
        "\n",
        "    # 4. Generate plots if requested\n",
        "    if plots:\n",
        "        residuals = actual - predictions\n",
        "\n",
        "        # (a) Predicted vs. Actual\n",
        "        fig1 = plt.figure()\n",
        "        plt.scatter(actual, predictions, edgecolor='k', alpha=0.7)\n",
        "        plt.xlabel(\"Actual\")\n",
        "        plt.ylabel(\"Predicted\")\n",
        "        plt.title(\"Predicted vs. Actual\")\n",
        "        # add a diagonal line\n",
        "        plt.plot([actual.min(), actual.max()], [actual.min(), actual.max()], 'k--', lw=2)\n",
        "        if show_plots:\n",
        "            plt.show()\n",
        "        prediction_vs_actual = save_figure_to_file(fig1)\n",
        "        plt.close(fig1)\n",
        "\n",
        "        # (b) Residuals vs. Predicted\n",
        "        fig2 = plt.figure()\n",
        "        plt.scatter(predictions, residuals, edgecolor='k', alpha=0.7)\n",
        "        plt.axhline(y=0, color='r', linestyle='--')\n",
        "        plt.xlabel(\"Predicted\")\n",
        "        plt.ylabel(\"Residual\")\n",
        "        plt.title(\"Residuals vs. Predicted\")\n",
        "        if show_plots:\n",
        "            plt.show()\n",
        "        residuals_vs_predicted = save_figure_to_file(fig2)\n",
        "        plt.close(fig2)\n",
        "\n",
        "        # (c) Distribution of Residuals\n",
        "        fig3 = plt.figure()\n",
        "        plt.hist(residuals, bins=30, edgecolor='k', alpha=0.7)\n",
        "        plt.xlabel(\"Residual\")\n",
        "        plt.ylabel(\"Count\")\n",
        "        plt.title(\"Distribution of Residuals\")\n",
        "        if show_plots:\n",
        "            plt.show()\n",
        "        residuals_distribution = save_figure_to_file(fig3)\n",
        "        plt.close(fig3)\n",
        "\n",
        "        # (d) Distribution of Predicted vs. Actual\n",
        "        fig4 = plt.figure()\n",
        "        plt.hist(actual, bins=30, alpha=0.5, label=\"Actual\", edgecolor='k')\n",
        "        plt.hist(predictions, bins=30, alpha=0.5, label=\"Predicted\", edgecolor='k')\n",
        "        plt.xlabel(\"Value\")\n",
        "        plt.ylabel(\"Count\")\n",
        "        plt.title(\"Distribution of Predicted vs. Actual\")\n",
        "        plt.legend()\n",
        "        if show_plots:\n",
        "            plt.show()\n",
        "        predicted_vs_actual_distribution = save_figure_to_file(fig4)\n",
        "        plt.close(fig4)\n",
        "\n",
        "    # 5. Save results to file (HTML) if requested\n",
        "    if filename:\n",
        "        with open(filename, \"w\") as f:\n",
        "            f.write(f\"<html><body>\\n\")\n",
        "            f.write(f\"<h2>Report generated: {datetime.now()}</h2>\\n\")\n",
        "            if model_name:\n",
        "                f.write(f\"<h2>Model Name: {model_name}</h2>\\n\")\n",
        "\n",
        "            if notes:\n",
        "                f.write(f\"<h3>Notes:</h3>\\n<p>{notes}</p>\\n\")\n",
        "\n",
        "            f.write(\"<h3>Metrics</h3>\\n\")\n",
        "            f.write(f\"<b>R2:</b> {r2} <br>\\n\")\n",
        "            f.write(f\"<b>MAE:</b> {mae} <br>\\n\")\n",
        "            f.write(f\"<b>MAPE:</b> {mape} <br>\\n\")\n",
        "            f.write(f\"<b>MSE:</b> {mse} <br>\\n\")\n",
        "            f.write(f\"<b>RMSE:</b> {rmse} <br>\\n\")\n",
        "\n",
        "            f.write(\"<h3>Correlations</h3>\\n\")\n",
        "            f.write(f\"Pearson: {pearson} <br>\\n\")\n",
        "            f.write(f\"Spearman: {spearman} <br>\\n\")\n",
        "            f.write(f\"Kendall Tau: {kendall} <br>\\n\")\n",
        "\n",
        "            if plots:\n",
        "                f.write(\"<h3>Plots</h3>\\n\")\n",
        "                f.write(f'<img src=\"data:image/png;base64,{prediction_vs_actual}\"><br><br>\\n')\n",
        "                f.write(f'<img src=\"data:image/png;base64,{residuals_vs_predicted}\"><br><br>\\n')\n",
        "                f.write(f'<img src=\"data:image/png;base64,{residuals_distribution}\"><br><br>\\n')\n",
        "                f.write(f'<img src=\"data:image/png;base64,{predicted_vs_actual_distribution}\"><br><br>\\n')\n",
        "\n",
        "            f.write(\"</body></html>\\n\")\n",
        "\n",
        "    # 6. Optionally return a dictionary of metrics\n",
        "    if return_metrics:\n",
        "        return {\n",
        "            \"model_name\": model_name,\n",
        "            \"notes\": notes,\n",
        "            \"r2\": r2,\n",
        "            \"mae\": mae,\n",
        "            \"mape\": mape,\n",
        "            \"mse\": mse,\n",
        "            \"rmse\": rmse,\n",
        "            \"pearson\": pearson,\n",
        "            \"spearman\": spearman,\n",
        "            \"kendall\": kendall\n",
        "        }\n"
      ]
    },
    {
      "cell_type": "code",
      "execution_count": null,
      "metadata": {},
      "outputs": [],
      "source": [
        "evaluate_regression(y_train, y_train_pred, model_name=\"Linear Regression\", filename=\"report.html\", show_plots=True, plots=True)"
      ]
    },
    {
      "cell_type": "code",
      "execution_count": null,
      "metadata": {},
      "outputs": [],
      "source": [
        "evaluate_regression(y_test, y_test_pred, model_name=\"Linear Regression\", filename=\"report.html\", show_plots=True, plots=True)"
      ]
    },
    {
      "cell_type": "markdown",
      "metadata": {},
      "source": [
        "# Cross Validation\n",
        "https://scikit-learn.org/1.5/modules/cross_validation.html"
      ]
    },
    {
      "cell_type": "code",
      "execution_count": null,
      "metadata": {},
      "outputs": [],
      "source": [
        "1 2 3 4 5\n",
        "\n",
        "1 2 3 4 | 5\n",
        "1 2 3 5 | 4\n",
        "1 2 4 5 | 3"
      ]
    },
    {
      "cell_type": "markdown",
      "metadata": {},
      "source": [
        "# Regulaization\n",
        "Go to pdf"
      ]
    },
    {
      "cell_type": "code",
      "execution_count": null,
      "metadata": {},
      "outputs": [],
      "source": [
        "import numpy as np\n",
        "import plotly.express as px\n",
        "import plotly.graph_objects as go\n",
        "from sklearn.preprocessing import PolynomialFeatures\n",
        "from sklearn.linear_model import Ridge, Lasso\n",
        "from sklearn.metrics import mean_squared_error\n",
        "from sklearn.model_selection import train_test_split\n",
        "\n",
        "# ------------------------------------------------------------------------------\n",
        "# 1. Generate Synthetic Data (True degree = 3)\n",
        "# ------------------------------------------------------------------------------\n",
        "np.random.seed(509)\n",
        "\n",
        "def true_function(x):\n",
        "    # Example: y = 1 + 2x + 3x^2 + 4x^3, plus random noise\n",
        "    return 1 + 2*x + 3*x**2 + 4*x**3 + np.random.normal(0, 20, size=x.shape)\n",
        "\n",
        "def true_function_without_noise(x):\n",
        "    return 1 + 2*x + 3*x**2 + 4*x**3\n",
        "\n",
        "# Generate data\n",
        "N = 100\n",
        "X = np.linspace(-3, 3, N).reshape(-1, 1)\n",
        "y = true_function(X.ravel())\n",
        "\n",
        "# Split into train and test sets\n",
        "X_train, X_test, y_train, y_test = train_test_split(\n",
        "    X, y, test_size=0.3, random_state=42\n",
        ")\n",
        "\n",
        "# ------------------------------------------------------------------------------\n",
        "# 2. Fix Polynomial Degree = 10, Vary Regularization Strength (alpha)\n",
        "# ------------------------------------------------------------------------------\n",
        "degree = 20\n",
        "model_name = \"Ridge\"  # \"Ridge\" or \"Lasso\"\n",
        "alpha_values = [0.001, 0.01, 0.1, 1, 10, 100]  # Example alpha (lambda) values\n",
        "\n",
        "# Prepare polynomial features (degree=10) once\n",
        "poly = PolynomialFeatures(degree=degree)\n",
        "X_train_poly = poly.fit_transform(X_train)\n",
        "X_test_poly  = poly.transform(X_test)\n",
        "\n",
        "# A dense grid for plotting model predictions\n",
        "X_plot = np.linspace(X.min(), X.max(), 200).reshape(-1, 1)\n",
        "X_plot_poly = poly.transform(X_plot)\n",
        "\n",
        "train_mses = []\n",
        "test_mses = []\n",
        "predictions = {}\n",
        "\n",
        "# Fit a Ridge model for each alpha\n",
        "for alpha_val in alpha_values:\n",
        "    if model_name == \"Lasso\":\n",
        "        model = Lasso(alpha=alpha_val)\n",
        "    else:\n",
        "        model = Ridge(alpha=alpha_val)\n",
        "    model.fit(X_train_poly, y_train)\n",
        "    \n",
        "    # Compute predictions and MSE for train / test\n",
        "    y_train_pred = model.predict(X_train_poly)\n",
        "    y_test_pred  = model.predict(X_test_poly)\n",
        "    train_mse = mean_squared_error(y_train, y_train_pred)\n",
        "    test_mse  = mean_squared_error(y_test,  y_test_pred)\n",
        "\n",
        "    train_mses.append(train_mse)\n",
        "    test_mses.append(test_mse)\n",
        "    \n",
        "    # Store predictions on the plotting grid\n",
        "    y_plot_pred = model.predict(X_plot_poly)\n",
        "    predictions[alpha_val] = y_plot_pred\n",
        "\n",
        "# ------------------------------------------------------------------------------\n",
        "# 3. Plot MSE vs. alpha\n",
        "# ------------------------------------------------------------------------------\n",
        "df_mse = {\n",
        "    'Alpha': alpha_values,\n",
        "    'Train MSE': train_mses,\n",
        "    'Test MSE': test_mses\n",
        "}\n",
        "\n",
        "fig_mse = px.line(\n",
        "    df_mse,\n",
        "    x='Alpha',\n",
        "    y=['Train MSE', 'Test MSE'],\n",
        "    markers=True,\n",
        "    title=f\"MSE vs. Alpha (Polynomial Degree = {degree})\"\n",
        ")\n",
        "# Optionally make the x-axis log scale for clarity:\n",
        "# fig_mse.update_layout(xaxis_type='log')\n",
        "fig_mse.update_layout(yaxis_title=\"MSE\")\n",
        "\n",
        "# ------------------------------------------------------------------------------\n",
        "# 4. Interactive Plot: Data + Fitted Polynomials (Slider over alpha)\n",
        "# ------------------------------------------------------------------------------\n",
        "scatter_train = go.Scatter(\n",
        "    x=X_train.ravel(), \n",
        "    y=y_train, \n",
        "    mode='markers',\n",
        "    name='Train Data',\n",
        "    marker=dict(color='blue', size=6)\n",
        ")\n",
        "\n",
        "scatter_test = go.Scatter(\n",
        "    x=X_test.ravel(), \n",
        "    y=y_test, \n",
        "    mode='markers',\n",
        "    name='Test Data',\n",
        "    marker=dict(color='red', size=6)\n",
        ")\n",
        "\n",
        "true_y = true_function_without_noise(X_plot.ravel())\n",
        "scatter_true = go.Scatter(\n",
        "    x=X_plot.ravel(),\n",
        "    y=true_y,\n",
        "    mode='lines',\n",
        "    name='True Function',\n",
        "    line=dict(dash='dash', color='black')\n",
        ")\n",
        "\n",
        "# Create frames for each alpha\n",
        "frames = []\n",
        "for alpha_val in alpha_values:\n",
        "    line_pred = go.Scatter(\n",
        "        x=X_plot.ravel(),\n",
        "        y=predictions[alpha_val],\n",
        "        mode='lines',\n",
        "        line=dict(width=3),\n",
        "        name=f\"alpha={alpha_val}\"\n",
        "    )\n",
        "    frames.append(go.Frame(data=[scatter_train, scatter_test, scatter_true, line_pred],\n",
        "                           name=str(alpha_val)))\n",
        "\n",
        "# Initial line (use the first alpha in alpha_values)\n",
        "init_line = go.Scatter(\n",
        "    x=X_plot.ravel(),\n",
        "    y=predictions[alpha_values[0]],\n",
        "    mode='lines',\n",
        "    line=dict(width=3),\n",
        "    name=f\"alpha={alpha_values[0]}\"\n",
        ")\n",
        "\n",
        "fig_poly = go.Figure(\n",
        "    data=[scatter_train, scatter_test, scatter_true, init_line],\n",
        "    layout=go.Layout(\n",
        "        title=f\"Polynomial Degree={degree} with {model_name} Regularization (Slider: alpha)\",\n",
        "        xaxis=dict(title=\"X\"),\n",
        "        yaxis=dict(title=\"y\"),\n",
        "        updatemenus=[\n",
        "            dict(\n",
        "                type=\"buttons\",\n",
        "                showactive=False,\n",
        "                x=1.15,\n",
        "                y=1.15,\n",
        "                xanchor=\"right\",\n",
        "                yanchor=\"top\",\n",
        "                buttons=[\n",
        "                    dict(label=\"Play\",\n",
        "                         method=\"animate\",\n",
        "                         args=[None,\n",
        "                               dict(frame=dict(duration=500, redraw=True),\n",
        "                                    fromcurrent=True,\n",
        "                                    transition=dict(duration=300))])\n",
        "                ]\n",
        "            )\n",
        "        ],\n",
        "        sliders=[{\n",
        "            'currentvalue': {'prefix': 'Alpha: ', 'xanchor': 'right'},\n",
        "            'steps': [\n",
        "                {\n",
        "                    'label': str(a),\n",
        "                    'method': 'animate',\n",
        "                    'args': [[str(a)],\n",
        "                             dict(mode='immediate',\n",
        "                                  frame=dict(duration=300, redraw=True),\n",
        "                                  transition=dict(duration=300))]\n",
        "                } for a in alpha_values\n",
        "            ]\n",
        "        }]\n",
        "    ),\n",
        "    frames=frames\n",
        ")\n",
        "\n",
        "# ------------------------------------------------------------------------------\n",
        "# 5. Show the plots\n",
        "# ------------------------------------------------------------------------------\n",
        "fig_poly.show()\n",
        "fig_mse.show()\n"
      ]
    },
    {
      "cell_type": "code",
      "execution_count": null,
      "metadata": {},
      "outputs": [],
      "source": []
    }
  ],
  "metadata": {
    "colab": {
      "collapsed_sections": [
        "90ONZI1ep-l0"
      ],
      "provenance": [],
      "toc_visible": true
    },
    "kernelspec": {
      "display_name": "thesis",
      "language": "python",
      "name": "python3"
    },
    "language_info": {
      "codemirror_mode": {
        "name": "ipython",
        "version": 3
      },
      "file_extension": ".py",
      "mimetype": "text/x-python",
      "name": "python",
      "nbconvert_exporter": "python",
      "pygments_lexer": "ipython3",
      "version": "3.10.14"
    }
  },
  "nbformat": 4,
  "nbformat_minor": 0
}
